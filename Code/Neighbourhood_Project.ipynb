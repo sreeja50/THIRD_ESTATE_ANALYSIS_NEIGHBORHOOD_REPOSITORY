{
 "cells": [
  {
   "cell_type": "markdown",
   "metadata": {
    "colab_type": "text",
    "id": "oRHM3zwhLX_t"
   },
   "source": [
    "# **Neighborhood Ranking - Buffalo,NY | Third Estate Analytics**"
   ]
  },
  {
   "cell_type": "markdown",
   "metadata": {
    "colab_type": "text",
    "id": "3uHOZffBO_rh"
   },
   "source": [
    "## Overview about the company "
   ]
  },
  {
   "cell_type": "markdown",
   "metadata": {
    "colab_type": "text",
    "id": "1yjTiCYqL6c6"
   },
   "source": [
    "##### Third estate analytics is a company owned by Third Estate Ventures which is a real estate agency in the Buffalo/Niagara region. The organisation is developing a tool which can be used to suggest neighborhoods based on the need and amount of development it had over years. They are interested in investing on the fastest developing regions in all the similar sized cities.  "
   ]
  },
  {
   "cell_type": "markdown",
   "metadata": {
    "colab_type": "text",
    "id": "Chmr-J3ZPHol"
   },
   "source": [
    "## Problem statement "
   ]
  },
  {
   "cell_type": "markdown",
   "metadata": {
    "colab_type": "text",
    "id": "-N7LfsB2U5Lr"
   },
   "source": [
    "The client is interested in investing in the regions which might develop in the forthcoming years. The overall idea of the project is to build a model which can determine the ranking of all the neighborhoods across the Buffalo in order of development over years .The broader scope of the project is to run the model across all the similar sized cities across the US . "
   ]
  },
  {
   "cell_type": "markdown",
   "metadata": {
    "colab_type": "text",
    "id": "aknF2wiPVEz0"
   },
   "source": [
    "***Dataset*** : To achieve the above goal the datasets are being taken from Open data portal of Buffalo .\n",
    "URL : https://data.buffalony.gov/\n",
    "The datasets considered are :\n",
    "1. Tows \n",
    "2. Parking Violations\n",
    "3. Code Violations\n",
    "4. Assessment Roll \n",
    "5. Housing Violations "
   ]
  },
  {
   "cell_type": "markdown",
   "metadata": {
    "colab_type": "text",
    "id": "bT6Ineq4rqY9"
   },
   "source": [
    "### Number of Records - 2.5 million rows"
   ]
  },
  {
   "cell_type": "markdown",
   "metadata": {
    "colab_type": "text",
    "id": "pcMLYl0zVFbn"
   },
   "source": [
    "The datasets are mapped against walkscore and assessement value\n",
    "\n",
    "***Walkscore***:Walk Score measures the walkability of any address using a patented system. Walk Score also measures pedestrian friendliness by analyzing population density and road metrics such as block length and intersection density\n",
    "\n",
    "***Assessed Value***:An assessed value is the dollar value assigned to a property to measure applicable taxes. Assessed valuation determines the value of a residence for tax purposes and takes comparable home sales and inspections into consideration"
   ]
  },
  {
   "cell_type": "markdown",
   "metadata": {
    "colab_type": "text",
    "id": "sCLJSwQ7-mGq"
   },
   "source": [
    "**Libraries Used**: Pandas,numpy,seaborn,matplotlib,scipy,sklearn,tensorflow\n",
    "\n",
    "**Machine Learning Models**\n",
    "\n",
    "Random Forest Regressor and classifier\n",
    "\n",
    "Gradient boosting Regressor"
   ]
  },
  {
   "cell_type": "markdown",
   "metadata": {
    "colab_type": "text",
    "id": "K6IeFhGq_JEn"
   },
   "source": [
    "### Importing the required libaries for Exploratory data analysis and Machine learning"
   ]
  },
  {
   "cell_type": "code",
   "execution_count": 0,
   "metadata": {
    "colab": {
     "base_uri": "https://localhost:8080/",
     "height": 71
    },
    "colab_type": "code",
    "collapsed": false,
    "id": "qNNxsrJagknN",
    "outputId": "5ac01a16-b1b6-43c0-8f36-cd74d1353a56"
   },
   "outputs": [
    {
     "name": "stderr",
     "output_type": "stream",
     "text": [
      "/usr/local/lib/python3.6/dist-packages/statsmodels/tools/_testing.py:19: FutureWarning: pandas.util.testing is deprecated. Use the functions in the public API at pandas.testing instead.\n",
      "  import pandas.util.testing as tm\n"
     ]
    }
   ],
   "source": [
    "import pandas as pd\n",
    "import numpy as np\n",
    "import pandas as pd\n",
    "import seaborn as sns\n",
    "import matplotlib.pyplot as plt\n",
    "from scipy import stats\n",
    "from sklearn.tree import DecisionTreeClassifier # Import Decision Tree Classifier\n",
    "from sklearn.model_selection import train_test_split # Import train_test_split function\n",
    "from sklearn import metrics #Import scikit-learn metrics module for accuracy calculation\n",
    "from sklearn.ensemble import GradientBoostingRegressor\n",
    "from google.colab import files\n",
    "from IPython.display import Image"
   ]
  },
  {
   "cell_type": "markdown",
   "metadata": {
    "colab_type": "text",
    "id": "NTEhMTB8_YRW"
   },
   "source": [
    "### Mounting the google drive to google colab notebook"
   ]
  },
  {
   "cell_type": "code",
   "execution_count": 0,
   "metadata": {
    "colab": {
     "base_uri": "https://localhost:8080/",
     "height": 34
    },
    "colab_type": "code",
    "collapsed": false,
    "id": "6gwc0cJDTAcM",
    "outputId": "b550c21c-53bb-4350-96cd-fb27493224d3"
   },
   "outputs": [
    {
     "name": "stdout",
     "output_type": "stream",
     "text": [
      "Drive already mounted at /content/drive; to attempt to forcibly remount, call drive.mount(\"/content/drive\", force_remount=True).\n"
     ]
    }
   ],
   "source": [
    "from google.colab import drive\n",
    "drive.mount('/content/drive')"
   ]
  },
  {
   "cell_type": "markdown",
   "metadata": {
    "colab_type": "text",
    "id": "Gm7nKbOR_ojK"
   },
   "source": [
    "### Connecting and using GPU "
   ]
  },
  {
   "cell_type": "code",
   "execution_count": 0,
   "metadata": {
    "colab": {
     "base_uri": "https://localhost:8080/",
     "height": 34
    },
    "colab_type": "code",
    "collapsed": false,
    "id": "1HmkZT3dhBHr",
    "outputId": "2ac2bb4d-774f-4565-d78c-e0d420d5abb0"
   },
   "outputs": [
    {
     "data": {
      "text/plain": [
       "'/device:GPU:0'"
      ]
     },
     "execution_count": 4,
     "metadata": {
      "tags": []
     },
     "output_type": "execute_result"
    }
   ],
   "source": [
    "import tensorflow as tf \n",
    "tf.test.gpu_device_name()"
   ]
  },
  {
   "cell_type": "markdown",
   "metadata": {
    "colab_type": "text",
    "id": "0f3Ej9JbACNC"
   },
   "source": [
    "### Reading the parking summonses data from google drive \n",
    "\n",
    "### Years considered - (2008 - 2019)"
   ]
  },
  {
   "cell_type": "code",
   "execution_count": 0,
   "metadata": {
    "colab": {
     "base_uri": "https://localhost:8080/",
     "height": 71
    },
    "colab_type": "code",
    "collapsed": false,
    "id": "GTi8HpfvgkqP",
    "outputId": "991786f4-fc0b-45a3-d0da-cc466c8bf938"
   },
   "outputs": [
    {
     "name": "stderr",
     "output_type": "stream",
     "text": [
      "/usr/local/lib/python3.6/dist-packages/IPython/core/interactiveshell.py:2718: DtypeWarning: Columns (0,15,16,17) have mixed types.Specify dtype option on import or set low_memory=False.\n",
      "  interactivity=interactivity, compiler=compiler, result=result)\n"
     ]
    }
   ],
   "source": [
    "parking_summonses=pd.read_csv('/content/drive/My Drive/Gentrification/Parking_Summonses .csv')"
   ]
  },
  {
   "cell_type": "code",
   "execution_count": 0,
   "metadata": {
    "colab": {
     "base_uri": "https://localhost:8080/",
     "height": 221
    },
    "colab_type": "code",
    "collapsed": false,
    "id": "9qjzgfh9Eh6n",
    "outputId": "631616de-e602-498f-9969-276bd53bff1a"
   },
   "outputs": [
    {
     "data": {
      "text/plain": [
       "165      222531\n",
       "165.0    102745\n",
       "68       101603\n",
       "169       60707\n",
       "63.01     54966\n",
       "          ...  \n",
       "44.02       552\n",
       "46.02       199\n",
       "46.02        55\n",
       "62.01        19\n",
       "62.01        12\n",
       "Name: CENSUS TRACT, Length: 159, dtype: int64"
      ]
     },
     "execution_count": 6,
     "metadata": {
      "tags": []
     },
     "output_type": "execute_result"
    }
   ],
   "source": [
    "parking_summonses['CENSUS TRACT'].value_counts()"
   ]
  },
  {
   "cell_type": "code",
   "execution_count": 0,
   "metadata": {
    "colab": {
     "base_uri": "https://localhost:8080/",
     "height": 34
    },
    "colab_type": "code",
    "collapsed": false,
    "id": "CaDgUTDKFRa5",
    "outputId": "b5fc8e73-9912-4771-d1d8-b6651611358f"
   },
   "outputs": [
    {
     "data": {
      "text/plain": [
       "(2155859, 18)"
      ]
     },
     "execution_count": 7,
     "metadata": {
      "tags": []
     },
     "output_type": "execute_result"
    }
   ],
   "source": [
    "parking_summonses.shape"
   ]
  },
  {
   "cell_type": "markdown",
   "metadata": {
    "colab_type": "text",
    "id": "VqZQD0KxARAI"
   },
   "source": [
    "### Reading the census tracts and corresponding neigborhood data from google drive"
   ]
  },
  {
   "cell_type": "code",
   "execution_count": 0,
   "metadata": {
    "colab": {},
    "colab_type": "code",
    "collapsed": true,
    "id": "XLhUg4V9gkqT"
   },
   "outputs": [],
   "source": [
    "tracts_data=pd.read_csv('/content/drive/My Drive/Gentrification/NEighborhoods and tracts.csv')"
   ]
  },
  {
   "cell_type": "code",
   "execution_count": 0,
   "metadata": {
    "colab": {},
    "colab_type": "code",
    "collapsed": true,
    "id": "QYmC2WO_GRac"
   },
   "outputs": [],
   "source": [
    "parking_summonses['CENSUS TRACT'] = pd.to_numeric(parking_summonses['CENSUS TRACT'], errors='coerce')\n",
    "parking_summonses = parking_summonses.dropna(subset=['CENSUS TRACT'])\n",
    "parking_summonses['CENSUS TRACT']=parking_summonses['CENSUS TRACT'].astype(float)"
   ]
  },
  {
   "cell_type": "code",
   "execution_count": 0,
   "metadata": {
    "colab": {},
    "colab_type": "code",
    "collapsed": true,
    "id": "NiWA5STXGiKr"
   },
   "outputs": [],
   "source": [
    "tracts_data['CENSUS TRACT'] = pd.to_numeric(tracts_data['CENSUS TRACT'], errors='coerce')\n",
    "tracts_data = tracts_data.dropna(subset=['CENSUS TRACT'])\n",
    "tracts_data['CENSUS TRACT']=tracts_data['CENSUS TRACT'].astype(float)"
   ]
  },
  {
   "cell_type": "markdown",
   "metadata": {
    "colab_type": "text",
    "id": "G3guvKmeAoiH"
   },
   "source": [
    "### Reading the Neighborhood and corresponding walkscore data from google drive"
   ]
  },
  {
   "cell_type": "code",
   "execution_count": 0,
   "metadata": {
    "colab": {},
    "colab_type": "code",
    "collapsed": true,
    "id": "aCDTfIsMJCzE"
   },
   "outputs": [],
   "source": [
    "score=pd.read_excel('/content/drive/My Drive/Gentrification/Walkscore_final.xlsx')"
   ]
  },
  {
   "cell_type": "code",
   "execution_count": 0,
   "metadata": {
    "colab": {
     "base_uri": "https://localhost:8080/",
     "height": 68
    },
    "colab_type": "code",
    "collapsed": false,
    "id": "j39X2m1Kk1xK",
    "outputId": "84ceb880-298b-4097-f6f3-0897a7971d5d"
   },
   "outputs": [
    {
     "data": {
      "text/plain": [
       "Index(['NEIGHBORHOOD', 'WALKSCORE', 'RANK', 'GENTRIFICATION SCORE',\n",
       "       'CLASSIFCATION ', 'CLASS'],\n",
       "      dtype='object')"
      ]
     },
     "execution_count": 12,
     "metadata": {
      "tags": []
     },
     "output_type": "execute_result"
    }
   ],
   "source": [
    "score.columns"
   ]
  },
  {
   "cell_type": "markdown",
   "metadata": {
    "colab_type": "text",
    "id": "H1877N7zBfws"
   },
   "source": [
    "### Mapping the corresponding Parking violations to the respective neighborhoods using the common attribute(Census Tract)"
   ]
  },
  {
   "cell_type": "code",
   "execution_count": 0,
   "metadata": {
    "colab": {},
    "colab_type": "code",
    "collapsed": true,
    "id": "jGUvyXPWGkiu"
   },
   "outputs": [],
   "source": [
    "final=parking_summonses.merge(tracts_data,on='CENSUS TRACT')"
   ]
  },
  {
   "cell_type": "markdown",
   "metadata": {
    "colab_type": "text",
    "id": "PEigBnPICM2I"
   },
   "source": [
    "### Mapping the corresponding Neighborhood with the Walkscore using the common attribute of both tables (Neighborhood)"
   ]
  },
  {
   "cell_type": "code",
   "execution_count": 0,
   "metadata": {
    "colab": {},
    "colab_type": "code",
    "collapsed": true,
    "id": "izumuL9VHWDe"
   },
   "outputs": [],
   "source": [
    "parking_final_1=final.merge(score,on='NEIGHBORHOOD')"
   ]
  },
  {
   "cell_type": "markdown",
   "metadata": {
    "colab_type": "text",
    "id": "yVUeXmDiCTfr"
   },
   "source": [
    "### Sample data frame after merging all the three tables\n",
    "###1. Parking Summonses\n",
    "###2. Neighborhoods and tracts\n",
    "###3. Neighborhoods and Walkscores"
   ]
  },
  {
   "cell_type": "code",
   "execution_count": 0,
   "metadata": {
    "colab": {
     "base_uri": "https://localhost:8080/",
     "height": 377
    },
    "colab_type": "code",
    "collapsed": false,
    "id": "csrR1pHOJmZl",
    "outputId": "076ba82b-4aca-43f1-a3c7-84302e9f83ec"
   },
   "outputs": [
    {
     "data": {
      "text/html": [
       "<div>\n",
       "<style scoped>\n",
       "    .dataframe tbody tr th:only-of-type {\n",
       "        vertical-align: middle;\n",
       "    }\n",
       "\n",
       "    .dataframe tbody tr th {\n",
       "        vertical-align: top;\n",
       "    }\n",
       "\n",
       "    .dataframe thead th {\n",
       "        text-align: right;\n",
       "    }\n",
       "</style>\n",
       "<table border=\"1\" class=\"dataframe\">\n",
       "  <thead>\n",
       "    <tr style=\"text-align: right;\">\n",
       "      <th></th>\n",
       "      <th>SUMMONS NUMBER</th>\n",
       "      <th>SUMMONS DATE</th>\n",
       "      <th>VIOLATION TIME</th>\n",
       "      <th>VIOLATION DESCRIPTION</th>\n",
       "      <th>ORIGINAL FINE</th>\n",
       "      <th>VIOLATION ADDRESS NUMBER</th>\n",
       "      <th>VIOLATION STREET</th>\n",
       "      <th>VIOLATION FULL ADDRESS</th>\n",
       "      <th>CITY</th>\n",
       "      <th>STATE</th>\n",
       "      <th>LATITUDE</th>\n",
       "      <th>LONGITUDE</th>\n",
       "      <th>LOCATION</th>\n",
       "      <th>COUNCIL DISTRICT</th>\n",
       "      <th>POLICE DISTRICT</th>\n",
       "      <th>CENSUS TRACT</th>\n",
       "      <th>CENSUS BLOCK GROUP</th>\n",
       "      <th>CENSUS BLOCK</th>\n",
       "      <th>NEIGHBORHOOD</th>\n",
       "      <th>WALKSCORE</th>\n",
       "      <th>RANK</th>\n",
       "      <th>GENTRIFICATION SCORE</th>\n",
       "      <th>CLASSIFCATION</th>\n",
       "      <th>CLASS</th>\n",
       "    </tr>\n",
       "  </thead>\n",
       "  <tbody>\n",
       "    <tr>\n",
       "      <th>0</th>\n",
       "      <td>X2308148</td>\n",
       "      <td>08/02/2019</td>\n",
       "      <td>0125P</td>\n",
       "      <td>PARKING VIOLATION</td>\n",
       "      <td>40.0</td>\n",
       "      <td>175.0</td>\n",
       "      <td>FRANKLIN</td>\n",
       "      <td>175 FRANKLIN</td>\n",
       "      <td>Buffalo</td>\n",
       "      <td>NY</td>\n",
       "      <td>42.888195</td>\n",
       "      <td>-78.875835</td>\n",
       "      <td>(42.8881947942094, -78.87583500193372)</td>\n",
       "      <td>ELLICOTT</td>\n",
       "      <td>District B</td>\n",
       "      <td>165.0</td>\n",
       "      <td>1</td>\n",
       "      <td>1028</td>\n",
       "      <td>Central</td>\n",
       "      <td>55</td>\n",
       "      <td>36</td>\n",
       "      <td>65</td>\n",
       "      <td>25</td>\n",
       "      <td>D</td>\n",
       "    </tr>\n",
       "    <tr>\n",
       "      <th>1</th>\n",
       "      <td>X2308149</td>\n",
       "      <td>08/02/2019</td>\n",
       "      <td>0130P</td>\n",
       "      <td>NO STANDING</td>\n",
       "      <td>40.0</td>\n",
       "      <td>37.0</td>\n",
       "      <td>HURON WEST</td>\n",
       "      <td>37 HURON WEST</td>\n",
       "      <td>Buffalo</td>\n",
       "      <td>NY</td>\n",
       "      <td>42.888948</td>\n",
       "      <td>-78.874872</td>\n",
       "      <td>(42.88894814599496, -78.87487202385579)</td>\n",
       "      <td>ELLICOTT</td>\n",
       "      <td>District B</td>\n",
       "      <td>165.0</td>\n",
       "      <td>1</td>\n",
       "      <td>1022</td>\n",
       "      <td>Central</td>\n",
       "      <td>55</td>\n",
       "      <td>36</td>\n",
       "      <td>65</td>\n",
       "      <td>25</td>\n",
       "      <td>D</td>\n",
       "    </tr>\n",
       "    <tr>\n",
       "      <th>2</th>\n",
       "      <td>X2308151</td>\n",
       "      <td>08/02/2019</td>\n",
       "      <td>0305P</td>\n",
       "      <td>METER OVERTIME</td>\n",
       "      <td>40.0</td>\n",
       "      <td>228.0</td>\n",
       "      <td>FRANKLIN</td>\n",
       "      <td>228 FRANKLIN</td>\n",
       "      <td>Buffalo</td>\n",
       "      <td>NY</td>\n",
       "      <td>42.890040</td>\n",
       "      <td>-78.875395</td>\n",
       "      <td>(42.89003992129964, -78.87539503306608)</td>\n",
       "      <td>ELLICOTT</td>\n",
       "      <td>District B</td>\n",
       "      <td>165.0</td>\n",
       "      <td>1</td>\n",
       "      <td>1023</td>\n",
       "      <td>Central</td>\n",
       "      <td>55</td>\n",
       "      <td>36</td>\n",
       "      <td>65</td>\n",
       "      <td>25</td>\n",
       "      <td>D</td>\n",
       "    </tr>\n",
       "    <tr>\n",
       "      <th>3</th>\n",
       "      <td>X2308152</td>\n",
       "      <td>08/02/2019</td>\n",
       "      <td>0312P</td>\n",
       "      <td>METER OVERTIME</td>\n",
       "      <td>40.0</td>\n",
       "      <td>210.0</td>\n",
       "      <td>FRANKLIN</td>\n",
       "      <td>210 FRANKLIN</td>\n",
       "      <td>Buffalo</td>\n",
       "      <td>NY</td>\n",
       "      <td>42.889319</td>\n",
       "      <td>-78.875628</td>\n",
       "      <td>(42.88931932925486, -78.87562789846032)</td>\n",
       "      <td>ELLICOTT</td>\n",
       "      <td>District B</td>\n",
       "      <td>165.0</td>\n",
       "      <td>1</td>\n",
       "      <td>1023</td>\n",
       "      <td>Central</td>\n",
       "      <td>55</td>\n",
       "      <td>36</td>\n",
       "      <td>65</td>\n",
       "      <td>25</td>\n",
       "      <td>D</td>\n",
       "    </tr>\n",
       "    <tr>\n",
       "      <th>4</th>\n",
       "      <td>X2308153</td>\n",
       "      <td>08/02/2019</td>\n",
       "      <td>0320P</td>\n",
       "      <td>METER OVERTIME</td>\n",
       "      <td>40.0</td>\n",
       "      <td>22.0</td>\n",
       "      <td>SENECA WEST</td>\n",
       "      <td>22 SENECA WEST</td>\n",
       "      <td>Buffalo</td>\n",
       "      <td>NY</td>\n",
       "      <td>42.880596</td>\n",
       "      <td>-78.875566</td>\n",
       "      <td>(42.880595539253534, -78.87556606949188)</td>\n",
       "      <td>FILLMORE</td>\n",
       "      <td>District B</td>\n",
       "      <td>165.0</td>\n",
       "      <td>1</td>\n",
       "      <td>1114</td>\n",
       "      <td>Central</td>\n",
       "      <td>55</td>\n",
       "      <td>36</td>\n",
       "      <td>65</td>\n",
       "      <td>25</td>\n",
       "      <td>D</td>\n",
       "    </tr>\n",
       "  </tbody>\n",
       "</table>\n",
       "</div>"
      ],
      "text/plain": [
       "  SUMMONS NUMBER SUMMONS DATE  ... CLASSIFCATION  CLASS\n",
       "0       X2308148   08/02/2019  ...             25     D\n",
       "1       X2308149   08/02/2019  ...             25     D\n",
       "2       X2308151   08/02/2019  ...             25     D\n",
       "3       X2308152   08/02/2019  ...             25     D\n",
       "4       X2308153   08/02/2019  ...             25     D\n",
       "\n",
       "[5 rows x 24 columns]"
      ]
     },
     "execution_count": 15,
     "metadata": {
      "tags": []
     },
     "output_type": "execute_result"
    }
   ],
   "source": [
    "parking_final_1.head()"
   ]
  },
  {
   "cell_type": "markdown",
   "metadata": {
    "colab_type": "text",
    "id": "7u0CSD2WCo8s"
   },
   "source": [
    "### Displaying the number of violations in each neighborhood over the years "
   ]
  },
  {
   "cell_type": "code",
   "execution_count": 0,
   "metadata": {
    "colab": {
     "base_uri": "https://localhost:8080/",
     "height": 629
    },
    "colab_type": "code",
    "collapsed": false,
    "id": "dQOu4sEMDnbt",
    "outputId": "288c4d02-e277-4143-8b84-8a790c3e0ef4"
   },
   "outputs": [
    {
     "data": {
      "text/plain": [
       "Elmwood Bidwell       354553\n",
       "Central               325276\n",
       "Elmwood Bryant        208101\n",
       "Fruit Belt            193712\n",
       "North Park            162378\n",
       "Allentown             153824\n",
       "Broadway Fillmore     131946\n",
       "Lower West Side       120374\n",
       "University Heights     84124\n",
       "Masten Park            81852\n",
       "Seneca-Cazenovia       79536\n",
       "West Side              72960\n",
       "South Park             69489\n",
       "Upper West Side        68069\n",
       "Hamlin Park            67342\n",
       "Parkside               66049\n",
       "Central Park           55958\n",
       "First Ward             46748\n",
       "Kenfield               44992\n",
       "Black Rock             43344\n",
       "Kensington-Bailey      42517\n",
       "Fillmore-Leroy         40713\n",
       "Lovejoy                38723\n",
       "Riverside              38019\n",
       "Genesee-Moselle        31553\n",
       "Schiller Park          28356\n",
       "Hopkins-Tifft          22245\n",
       "Grant-Amherst          21113\n",
       "Seneca Babcock         19906\n",
       "Kaisertown             19769\n",
       "Delavan Grider         18925\n",
       "Pratt-Willert          17163\n",
       "MLK Park               15597\n",
       "Ellicott               15281\n",
       "West Hertel            12140\n",
       "Name: NEIGHBORHOOD, dtype: int64"
      ]
     },
     "execution_count": 16,
     "metadata": {
      "tags": []
     },
     "output_type": "execute_result"
    }
   ],
   "source": [
    "parking_final_1['NEIGHBORHOOD'].value_counts()"
   ]
  },
  {
   "cell_type": "code",
   "execution_count": 0,
   "metadata": {
    "colab": {
     "base_uri": "https://localhost:8080/",
     "height": 221
    },
    "colab_type": "code",
    "collapsed": false,
    "id": "BzF3kFF7ELnP",
    "outputId": "a9c49173-5636-49ca-c674-32088d2ed42e"
   },
   "outputs": [
    {
     "data": {
      "text/plain": [
       "165.00    325276\n",
       "31.00     252786\n",
       "68.00     153824\n",
       "63.01      98509\n",
       "71.02      92218\n",
       "           ...  \n",
       "28.00       4983\n",
       "14.02       4569\n",
       "29.00       4303\n",
       "15.00       3216\n",
       "39.01       2091\n",
       "Name: CENSUS TRACT, Length: 76, dtype: int64"
      ]
     },
     "execution_count": 17,
     "metadata": {
      "tags": []
     },
     "output_type": "execute_result"
    }
   ],
   "source": [
    "parking_final_1['CENSUS TRACT'].value_counts()"
   ]
  },
  {
   "cell_type": "code",
   "execution_count": 0,
   "metadata": {
    "colab": {
     "base_uri": "https://localhost:8080/",
     "height": 711
    },
    "colab_type": "code",
    "collapsed": false,
    "id": "YRvFICyNh4-y",
    "outputId": "c7b7081e-3aa8-45bf-e0af-31a4897afea1"
   },
   "outputs": [
    {
     "data": {
      "text/html": [
       "<div>\n",
       "<style scoped>\n",
       "    .dataframe tbody tr th:only-of-type {\n",
       "        vertical-align: middle;\n",
       "    }\n",
       "\n",
       "    .dataframe tbody tr th {\n",
       "        vertical-align: top;\n",
       "    }\n",
       "\n",
       "    .dataframe thead th {\n",
       "        text-align: right;\n",
       "    }\n",
       "</style>\n",
       "<table border=\"1\" class=\"dataframe\">\n",
       "  <thead>\n",
       "    <tr style=\"text-align: right;\">\n",
       "      <th></th>\n",
       "      <th>SUMMONS NUMBER</th>\n",
       "      <th>SUMMONS DATE</th>\n",
       "      <th>VIOLATION TIME</th>\n",
       "      <th>VIOLATION DESCRIPTION</th>\n",
       "      <th>ORIGINAL FINE</th>\n",
       "      <th>VIOLATION ADDRESS NUMBER</th>\n",
       "      <th>VIOLATION STREET</th>\n",
       "      <th>VIOLATION FULL ADDRESS</th>\n",
       "      <th>CITY</th>\n",
       "      <th>STATE</th>\n",
       "      <th>LATITUDE</th>\n",
       "      <th>LONGITUDE</th>\n",
       "      <th>LOCATION</th>\n",
       "      <th>COUNCIL DISTRICT</th>\n",
       "      <th>POLICE DISTRICT</th>\n",
       "      <th>CENSUS TRACT</th>\n",
       "      <th>CENSUS BLOCK GROUP</th>\n",
       "      <th>CENSUS BLOCK</th>\n",
       "      <th>NEIGHBORHOOD</th>\n",
       "      <th>WALKSCORE</th>\n",
       "      <th>RANK</th>\n",
       "      <th>GENTRIFICATION SCORE</th>\n",
       "      <th>CLASSIFCATION</th>\n",
       "      <th>CLASS</th>\n",
       "    </tr>\n",
       "  </thead>\n",
       "  <tbody>\n",
       "    <tr>\n",
       "      <th>0</th>\n",
       "      <td>X2308148</td>\n",
       "      <td>08/02/2019</td>\n",
       "      <td>0125P</td>\n",
       "      <td>PARKING VIOLATION</td>\n",
       "      <td>40.0</td>\n",
       "      <td>175.0</td>\n",
       "      <td>FRANKLIN</td>\n",
       "      <td>175 FRANKLIN</td>\n",
       "      <td>Buffalo</td>\n",
       "      <td>NY</td>\n",
       "      <td>42.888195</td>\n",
       "      <td>-78.875835</td>\n",
       "      <td>(42.8881947942094, -78.87583500193372)</td>\n",
       "      <td>ELLICOTT</td>\n",
       "      <td>District B</td>\n",
       "      <td>165.0</td>\n",
       "      <td>1</td>\n",
       "      <td>1028</td>\n",
       "      <td>Central</td>\n",
       "      <td>55</td>\n",
       "      <td>36</td>\n",
       "      <td>65</td>\n",
       "      <td>25</td>\n",
       "      <td>D</td>\n",
       "    </tr>\n",
       "    <tr>\n",
       "      <th>1</th>\n",
       "      <td>X2308149</td>\n",
       "      <td>08/02/2019</td>\n",
       "      <td>0130P</td>\n",
       "      <td>NO STANDING</td>\n",
       "      <td>40.0</td>\n",
       "      <td>37.0</td>\n",
       "      <td>HURON WEST</td>\n",
       "      <td>37 HURON WEST</td>\n",
       "      <td>Buffalo</td>\n",
       "      <td>NY</td>\n",
       "      <td>42.888948</td>\n",
       "      <td>-78.874872</td>\n",
       "      <td>(42.88894814599496, -78.87487202385579)</td>\n",
       "      <td>ELLICOTT</td>\n",
       "      <td>District B</td>\n",
       "      <td>165.0</td>\n",
       "      <td>1</td>\n",
       "      <td>1022</td>\n",
       "      <td>Central</td>\n",
       "      <td>55</td>\n",
       "      <td>36</td>\n",
       "      <td>65</td>\n",
       "      <td>25</td>\n",
       "      <td>D</td>\n",
       "    </tr>\n",
       "    <tr>\n",
       "      <th>2</th>\n",
       "      <td>X2308151</td>\n",
       "      <td>08/02/2019</td>\n",
       "      <td>0305P</td>\n",
       "      <td>METER OVERTIME</td>\n",
       "      <td>40.0</td>\n",
       "      <td>228.0</td>\n",
       "      <td>FRANKLIN</td>\n",
       "      <td>228 FRANKLIN</td>\n",
       "      <td>Buffalo</td>\n",
       "      <td>NY</td>\n",
       "      <td>42.890040</td>\n",
       "      <td>-78.875395</td>\n",
       "      <td>(42.89003992129964, -78.87539503306608)</td>\n",
       "      <td>ELLICOTT</td>\n",
       "      <td>District B</td>\n",
       "      <td>165.0</td>\n",
       "      <td>1</td>\n",
       "      <td>1023</td>\n",
       "      <td>Central</td>\n",
       "      <td>55</td>\n",
       "      <td>36</td>\n",
       "      <td>65</td>\n",
       "      <td>25</td>\n",
       "      <td>D</td>\n",
       "    </tr>\n",
       "    <tr>\n",
       "      <th>3</th>\n",
       "      <td>X2308152</td>\n",
       "      <td>08/02/2019</td>\n",
       "      <td>0312P</td>\n",
       "      <td>METER OVERTIME</td>\n",
       "      <td>40.0</td>\n",
       "      <td>210.0</td>\n",
       "      <td>FRANKLIN</td>\n",
       "      <td>210 FRANKLIN</td>\n",
       "      <td>Buffalo</td>\n",
       "      <td>NY</td>\n",
       "      <td>42.889319</td>\n",
       "      <td>-78.875628</td>\n",
       "      <td>(42.88931932925486, -78.87562789846032)</td>\n",
       "      <td>ELLICOTT</td>\n",
       "      <td>District B</td>\n",
       "      <td>165.0</td>\n",
       "      <td>1</td>\n",
       "      <td>1023</td>\n",
       "      <td>Central</td>\n",
       "      <td>55</td>\n",
       "      <td>36</td>\n",
       "      <td>65</td>\n",
       "      <td>25</td>\n",
       "      <td>D</td>\n",
       "    </tr>\n",
       "    <tr>\n",
       "      <th>4</th>\n",
       "      <td>X2308153</td>\n",
       "      <td>08/02/2019</td>\n",
       "      <td>0320P</td>\n",
       "      <td>METER OVERTIME</td>\n",
       "      <td>40.0</td>\n",
       "      <td>22.0</td>\n",
       "      <td>SENECA WEST</td>\n",
       "      <td>22 SENECA WEST</td>\n",
       "      <td>Buffalo</td>\n",
       "      <td>NY</td>\n",
       "      <td>42.880596</td>\n",
       "      <td>-78.875566</td>\n",
       "      <td>(42.880595539253534, -78.87556606949188)</td>\n",
       "      <td>FILLMORE</td>\n",
       "      <td>District B</td>\n",
       "      <td>165.0</td>\n",
       "      <td>1</td>\n",
       "      <td>1114</td>\n",
       "      <td>Central</td>\n",
       "      <td>55</td>\n",
       "      <td>36</td>\n",
       "      <td>65</td>\n",
       "      <td>25</td>\n",
       "      <td>D</td>\n",
       "    </tr>\n",
       "    <tr>\n",
       "      <th>...</th>\n",
       "      <td>...</td>\n",
       "      <td>...</td>\n",
       "      <td>...</td>\n",
       "      <td>...</td>\n",
       "      <td>...</td>\n",
       "      <td>...</td>\n",
       "      <td>...</td>\n",
       "      <td>...</td>\n",
       "      <td>...</td>\n",
       "      <td>...</td>\n",
       "      <td>...</td>\n",
       "      <td>...</td>\n",
       "      <td>...</td>\n",
       "      <td>...</td>\n",
       "      <td>...</td>\n",
       "      <td>...</td>\n",
       "      <td>...</td>\n",
       "      <td>...</td>\n",
       "      <td>...</td>\n",
       "      <td>...</td>\n",
       "      <td>...</td>\n",
       "      <td>...</td>\n",
       "      <td>...</td>\n",
       "      <td>...</td>\n",
       "    </tr>\n",
       "    <tr>\n",
       "      <th>2812642</th>\n",
       "      <td>Z2222894</td>\n",
       "      <td>01/29/2019</td>\n",
       "      <td>0836A</td>\n",
       "      <td>ALTERNATE PARKING</td>\n",
       "      <td>40.0</td>\n",
       "      <td>36.0</td>\n",
       "      <td>GREELEY</td>\n",
       "      <td>36 GREELEY</td>\n",
       "      <td>Buffalo</td>\n",
       "      <td>NY</td>\n",
       "      <td>42.948733</td>\n",
       "      <td>-78.882463</td>\n",
       "      <td>(42.948732632109, -78.882463304971)</td>\n",
       "      <td>NORTH</td>\n",
       "      <td>District D</td>\n",
       "      <td>56.0</td>\n",
       "      <td>5</td>\n",
       "      <td>5004</td>\n",
       "      <td>West Hertel</td>\n",
       "      <td>73</td>\n",
       "      <td>16</td>\n",
       "      <td>85</td>\n",
       "      <td>75</td>\n",
       "      <td>B</td>\n",
       "    </tr>\n",
       "    <tr>\n",
       "      <th>2812643</th>\n",
       "      <td>Z2222895</td>\n",
       "      <td>01/29/2019</td>\n",
       "      <td>0839A</td>\n",
       "      <td>ALTERNATE PARKING</td>\n",
       "      <td>40.0</td>\n",
       "      <td>55.0</td>\n",
       "      <td>HOLMES</td>\n",
       "      <td>55 HOLMES</td>\n",
       "      <td>Buffalo</td>\n",
       "      <td>NY</td>\n",
       "      <td>42.949007</td>\n",
       "      <td>-78.887397</td>\n",
       "      <td>(42.949006902999, -78.887396920712)</td>\n",
       "      <td>NORTH</td>\n",
       "      <td>District D</td>\n",
       "      <td>56.0</td>\n",
       "      <td>4</td>\n",
       "      <td>4000</td>\n",
       "      <td>West Hertel</td>\n",
       "      <td>73</td>\n",
       "      <td>16</td>\n",
       "      <td>85</td>\n",
       "      <td>75</td>\n",
       "      <td>B</td>\n",
       "    </tr>\n",
       "    <tr>\n",
       "      <th>2812644</th>\n",
       "      <td>Z2239935</td>\n",
       "      <td>03/20/2019</td>\n",
       "      <td>1217P</td>\n",
       "      <td>NO PARKING</td>\n",
       "      <td>40.0</td>\n",
       "      <td>44.0</td>\n",
       "      <td>SAYRE</td>\n",
       "      <td>44 SAYRE</td>\n",
       "      <td>Buffalo</td>\n",
       "      <td>NY</td>\n",
       "      <td>42.947758</td>\n",
       "      <td>-78.893552</td>\n",
       "      <td>(42.94775780857678, -78.89355160442582)</td>\n",
       "      <td>NORTH</td>\n",
       "      <td>District D</td>\n",
       "      <td>56.0</td>\n",
       "      <td>2</td>\n",
       "      <td>2004</td>\n",
       "      <td>West Hertel</td>\n",
       "      <td>73</td>\n",
       "      <td>16</td>\n",
       "      <td>85</td>\n",
       "      <td>75</td>\n",
       "      <td>B</td>\n",
       "    </tr>\n",
       "    <tr>\n",
       "      <th>2812645</th>\n",
       "      <td>Z2248919</td>\n",
       "      <td>03/19/2019</td>\n",
       "      <td>0832A</td>\n",
       "      <td>NO PARKING</td>\n",
       "      <td>40.0</td>\n",
       "      <td>152.0</td>\n",
       "      <td>LAWN</td>\n",
       "      <td>152 LAWN</td>\n",
       "      <td>Buffalo</td>\n",
       "      <td>NY</td>\n",
       "      <td>42.949771</td>\n",
       "      <td>-78.887316</td>\n",
       "      <td>(42.949771006866236, -78.88731610640603)</td>\n",
       "      <td>NORTH</td>\n",
       "      <td>District D</td>\n",
       "      <td>56.0</td>\n",
       "      <td>4</td>\n",
       "      <td>4000</td>\n",
       "      <td>West Hertel</td>\n",
       "      <td>73</td>\n",
       "      <td>16</td>\n",
       "      <td>85</td>\n",
       "      <td>75</td>\n",
       "      <td>B</td>\n",
       "    </tr>\n",
       "    <tr>\n",
       "      <th>2812646</th>\n",
       "      <td>v1108375</td>\n",
       "      <td>02/07/2017</td>\n",
       "      <td>0451P</td>\n",
       "      <td>EXPIRED INSPECTION STICKER (ALL)</td>\n",
       "      <td>40.0</td>\n",
       "      <td>23.0</td>\n",
       "      <td>TUXEDO</td>\n",
       "      <td>23 TUXEDO</td>\n",
       "      <td>Buffalo</td>\n",
       "      <td>NY</td>\n",
       "      <td>42.947492</td>\n",
       "      <td>-78.886319</td>\n",
       "      <td>(42.947491535893, -78.886318867414)</td>\n",
       "      <td>NORTH</td>\n",
       "      <td>District D</td>\n",
       "      <td>56.0</td>\n",
       "      <td>3</td>\n",
       "      <td>3009</td>\n",
       "      <td>West Hertel</td>\n",
       "      <td>73</td>\n",
       "      <td>16</td>\n",
       "      <td>85</td>\n",
       "      <td>75</td>\n",
       "      <td>B</td>\n",
       "    </tr>\n",
       "  </tbody>\n",
       "</table>\n",
       "<p>2811949 rows × 24 columns</p>\n",
       "</div>"
      ],
      "text/plain": [
       "        SUMMONS NUMBER SUMMONS DATE  ... CLASSIFCATION  CLASS\n",
       "0             X2308148   08/02/2019  ...             25     D\n",
       "1             X2308149   08/02/2019  ...             25     D\n",
       "2             X2308151   08/02/2019  ...             25     D\n",
       "3             X2308152   08/02/2019  ...             25     D\n",
       "4             X2308153   08/02/2019  ...             25     D\n",
       "...                ...          ...  ...            ...   ...\n",
       "2812642       Z2222894   01/29/2019  ...             75     B\n",
       "2812643       Z2222895   01/29/2019  ...             75     B\n",
       "2812644       Z2239935   03/20/2019  ...             75     B\n",
       "2812645       Z2248919   03/19/2019  ...             75     B\n",
       "2812646       v1108375   02/07/2017  ...             75     B\n",
       "\n",
       "[2811949 rows x 24 columns]"
      ]
     },
     "execution_count": 18,
     "metadata": {
      "tags": []
     },
     "output_type": "execute_result"
    }
   ],
   "source": [
    "parking_final_1.dropna()"
   ]
  },
  {
   "cell_type": "markdown",
   "metadata": {
    "colab_type": "text",
    "id": "FjvUGZcEC2Xe"
   },
   "source": [
    "### String manipulations to fetch the years"
   ]
  },
  {
   "cell_type": "code",
   "execution_count": 0,
   "metadata": {
    "colab": {},
    "colab_type": "code",
    "collapsed": true,
    "id": "ws3axDOWJxqp"
   },
   "outputs": [],
   "source": [
    "parking_final_1['SUMMONS DATE']=parking_final_1['SUMMONS DATE'].apply(lambda x:x[6] + x[7] +x[8] +x[9]) \n",
    "parking_final_1['SUMMONS DATE']=parking_final_1['SUMMONS DATE'].apply(lambda x:float(x))"
   ]
  },
  {
   "cell_type": "markdown",
   "metadata": {
    "colab_type": "text",
    "id": "tAiNBa_ZC7BF"
   },
   "source": [
    "### Excluding the year 2019 because the dataset is incomplete for 2019 and might lead to wrong conclusions"
   ]
  },
  {
   "cell_type": "code",
   "execution_count": 0,
   "metadata": {
    "colab": {
     "base_uri": "https://localhost:8080/",
     "height": 71
    },
    "colab_type": "code",
    "collapsed": false,
    "id": "X5Atip4347LS",
    "outputId": "988bcd53-0beb-48a7-d6a9-acefe4ecbe9d"
   },
   "outputs": [
    {
     "name": "stderr",
     "output_type": "stream",
     "text": [
      "/usr/local/lib/python3.6/dist-packages/pandas/core/ops/__init__.py:1115: FutureWarning: elementwise comparison failed; returning scalar instead, but in the future will perform elementwise comparison\n",
      "  result = method(y)\n"
     ]
    }
   ],
   "source": [
    "parking_final_1=parking_final_1[parking_final_1['SUMMONS DATE'] != '2019.0']"
   ]
  },
  {
   "cell_type": "markdown",
   "metadata": {
    "colab_type": "text",
    "id": "iWHVNaIxv7Es"
   },
   "source": [
    "### Creating an object for label binarizor to label encode all the categorical values of the column 'Violation Description'\n",
    "### ***Label Encoding***: Label encoding is a technique which allows you to convert each value in a column to a number. Numerical labels are always between 0 and n_categories-1."
   ]
  },
  {
   "cell_type": "code",
   "execution_count": 0,
   "metadata": {
    "colab": {
     "base_uri": "https://localhost:8080/",
     "height": 153
    },
    "colab_type": "code",
    "collapsed": false,
    "id": "oz2OBCj9VmcN",
    "outputId": "648d307f-3b6b-4595-df83-e62987f4d085"
   },
   "outputs": [
    {
     "name": "stdout",
     "output_type": "stream",
     "text": [
      "   ALTERNATE PARKING  ...  VEHICLE PARKED ON UNPAVED PORTION OR\n",
      "0                  0  ...                                     0\n",
      "1                  0  ...                                     0\n",
      "2                  0  ...                                     0\n",
      "3                  0  ...                                     0\n",
      "4                  0  ...                                     0\n",
      "\n",
      "[5 rows x 39 columns]\n"
     ]
    }
   ],
   "source": [
    "from sklearn.preprocessing import LabelBinarizer\n",
    "\n",
    "lb = LabelBinarizer()\n",
    "lb_results = lb.fit_transform(parking_final_1['VIOLATION DESCRIPTION'])\n",
    "lb_results_df = pd.DataFrame(lb_results, columns=lb.classes_)\n",
    "\n",
    "print(lb_results_df.head())"
   ]
  },
  {
   "cell_type": "code",
   "execution_count": 0,
   "metadata": {
    "colab": {
     "base_uri": "https://localhost:8080/",
     "height": 153
    },
    "colab_type": "code",
    "collapsed": false,
    "id": "tUZM8ai2Z8ya",
    "outputId": "6f150524-43f2-4f41-abd8-5f8045f1def0"
   },
   "outputs": [
    {
     "name": "stdout",
     "output_type": "stream",
     "text": [
      "  SUMMONS NUMBER  ...  VEHICLE PARKED ON UNPAVED PORTION OR\n",
      "0       X2308148  ...                                     0\n",
      "1       X2308149  ...                                     0\n",
      "2       X2308151  ...                                     0\n",
      "3       X2308152  ...                                     0\n",
      "4       X2308153  ...                                     0\n",
      "\n",
      "[5 rows x 63 columns]\n"
     ]
    }
   ],
   "source": [
    "parking_final2 = pd.concat([parking_final_1, lb_results_df], axis=1)\n",
    "\n",
    "print(parking_final2.head())"
   ]
  },
  {
   "cell_type": "markdown",
   "metadata": {
    "colab_type": "text",
    "id": "qULzEuQXxRga"
   },
   "source": [
    "### Label Encoding the years to get an idea about the number of violations increasing every year "
   ]
  },
  {
   "cell_type": "code",
   "execution_count": 0,
   "metadata": {
    "colab": {
     "base_uri": "https://localhost:8080/",
     "height": 153
    },
    "colab_type": "code",
    "collapsed": false,
    "id": "VHIw8iKZ_4iY",
    "outputId": "c80797fd-0762-4d4f-aeb2-200c0db5ba09"
   },
   "outputs": [
    {
     "name": "stdout",
     "output_type": "stream",
     "text": [
      "   ALTERNATE PARKING  ...  VEHICLE PARKED ON UNPAVED PORTION OR\n",
      "0                  0  ...                                     0\n",
      "1                  0  ...                                     0\n",
      "2                  0  ...                                     0\n",
      "3                  0  ...                                     0\n",
      "4                  0  ...                                     0\n",
      "\n",
      "[5 rows x 39 columns]\n"
     ]
    }
   ],
   "source": [
    "\n",
    "lb = LabelBinarizer()\n",
    "lb_results1 = lb.fit_transform(parking_final2['SUMMONS DATE'])\n",
    "lb_results_df1 = pd.DataFrame(lb_results1, columns=lb.classes_)\n",
    "\n",
    "print(lb_results_df.head())"
   ]
  },
  {
   "cell_type": "code",
   "execution_count": 0,
   "metadata": {
    "colab": {
     "base_uri": "https://localhost:8080/",
     "height": 153
    },
    "colab_type": "code",
    "collapsed": false,
    "id": "-kCE3-jnAPO7",
    "outputId": "8fc1adff-5df9-4b59-cd90-1a8056f207a5"
   },
   "outputs": [
    {
     "name": "stdout",
     "output_type": "stream",
     "text": [
      "  SUMMONS NUMBER  SUMMONS DATE VIOLATION TIME  ... 2017.0  2018.0  2019.0\n",
      "0       X2308148        2019.0          0125P  ...      0       0       1\n",
      "1       X2308149        2019.0          0130P  ...      0       0       1\n",
      "2       X2308151        2019.0          0305P  ...      0       0       1\n",
      "3       X2308152        2019.0          0312P  ...      0       0       1\n",
      "4       X2308153        2019.0          0320P  ...      0       0       1\n",
      "\n",
      "[5 rows x 76 columns]\n"
     ]
    }
   ],
   "source": [
    "parking_final = pd.concat([parking_final2, lb_results_df1], axis=1)\n",
    "\n",
    "print(parking_final.head())"
   ]
  },
  {
   "cell_type": "code",
   "execution_count": 0,
   "metadata": {
    "colab": {},
    "colab_type": "code",
    "collapsed": true,
    "id": "jmvOv-59YIe0"
   },
   "outputs": [],
   "source": [
    " parking_final['RANK'].fillna((parking_final['RANK'].mean()),inplace=True)"
   ]
  },
  {
   "cell_type": "markdown",
   "metadata": {
    "colab_type": "text",
    "id": "48VB7Szxy_5Y"
   },
   "source": [
    "### The following are the columns considered as feature inputs to the Machine learning model. The number of columns have increased after label encoding considering each violation as a seperate feature"
   ]
  },
  {
   "cell_type": "code",
   "execution_count": 0,
   "metadata": {
    "colab": {},
    "colab_type": "code",
    "collapsed": true,
    "id": "4URCj2JVF7IL"
   },
   "outputs": [],
   "source": [
    "feature_cols=['ALTERNATE PARKING',\n",
    "                             'BLOCKED DRIVEWAY (ALL)',\n",
    "       'BUS RT. NO PARKING 1:30 TO 7:00 AM 11/15-4/1',\n",
    "                                     'DOUBLE PARKING',\n",
    "                   'EXPIRED INSPECTION STICKER (ALL)',\n",
    "                       'EXPIRED REGISTRATION STICKER',\n",
    "                     'LESS THAN 20 FT FROM CROSSWALK',\n",
    "                                       'LOADING ZONE',\n",
    "                                     'METER OVERTIME',\n",
    "                             'METHOD OF PARKING(ALL)',\n",
    "                       'NO INSPECTIONS STICKER (ALL)',\n",
    "             'NO PARK COMMERICAL TRCK ON RESIDENTIAL',\n",
    "                                         'NO PARKING',\n",
    "                 'NO PARKING OF HOUSE TRAILERS (ALL)',\n",
    "                      'NO REGISTRATION STICKER (ALL)',\n",
    "              'NO REPAIRS IN STREET EXCEPT EMERGENCY',\n",
    "                                        'NO STANDING',\n",
    "                                  'NO STOPPING (ALL)',\n",
    "                                       'NO VIOLATION',\n",
    "                    'ONE LICENSE PLATE MISSING (ALL)',\n",
    "                    'PARKED BEYOND POSTED TIME LIMIT',\n",
    "                         'PARKED IN HANDICAPPED AREA',\n",
    "              'PARKED LESS THAN 15 FT - FIRE HYDRANT',\n",
    "                      'PARKED MORE THAN 12\"FROM CURB',\n",
    "                 'PARKED MORE THAN 72 HRS. SAME SPOT',\n",
    "                      'PARKED ON BRIDGE OR IN SUBWAY',\n",
    "                           'PARKED ON SIDEWALK (ALL)',\n",
    "                'PARKED OVER 18 FT FOR MORE THAN ONE',\n",
    "                   'PARKING IN WRONG DIRECTION (ALL)',\n",
    "                 'PARKING ON DIVIDED HWYS PROHIBITED',\n",
    "           'PARKING PROHIBITED IN CONSTRUCTION SITES',\n",
    "                                  'PARKING VIOLATION',\n",
    "                      'PARKING WITHOUT CONSENT (ALL)',\n",
    "                  'PERSISTEN VIOLATORS AND SCOFFLAWS',\n",
    "                              'SWITCHED PLATES (ALL)',\n",
    "                                  'UNKNOWN VIOLATION',\n",
    "               'UNREGISTERED VEH.ON PRIVATE PROPERTY',\n",
    "                 'VEHICLE BLOCKING HANDICAP CURB CUT',\n",
    "               'VEHICLE PARKED ON UNPAVED PORTION OR',\n",
    "                                               2007.0,\n",
    "                                               2008.0,\n",
    "                                               2009.0,\n",
    "                                               2010.0,\n",
    "                                               2011.0,\n",
    "                                               2012.0,\n",
    "                                               2013.0,\n",
    "                                               2014.0,\n",
    "                                               2015.0,\n",
    "                                               2016.0,\n",
    "                                               2017.0,\n",
    "                                               2018.0,\n",
    "                                               2019.0]"
   ]
  },
  {
   "cell_type": "markdown",
   "metadata": {
    "colab_type": "text",
    "id": "Bhf9XtaNf0u6"
   },
   "source": [
    "### Input : Feature columns\n",
    "### Target variable : Neighborhood Rank"
   ]
  },
  {
   "cell_type": "code",
   "execution_count": 0,
   "metadata": {
    "colab": {},
    "colab_type": "code",
    "collapsed": true,
    "id": "U6R5TKP8YOLR"
   },
   "outputs": [],
   "source": [
    "X = parking_final[feature_cols] # Features\n",
    "y = parking_final.RANK"
   ]
  },
  {
   "cell_type": "code",
   "execution_count": 0,
   "metadata": {
    "colab": {},
    "colab_type": "code",
    "collapsed": true,
    "id": "kpqHGGmLYQuo"
   },
   "outputs": [],
   "source": [
    "X_train, X_test, y_train, y_test = train_test_split(X, y, test_size=0.3, random_state=1)"
   ]
  },
  {
   "cell_type": "markdown",
   "metadata": {
    "colab_type": "text",
    "id": "F-R8gelljnhg"
   },
   "source": [
    "### Normalization of the inputs"
   ]
  },
  {
   "cell_type": "code",
   "execution_count": 0,
   "metadata": {
    "colab": {},
    "colab_type": "code",
    "collapsed": true,
    "id": "DN7pjomjYYWY"
   },
   "outputs": [],
   "source": [
    "from sklearn.preprocessing import StandardScaler\n",
    "\n",
    "sc = StandardScaler()\n",
    "X_train = sc.fit_transform(X_train)\n",
    "X_test = sc.transform(X_test)"
   ]
  },
  {
   "cell_type": "markdown",
   "metadata": {
    "colab_type": "text",
    "id": "zm93_lpnjyQH"
   },
   "source": [
    "### **Random forest Regressor**"
   ]
  },
  {
   "cell_type": "code",
   "execution_count": 0,
   "metadata": {
    "colab": {},
    "colab_type": "code",
    "collapsed": true,
    "id": "1ahi8TG9YcgG"
   },
   "outputs": [],
   "source": [
    "from sklearn.ensemble import RandomForestRegressor\n",
    "\n",
    "regressor = RandomForestRegressor(n_estimators=20, random_state=0)\n",
    "regressor.fit(X_train, y_train)\n",
    "y_pred = regressor.predict(X_test)"
   ]
  },
  {
   "cell_type": "markdown",
   "metadata": {
    "colab_type": "text",
    "id": "NyiA-pQ8kANg"
   },
   "source": [
    "### Sample dataframe of actual and predcited Ranks"
   ]
  },
  {
   "cell_type": "code",
   "execution_count": 0,
   "metadata": {
    "colab": {
     "base_uri": "https://localhost:8080/",
     "height": 419
    },
    "colab_type": "code",
    "collapsed": false,
    "id": "PpgrVSPkYgCx",
    "outputId": "11a4d0b3-f018-4cd8-eba5-d38521d662fa"
   },
   "outputs": [
    {
     "data": {
      "text/html": [
       "<div>\n",
       "<style scoped>\n",
       "    .dataframe tbody tr th:only-of-type {\n",
       "        vertical-align: middle;\n",
       "    }\n",
       "\n",
       "    .dataframe tbody tr th {\n",
       "        vertical-align: top;\n",
       "    }\n",
       "\n",
       "    .dataframe thead th {\n",
       "        text-align: right;\n",
       "    }\n",
       "</style>\n",
       "<table border=\"1\" class=\"dataframe\">\n",
       "  <thead>\n",
       "    <tr style=\"text-align: right;\">\n",
       "      <th></th>\n",
       "      <th>Actual</th>\n",
       "      <th>Predicted</th>\n",
       "    </tr>\n",
       "  </thead>\n",
       "  <tbody>\n",
       "    <tr>\n",
       "      <th>952053</th>\n",
       "      <td>1</td>\n",
       "      <td>14.594374</td>\n",
       "    </tr>\n",
       "    <tr>\n",
       "      <th>2150132</th>\n",
       "      <td>40</td>\n",
       "      <td>17.838917</td>\n",
       "    </tr>\n",
       "    <tr>\n",
       "      <th>1520236</th>\n",
       "      <td>24</td>\n",
       "      <td>16.624840</td>\n",
       "    </tr>\n",
       "    <tr>\n",
       "      <th>1568810</th>\n",
       "      <td>24</td>\n",
       "      <td>19.303079</td>\n",
       "    </tr>\n",
       "    <tr>\n",
       "      <th>1490843</th>\n",
       "      <td>22</td>\n",
       "      <td>14.526487</td>\n",
       "    </tr>\n",
       "    <tr>\n",
       "      <th>...</th>\n",
       "      <td>...</td>\n",
       "      <td>...</td>\n",
       "    </tr>\n",
       "    <tr>\n",
       "      <th>2529955</th>\n",
       "      <td>18</td>\n",
       "      <td>16.265856</td>\n",
       "    </tr>\n",
       "    <tr>\n",
       "      <th>22932</th>\n",
       "      <td>36</td>\n",
       "      <td>20.038058</td>\n",
       "    </tr>\n",
       "    <tr>\n",
       "      <th>2304891</th>\n",
       "      <td>23</td>\n",
       "      <td>20.532279</td>\n",
       "    </tr>\n",
       "    <tr>\n",
       "      <th>1951624</th>\n",
       "      <td>27</td>\n",
       "      <td>15.580360</td>\n",
       "    </tr>\n",
       "    <tr>\n",
       "      <th>2694288</th>\n",
       "      <td>13</td>\n",
       "      <td>19.493193</td>\n",
       "    </tr>\n",
       "  </tbody>\n",
       "</table>\n",
       "<p>843795 rows × 2 columns</p>\n",
       "</div>"
      ],
      "text/plain": [
       "         Actual  Predicted\n",
       "952053        1  14.594374\n",
       "2150132      40  17.838917\n",
       "1520236      24  16.624840\n",
       "1568810      24  19.303079\n",
       "1490843      22  14.526487\n",
       "...         ...        ...\n",
       "2529955      18  16.265856\n",
       "22932        36  20.038058\n",
       "2304891      23  20.532279\n",
       "1951624      27  15.580360\n",
       "2694288      13  19.493193\n",
       "\n",
       "[843795 rows x 2 columns]"
      ]
     },
     "execution_count": 31,
     "metadata": {
      "tags": []
     },
     "output_type": "execute_result"
    }
   ],
   "source": [
    "df=pd.DataFrame({'Actual':y_test, 'Predicted':y_pred,})\n",
    "df"
   ]
  },
  {
   "cell_type": "markdown",
   "metadata": {
    "colab_type": "text",
    "id": "uE6ZzMA4kJUZ"
   },
   "source": [
    "### Accuracy metrics"
   ]
  },
  {
   "cell_type": "code",
   "execution_count": 0,
   "metadata": {
    "colab": {
     "base_uri": "https://localhost:8080/",
     "height": 68
    },
    "colab_type": "code",
    "collapsed": false,
    "id": "lSYp1-5DYlMY",
    "outputId": "554fffb3-716b-43be-cdb7-997c4b3a6b1c"
   },
   "outputs": [
    {
     "name": "stdout",
     "output_type": "stream",
     "text": [
      "Mean Absolute Error: 10.542114967587207\n",
      "Mean Squared Error: 151.1185791403219\n",
      "Root Mean Squared Error: 12.293029697365979\n"
     ]
    }
   ],
   "source": [
    "from sklearn import metrics\n",
    "\n",
    "print('Mean Absolute Error:', metrics.mean_absolute_error(y_test, y_pred))\n",
    "print('Mean Squared Error:', metrics.mean_squared_error(y_test, y_pred))\n",
    "print('Root Mean Squared Error:', np.sqrt(metrics.mean_squared_error(y_test, y_pred)))"
   ]
  },
  {
   "cell_type": "code",
   "execution_count": 0,
   "metadata": {
    "colab": {
     "base_uri": "https://localhost:8080/",
     "height": 1000
    },
    "colab_type": "code",
    "collapsed": false,
    "id": "B3kY3Iafnwa9",
    "outputId": "fb516882-6479-4766-f759-704552928b1b"
   },
   "outputs": [
    {
     "data": {
      "text/plain": [
       "Index([                              'SUMMONS NUMBER',\n",
       "                                       'SUMMONS DATE',\n",
       "                                     'VIOLATION TIME',\n",
       "                              'VIOLATION DESCRIPTION',\n",
       "                                      'ORIGINAL FINE',\n",
       "                           'VIOLATION ADDRESS NUMBER',\n",
       "                                   'VIOLATION STREET',\n",
       "                             'VIOLATION FULL ADDRESS',\n",
       "                                               'CITY',\n",
       "                                              'STATE',\n",
       "                                           'LATITUDE',\n",
       "                                          'LONGITUDE',\n",
       "                                           'LOCATION',\n",
       "                                   'COUNCIL DISTRICT',\n",
       "                                    'POLICE DISTRICT',\n",
       "                                       'CENSUS TRACT',\n",
       "                                 'CENSUS BLOCK GROUP',\n",
       "                                       'CENSUS BLOCK',\n",
       "                                       'NEIGHBORHOOD',\n",
       "                                          'WALKSCORE',\n",
       "                                               'RANK',\n",
       "                               'GENTRIFICATION SCORE',\n",
       "                                     'CLASSIFCATION ',\n",
       "                                              'CLASS',\n",
       "                                  'ALTERNATE PARKING',\n",
       "                             'BLOCKED DRIVEWAY (ALL)',\n",
       "       'BUS RT. NO PARKING 1:30 TO 7:00 AM 11/15-4/1',\n",
       "                                     'DOUBLE PARKING',\n",
       "                   'EXPIRED INSPECTION STICKER (ALL)',\n",
       "                       'EXPIRED REGISTRATION STICKER',\n",
       "                     'LESS THAN 20 FT FROM CROSSWALK',\n",
       "                                       'LOADING ZONE',\n",
       "                                     'METER OVERTIME',\n",
       "                             'METHOD OF PARKING(ALL)',\n",
       "                       'NO INSPECTIONS STICKER (ALL)',\n",
       "             'NO PARK COMMERICAL TRCK ON RESIDENTIAL',\n",
       "                                         'NO PARKING',\n",
       "                 'NO PARKING OF HOUSE TRAILERS (ALL)',\n",
       "                      'NO REGISTRATION STICKER (ALL)',\n",
       "              'NO REPAIRS IN STREET EXCEPT EMERGENCY',\n",
       "                                        'NO STANDING',\n",
       "                                  'NO STOPPING (ALL)',\n",
       "                                       'NO VIOLATION',\n",
       "                    'ONE LICENSE PLATE MISSING (ALL)',\n",
       "                    'PARKED BEYOND POSTED TIME LIMIT',\n",
       "                         'PARKED IN HANDICAPPED AREA',\n",
       "              'PARKED LESS THAN 15 FT - FIRE HYDRANT',\n",
       "                      'PARKED MORE THAN 12\"FROM CURB',\n",
       "                 'PARKED MORE THAN 72 HRS. SAME SPOT',\n",
       "                      'PARKED ON BRIDGE OR IN SUBWAY',\n",
       "                           'PARKED ON SIDEWALK (ALL)',\n",
       "                'PARKED OVER 18 FT FOR MORE THAN ONE',\n",
       "                   'PARKING IN WRONG DIRECTION (ALL)',\n",
       "                 'PARKING ON DIVIDED HWYS PROHIBITED',\n",
       "           'PARKING PROHIBITED IN CONSTRUCTION SITES',\n",
       "                                  'PARKING VIOLATION',\n",
       "                      'PARKING WITHOUT CONSENT (ALL)',\n",
       "                  'PERSISTEN VIOLATORS AND SCOFFLAWS',\n",
       "                              'SWITCHED PLATES (ALL)',\n",
       "                                  'UNKNOWN VIOLATION',\n",
       "               'UNREGISTERED VEH.ON PRIVATE PROPERTY',\n",
       "                 'VEHICLE BLOCKING HANDICAP CURB CUT',\n",
       "               'VEHICLE PARKED ON UNPAVED PORTION OR',\n",
       "                                               2007.0,\n",
       "                                               2008.0,\n",
       "                                               2009.0,\n",
       "                                               2010.0,\n",
       "                                               2011.0,\n",
       "                                               2012.0,\n",
       "                                               2013.0,\n",
       "                                               2014.0,\n",
       "                                               2015.0,\n",
       "                                               2016.0,\n",
       "                                               2017.0,\n",
       "                                               2018.0,\n",
       "                                               2019.0],\n",
       "      dtype='object')"
      ]
     },
     "execution_count": 33,
     "metadata": {
      "tags": []
     },
     "output_type": "execute_result"
    }
   ],
   "source": [
    "parking_final.columns"
   ]
  },
  {
   "cell_type": "code",
   "execution_count": 0,
   "metadata": {
    "colab": {
     "base_uri": "https://localhost:8080/",
     "height": 221
    },
    "colab_type": "code",
    "collapsed": false,
    "id": "EItrzccYn4RH",
    "outputId": "72280aa4-8ae8-4ff6-f0e3-caffe3a01fa9"
   },
   "outputs": [
    {
     "data": {
      "text/plain": [
       "0          25\n",
       "1          25\n",
       "2          25\n",
       "3          25\n",
       "4          25\n",
       "           ..\n",
       "2812642    75\n",
       "2812643    75\n",
       "2812644    75\n",
       "2812645    75\n",
       "2812646    75\n",
       "Name: CLASSIFCATION , Length: 2812647, dtype: int64"
      ]
     },
     "execution_count": 34,
     "metadata": {
      "tags": []
     },
     "output_type": "execute_result"
    }
   ],
   "source": [
    "parking_final['CLASSIFCATION ']"
   ]
  },
  {
   "cell_type": "code",
   "execution_count": 0,
   "metadata": {
    "colab": {},
    "colab_type": "code",
    "collapsed": true,
    "id": "F479UvKwkjuj"
   },
   "outputs": [],
   "source": [
    "X1 = parking_final[feature_cols] # Features\n",
    "y1 = parking_final['CLASS'] "
   ]
  },
  {
   "cell_type": "code",
   "execution_count": 0,
   "metadata": {
    "colab": {},
    "colab_type": "code",
    "collapsed": true,
    "id": "DkRFdp1UY5K7"
   },
   "outputs": [],
   "source": [
    "X1_train, X1_test, y1_train, y1_test = train_test_split(X1, y1, test_size=0.3, random_state=1)"
   ]
  },
  {
   "cell_type": "markdown",
   "metadata": {
    "colab_type": "text",
    "id": "rGUGUs4zknFr"
   },
   "source": [
    "### Random forest classifier\n",
    "#### Input : Feature columns\n",
    "#### Target Variable : Ranking categories (25,50,75,100)"
   ]
  },
  {
   "cell_type": "code",
   "execution_count": 0,
   "metadata": {
    "colab": {
     "base_uri": "https://localhost:8080/",
     "height": 153
    },
    "colab_type": "code",
    "collapsed": false,
    "id": "i68r_QK3iiZr",
    "outputId": "a7e9d833-6113-483e-f338-22bfc8f55070"
   },
   "outputs": [
    {
     "data": {
      "text/plain": [
       "RandomForestClassifier(bootstrap=True, ccp_alpha=0.0, class_weight=None,\n",
       "                       criterion='gini', max_depth=None, max_features='auto',\n",
       "                       max_leaf_nodes=None, max_samples=None,\n",
       "                       min_impurity_decrease=0.0, min_impurity_split=None,\n",
       "                       min_samples_leaf=1, min_samples_split=2,\n",
       "                       min_weight_fraction_leaf=0.0, n_estimators=100,\n",
       "                       n_jobs=None, oob_score=False, random_state=None,\n",
       "                       verbose=0, warm_start=False)"
      ]
     },
     "execution_count": 37,
     "metadata": {
      "tags": []
     },
     "output_type": "execute_result"
    }
   ],
   "source": [
    "from sklearn.ensemble import RandomForestClassifier\n",
    "\n",
    "#Create a Gaussian Classifier\n",
    "clf=RandomForestClassifier(n_estimators=100)\n",
    "\n",
    "#Train the model using the training sets y_pred=clf.predict(X_test)\n",
    "clf.fit(X1_train,y1_train)\n"
   ]
  },
  {
   "cell_type": "code",
   "execution_count": 0,
   "metadata": {
    "colab": {},
    "colab_type": "code",
    "collapsed": true,
    "id": "-wq7JVXxYxmp"
   },
   "outputs": [],
   "source": [
    "\n",
    "y1_pred=clf.predict(X1_test)"
   ]
  },
  {
   "cell_type": "markdown",
   "metadata": {
    "colab_type": "text",
    "id": "wlXC5WInlATU"
   },
   "source": [
    "### Classification Accuracy"
   ]
  },
  {
   "cell_type": "code",
   "execution_count": 0,
   "metadata": {
    "colab": {
     "base_uri": "https://localhost:8080/",
     "height": 34
    },
    "colab_type": "code",
    "collapsed": false,
    "id": "Rk9iVns0lSnz",
    "outputId": "89e2c590-4399-4ebe-82f6-f4db2f3d1539"
   },
   "outputs": [
    {
     "name": "stdout",
     "output_type": "stream",
     "text": [
      "Accuracy: 0.3773677255731546\n"
     ]
    }
   ],
   "source": [
    "from sklearn import metrics\n",
    "# Model Accuracy, how often is the classifier correct?\n",
    "print(\"Accuracy:\",metrics.accuracy_score(y1_test, y1_pred))"
   ]
  },
  {
   "cell_type": "markdown",
   "metadata": {
    "colab_type": "text",
    "id": "FY4JPVpocwR2"
   },
   "source": [
    "### Labelling the Dataset against Assessment Price"
   ]
  },
  {
   "cell_type": "code",
   "execution_count": 0,
   "metadata": {
    "colab": {},
    "colab_type": "code",
    "collapsed": true,
    "id": "NiY09m1wc1i_"
   },
   "outputs": [],
   "source": [
    "assessment_price=pd.read_csv('/content/drive/My Drive/Gentrification/census_rank_Assessmentprice.csv')"
   ]
  },
  {
   "cell_type": "code",
   "execution_count": 0,
   "metadata": {
    "colab": {},
    "colab_type": "code",
    "collapsed": true,
    "id": "6ndqsHtlfCRz"
   },
   "outputs": [],
   "source": [
    "assessment_price['CENSUS TRACT'] = pd.to_numeric(assessment_price['CENSUS TRACT'], errors='coerce')\n",
    "assessment_price = assessment_price.dropna(subset=['CENSUS TRACT'])\n",
    "assessment_price['CENSUS TRACT']=assessment_price['CENSUS TRACT'].astype(float)"
   ]
  },
  {
   "cell_type": "code",
   "execution_count": 0,
   "metadata": {
    "colab": {},
    "colab_type": "code",
    "collapsed": true,
    "id": "nXEpaqgzfHoE"
   },
   "outputs": [],
   "source": [
    "parking_ranked_assessment=parking_summonses.merge(assessment_price,on='CENSUS TRACT')"
   ]
  },
  {
   "cell_type": "code",
   "execution_count": 0,
   "metadata": {
    "colab": {
     "base_uri": "https://localhost:8080/",
     "height": 728
    },
    "colab_type": "code",
    "collapsed": false,
    "id": "roPJAAKgfoZG",
    "outputId": "0108d88f-90c7-42d1-a353-75a1fa8bd18e"
   },
   "outputs": [
    {
     "data": {
      "text/html": [
       "<div>\n",
       "<style scoped>\n",
       "    .dataframe tbody tr th:only-of-type {\n",
       "        vertical-align: middle;\n",
       "    }\n",
       "\n",
       "    .dataframe tbody tr th {\n",
       "        vertical-align: top;\n",
       "    }\n",
       "\n",
       "    .dataframe thead th {\n",
       "        text-align: right;\n",
       "    }\n",
       "</style>\n",
       "<table border=\"1\" class=\"dataframe\">\n",
       "  <thead>\n",
       "    <tr style=\"text-align: right;\">\n",
       "      <th></th>\n",
       "      <th>SUMMONS NUMBER</th>\n",
       "      <th>SUMMONS DATE</th>\n",
       "      <th>VIOLATION TIME</th>\n",
       "      <th>VIOLATION DESCRIPTION</th>\n",
       "      <th>ORIGINAL FINE</th>\n",
       "      <th>VIOLATION ADDRESS NUMBER</th>\n",
       "      <th>VIOLATION STREET</th>\n",
       "      <th>VIOLATION FULL ADDRESS</th>\n",
       "      <th>CITY</th>\n",
       "      <th>STATE</th>\n",
       "      <th>LATITUDE</th>\n",
       "      <th>LONGITUDE</th>\n",
       "      <th>LOCATION</th>\n",
       "      <th>COUNCIL DISTRICT</th>\n",
       "      <th>POLICE DISTRICT</th>\n",
       "      <th>CENSUS TRACT</th>\n",
       "      <th>CENSUS BLOCK GROUP</th>\n",
       "      <th>CENSUS BLOCK</th>\n",
       "      <th>Price/sqft</th>\n",
       "      <th>Rank</th>\n",
       "    </tr>\n",
       "  </thead>\n",
       "  <tbody>\n",
       "    <tr>\n",
       "      <th>0</th>\n",
       "      <td>X2308148</td>\n",
       "      <td>08/02/2019</td>\n",
       "      <td>0125P</td>\n",
       "      <td>PARKING VIOLATION</td>\n",
       "      <td>40.0</td>\n",
       "      <td>175.0</td>\n",
       "      <td>FRANKLIN</td>\n",
       "      <td>175 FRANKLIN</td>\n",
       "      <td>Buffalo</td>\n",
       "      <td>NY</td>\n",
       "      <td>42.888195</td>\n",
       "      <td>-78.875835</td>\n",
       "      <td>(42.8881947942094, -78.87583500193372)</td>\n",
       "      <td>ELLICOTT</td>\n",
       "      <td>District B</td>\n",
       "      <td>165.0</td>\n",
       "      <td>1</td>\n",
       "      <td>1028</td>\n",
       "      <td>272.117490</td>\n",
       "      <td>2</td>\n",
       "    </tr>\n",
       "    <tr>\n",
       "      <th>1</th>\n",
       "      <td>X2308149</td>\n",
       "      <td>08/02/2019</td>\n",
       "      <td>0130P</td>\n",
       "      <td>NO STANDING</td>\n",
       "      <td>40.0</td>\n",
       "      <td>37.0</td>\n",
       "      <td>HURON WEST</td>\n",
       "      <td>37 HURON WEST</td>\n",
       "      <td>Buffalo</td>\n",
       "      <td>NY</td>\n",
       "      <td>42.888948</td>\n",
       "      <td>-78.874872</td>\n",
       "      <td>(42.88894814599496, -78.87487202385579)</td>\n",
       "      <td>ELLICOTT</td>\n",
       "      <td>District B</td>\n",
       "      <td>165.0</td>\n",
       "      <td>1</td>\n",
       "      <td>1022</td>\n",
       "      <td>272.117490</td>\n",
       "      <td>2</td>\n",
       "    </tr>\n",
       "    <tr>\n",
       "      <th>2</th>\n",
       "      <td>X2308151</td>\n",
       "      <td>08/02/2019</td>\n",
       "      <td>0305P</td>\n",
       "      <td>METER OVERTIME</td>\n",
       "      <td>40.0</td>\n",
       "      <td>228.0</td>\n",
       "      <td>FRANKLIN</td>\n",
       "      <td>228 FRANKLIN</td>\n",
       "      <td>Buffalo</td>\n",
       "      <td>NY</td>\n",
       "      <td>42.890040</td>\n",
       "      <td>-78.875395</td>\n",
       "      <td>(42.89003992129964, -78.87539503306608)</td>\n",
       "      <td>ELLICOTT</td>\n",
       "      <td>District B</td>\n",
       "      <td>165.0</td>\n",
       "      <td>1</td>\n",
       "      <td>1023</td>\n",
       "      <td>272.117490</td>\n",
       "      <td>2</td>\n",
       "    </tr>\n",
       "    <tr>\n",
       "      <th>3</th>\n",
       "      <td>X2308152</td>\n",
       "      <td>08/02/2019</td>\n",
       "      <td>0312P</td>\n",
       "      <td>METER OVERTIME</td>\n",
       "      <td>40.0</td>\n",
       "      <td>210.0</td>\n",
       "      <td>FRANKLIN</td>\n",
       "      <td>210 FRANKLIN</td>\n",
       "      <td>Buffalo</td>\n",
       "      <td>NY</td>\n",
       "      <td>42.889319</td>\n",
       "      <td>-78.875628</td>\n",
       "      <td>(42.88931932925486, -78.87562789846032)</td>\n",
       "      <td>ELLICOTT</td>\n",
       "      <td>District B</td>\n",
       "      <td>165.0</td>\n",
       "      <td>1</td>\n",
       "      <td>1023</td>\n",
       "      <td>272.117490</td>\n",
       "      <td>2</td>\n",
       "    </tr>\n",
       "    <tr>\n",
       "      <th>4</th>\n",
       "      <td>X2308153</td>\n",
       "      <td>08/02/2019</td>\n",
       "      <td>0320P</td>\n",
       "      <td>METER OVERTIME</td>\n",
       "      <td>40.0</td>\n",
       "      <td>22.0</td>\n",
       "      <td>SENECA WEST</td>\n",
       "      <td>22 SENECA WEST</td>\n",
       "      <td>Buffalo</td>\n",
       "      <td>NY</td>\n",
       "      <td>42.880596</td>\n",
       "      <td>-78.875566</td>\n",
       "      <td>(42.880595539253534, -78.87556606949188)</td>\n",
       "      <td>FILLMORE</td>\n",
       "      <td>District B</td>\n",
       "      <td>165.0</td>\n",
       "      <td>1</td>\n",
       "      <td>1114</td>\n",
       "      <td>272.117490</td>\n",
       "      <td>2</td>\n",
       "    </tr>\n",
       "    <tr>\n",
       "      <th>...</th>\n",
       "      <td>...</td>\n",
       "      <td>...</td>\n",
       "      <td>...</td>\n",
       "      <td>...</td>\n",
       "      <td>...</td>\n",
       "      <td>...</td>\n",
       "      <td>...</td>\n",
       "      <td>...</td>\n",
       "      <td>...</td>\n",
       "      <td>...</td>\n",
       "      <td>...</td>\n",
       "      <td>...</td>\n",
       "      <td>...</td>\n",
       "      <td>...</td>\n",
       "      <td>...</td>\n",
       "      <td>...</td>\n",
       "      <td>...</td>\n",
       "      <td>...</td>\n",
       "      <td>...</td>\n",
       "      <td>...</td>\n",
       "    </tr>\n",
       "    <tr>\n",
       "      <th>2109939</th>\n",
       "      <td>Y9844732</td>\n",
       "      <td>06/11/2015</td>\n",
       "      <td>1226A</td>\n",
       "      <td>EXPIRED INSPECTION STICKER (ALL)</td>\n",
       "      <td>35.0</td>\n",
       "      <td>100.0</td>\n",
       "      <td>HOWARD</td>\n",
       "      <td>100 HOWARD</td>\n",
       "      <td>Buffalo</td>\n",
       "      <td>NY</td>\n",
       "      <td>42.883386</td>\n",
       "      <td>-78.850221</td>\n",
       "      <td>(42.88338630523, -78.850220902355)</td>\n",
       "      <td>ELLICOTT</td>\n",
       "      <td>District C</td>\n",
       "      <td>15.0</td>\n",
       "      <td>2</td>\n",
       "      <td>2023</td>\n",
       "      <td>24.060547</td>\n",
       "      <td>66</td>\n",
       "    </tr>\n",
       "    <tr>\n",
       "      <th>2109940</th>\n",
       "      <td>Y9844733</td>\n",
       "      <td>06/11/2015</td>\n",
       "      <td>1229A</td>\n",
       "      <td>NO PARKING</td>\n",
       "      <td>35.0</td>\n",
       "      <td>165.0</td>\n",
       "      <td>HOWARD</td>\n",
       "      <td>165 HOWARD</td>\n",
       "      <td>Buffalo</td>\n",
       "      <td>NY</td>\n",
       "      <td>42.883285</td>\n",
       "      <td>-78.847895</td>\n",
       "      <td>(42.883285141776, -78.847894893586)</td>\n",
       "      <td>FILLMORE</td>\n",
       "      <td>District C</td>\n",
       "      <td>15.0</td>\n",
       "      <td>1</td>\n",
       "      <td>1008</td>\n",
       "      <td>24.060547</td>\n",
       "      <td>66</td>\n",
       "    </tr>\n",
       "    <tr>\n",
       "      <th>2109941</th>\n",
       "      <td>Y9844734</td>\n",
       "      <td>06/11/2015</td>\n",
       "      <td>1230A</td>\n",
       "      <td>EXPIRED INSPECTION STICKER (ALL)</td>\n",
       "      <td>35.0</td>\n",
       "      <td>165.0</td>\n",
       "      <td>HOWARD</td>\n",
       "      <td>165 HOWARD</td>\n",
       "      <td>Buffalo</td>\n",
       "      <td>NY</td>\n",
       "      <td>42.883285</td>\n",
       "      <td>-78.847895</td>\n",
       "      <td>(42.883285141776, -78.847894893586)</td>\n",
       "      <td>FILLMORE</td>\n",
       "      <td>District C</td>\n",
       "      <td>15.0</td>\n",
       "      <td>1</td>\n",
       "      <td>1008</td>\n",
       "      <td>24.060547</td>\n",
       "      <td>66</td>\n",
       "    </tr>\n",
       "    <tr>\n",
       "      <th>2109942</th>\n",
       "      <td>Z9835576</td>\n",
       "      <td>05/14/2015</td>\n",
       "      <td>1106A</td>\n",
       "      <td>ALTERNATE PARKING</td>\n",
       "      <td>30.0</td>\n",
       "      <td>66.0</td>\n",
       "      <td>WATSON</td>\n",
       "      <td>66 WATSON</td>\n",
       "      <td>Buffalo</td>\n",
       "      <td>NY</td>\n",
       "      <td>42.881833</td>\n",
       "      <td>-78.849974</td>\n",
       "      <td>(42.881833438232, -78.849974179483)</td>\n",
       "      <td>ELLICOTT</td>\n",
       "      <td>District C</td>\n",
       "      <td>15.0</td>\n",
       "      <td>1</td>\n",
       "      <td>1010</td>\n",
       "      <td>24.060547</td>\n",
       "      <td>66</td>\n",
       "    </tr>\n",
       "    <tr>\n",
       "      <th>2109943</th>\n",
       "      <td>x2172797</td>\n",
       "      <td>10/18/2018</td>\n",
       "      <td>1252P</td>\n",
       "      <td>ALTERNATE PARKING</td>\n",
       "      <td>40.0</td>\n",
       "      <td>255.0</td>\n",
       "      <td>SHUMWAY</td>\n",
       "      <td>255 SHUMWAY</td>\n",
       "      <td>Buffalo</td>\n",
       "      <td>NY</td>\n",
       "      <td>42.890504</td>\n",
       "      <td>-78.844912</td>\n",
       "      <td>(42.890503659153, -78.844912326263)</td>\n",
       "      <td>FILLMORE</td>\n",
       "      <td>District C</td>\n",
       "      <td>15.0</td>\n",
       "      <td>2</td>\n",
       "      <td>2000</td>\n",
       "      <td>24.060547</td>\n",
       "      <td>66</td>\n",
       "    </tr>\n",
       "  </tbody>\n",
       "</table>\n",
       "<p>2109418 rows × 20 columns</p>\n",
       "</div>"
      ],
      "text/plain": [
       "        SUMMONS NUMBER SUMMONS DATE  ...  Price/sqft Rank\n",
       "0             X2308148   08/02/2019  ...  272.117490    2\n",
       "1             X2308149   08/02/2019  ...  272.117490    2\n",
       "2             X2308151   08/02/2019  ...  272.117490    2\n",
       "3             X2308152   08/02/2019  ...  272.117490    2\n",
       "4             X2308153   08/02/2019  ...  272.117490    2\n",
       "...                ...          ...  ...         ...  ...\n",
       "2109939       Y9844732   06/11/2015  ...   24.060547   66\n",
       "2109940       Y9844733   06/11/2015  ...   24.060547   66\n",
       "2109941       Y9844734   06/11/2015  ...   24.060547   66\n",
       "2109942       Z9835576   05/14/2015  ...   24.060547   66\n",
       "2109943       x2172797   10/18/2018  ...   24.060547   66\n",
       "\n",
       "[2109418 rows x 20 columns]"
      ]
     },
     "execution_count": 43,
     "metadata": {
      "tags": []
     },
     "output_type": "execute_result"
    }
   ],
   "source": [
    "parking_ranked_assessment.dropna()"
   ]
  },
  {
   "cell_type": "code",
   "execution_count": 0,
   "metadata": {
    "colab": {},
    "colab_type": "code",
    "collapsed": true,
    "id": "wpwmiEPyf4tk"
   },
   "outputs": [],
   "source": [
    "parking_ranked_assessment['SUMMONS DATE']=parking_ranked_assessment['SUMMONS DATE'].apply(lambda x:x[6] + x[7] +x[8] +x[9]) \n",
    "parking_ranked_assessment['SUMMONS DATE']=parking_ranked_assessment['SUMMONS DATE'].apply(lambda x:float(x))"
   ]
  },
  {
   "cell_type": "code",
   "execution_count": 0,
   "metadata": {
    "colab": {
     "base_uri": "https://localhost:8080/",
     "height": 71
    },
    "colab_type": "code",
    "collapsed": false,
    "id": "UsftHiPngSw4",
    "outputId": "8980011b-ae1b-40ca-93e6-042d4ea4c7bf"
   },
   "outputs": [
    {
     "name": "stderr",
     "output_type": "stream",
     "text": [
      "/usr/local/lib/python3.6/dist-packages/pandas/core/ops/__init__.py:1115: FutureWarning: elementwise comparison failed; returning scalar instead, but in the future will perform elementwise comparison\n",
      "  result = method(y)\n"
     ]
    }
   ],
   "source": [
    "parking_ranked_assessment=parking_ranked_assessment[parking_ranked_assessment['SUMMONS DATE'] != '2019']"
   ]
  },
  {
   "cell_type": "code",
   "execution_count": 0,
   "metadata": {
    "colab": {
     "base_uri": "https://localhost:8080/",
     "height": 153
    },
    "colab_type": "code",
    "collapsed": false,
    "id": "xX4s9nifgcNt",
    "outputId": "b0c2cc02-ca40-4f1b-fa3e-b465b1dc064b"
   },
   "outputs": [
    {
     "name": "stdout",
     "output_type": "stream",
     "text": [
      "   ALTERNATE PARKING  ...  VEHICLE PARKED ON UNPAVED PORTION OR\n",
      "0                  0  ...                                     0\n",
      "1                  0  ...                                     0\n",
      "2                  0  ...                                     0\n",
      "3                  0  ...                                     0\n",
      "4                  0  ...                                     0\n",
      "\n",
      "[5 rows x 39 columns]\n"
     ]
    }
   ],
   "source": [
    "from sklearn.preprocessing import LabelBinarizer\n",
    "\n",
    "lb = LabelBinarizer()\n",
    "lb_results = lb.fit_transform(parking_ranked_assessment['VIOLATION DESCRIPTION'])\n",
    "lb_results_df = pd.DataFrame(lb_results, columns=lb.classes_)\n",
    "\n",
    "print(lb_results_df.head())"
   ]
  },
  {
   "cell_type": "code",
   "execution_count": 0,
   "metadata": {
    "colab": {
     "base_uri": "https://localhost:8080/",
     "height": 153
    },
    "colab_type": "code",
    "collapsed": false,
    "id": "gfJZge_sgnxD",
    "outputId": "ccf3f143-ef68-4c62-d112-35ac3691e1b9"
   },
   "outputs": [
    {
     "name": "stdout",
     "output_type": "stream",
     "text": [
      "  SUMMONS NUMBER  ...  VEHICLE PARKED ON UNPAVED PORTION OR\n",
      "0       X2308148  ...                                     0\n",
      "1       X2308149  ...                                     0\n",
      "2       X2308151  ...                                     0\n",
      "3       X2308152  ...                                     0\n",
      "4       X2308153  ...                                     0\n",
      "\n",
      "[5 rows x 59 columns]\n"
     ]
    }
   ],
   "source": [
    "parking_final_assessment = pd.concat([parking_ranked_assessment, lb_results_df], axis=1)\n",
    "\n",
    "print(parking_final_assessment.head())"
   ]
  },
  {
   "cell_type": "code",
   "execution_count": 0,
   "metadata": {
    "colab": {},
    "colab_type": "code",
    "collapsed": true,
    "id": "lu1_XCuAgtdz"
   },
   "outputs": [],
   "source": [
    "feature_cols =['SUMMONS DATE','ALTERNATE PARKING',\n",
    "       'BLOCKED DRIVEWAY (ALL)',\n",
    "       'BUS RT. NO PARKING 1:30 TO 7:00 AM 11/15-4/1', 'DOUBLE PARKING',\n",
    "       'EXPIRED INSPECTION STICKER (ALL)', 'EXPIRED REGISTRATION STICKER',\n",
    "       'LESS THAN 20 FT FROM CROSSWALK', 'LOADING ZONE', 'METER OVERTIME',\n",
    "       'METHOD OF PARKING(ALL)', 'NO INSPECTIONS STICKER (ALL)',\n",
    "       'NO PARK COMMERICAL TRCK ON RESIDENTIAL', 'NO PARKING',\n",
    "       'NO PARKING OF HOUSE TRAILERS (ALL)', 'NO REGISTRATION STICKER (ALL)',\n",
    "       'NO REPAIRS IN STREET EXCEPT EMERGENCY', 'NO STANDING',\n",
    "       'NO STOPPING (ALL)', 'NO VIOLATION', 'ONE LICENSE PLATE MISSING (ALL)',\n",
    "       'PARKED BEYOND POSTED TIME LIMIT', 'PARKED IN HANDICAPPED AREA',\n",
    "       'PARKED LESS THAN 15 FT - FIRE HYDRANT',\n",
    "       'PARKED MORE THAN 12\"FROM CURB', 'PARKED MORE THAN 72 HRS. SAME SPOT',\n",
    "       'PARKED ON BRIDGE OR IN SUBWAY', 'PARKED ON SIDEWALK (ALL)',\n",
    "       'PARKED OVER 18 FT FOR MORE THAN ONE',\n",
    "       'PARKING IN WRONG DIRECTION (ALL)',\n",
    "       'PARKING ON DIVIDED HWYS PROHIBITED',\n",
    "       'PARKING PROHIBITED IN CONSTRUCTION SITES', 'PARKING VIOLATION',\n",
    "       'PARKING WITHOUT CONSENT (ALL)', 'PERSISTEN VIOLATORS AND SCOFFLAWS',\n",
    "       'SWITCHED PLATES (ALL)', 'UNKNOWN VIOLATION',\n",
    "       'UNREGISTERED VEH.ON PRIVATE PROPERTY',\n",
    "       'VEHICLE BLOCKING HANDICAP CURB CUT',\n",
    "       'VEHICLE PARKED ON UNPAVED PORTION OR']"
   ]
  },
  {
   "cell_type": "code",
   "execution_count": 0,
   "metadata": {
    "colab": {},
    "colab_type": "code",
    "collapsed": true,
    "id": "fkLHXJnThPoa"
   },
   "outputs": [],
   "source": [
    " parking_final_assessment['Rank'].fillna((parking_final_assessment['Rank'].mean()),inplace=True)"
   ]
  },
  {
   "cell_type": "code",
   "execution_count": 0,
   "metadata": {
    "colab": {},
    "colab_type": "code",
    "collapsed": true,
    "id": "xb4TpJaNhYPp"
   },
   "outputs": [],
   "source": [
    "X = parking_final_assessment[feature_cols] # Features\n",
    "y = parking_final_assessment.Rank"
   ]
  },
  {
   "cell_type": "code",
   "execution_count": 0,
   "metadata": {
    "colab": {},
    "colab_type": "code",
    "collapsed": true,
    "id": "RXASYclVho7E"
   },
   "outputs": [],
   "source": [
    "X_train, X_test, y_train, y_test = train_test_split(X, y, test_size=0.3, random_state=1)"
   ]
  },
  {
   "cell_type": "code",
   "execution_count": 0,
   "metadata": {
    "colab": {},
    "colab_type": "code",
    "collapsed": true,
    "id": "2f18OQDbhynl"
   },
   "outputs": [],
   "source": [
    "from sklearn.ensemble import RandomForestRegressor\n",
    "\n",
    "regressor = RandomForestRegressor(n_estimators=20, random_state=0)\n",
    "regressor.fit(X_train, y_train)\n",
    "y_pred = regressor.predict(X_test)"
   ]
  },
  {
   "cell_type": "code",
   "execution_count": 0,
   "metadata": {
    "colab": {
     "base_uri": "https://localhost:8080/",
     "height": 419
    },
    "colab_type": "code",
    "collapsed": false,
    "id": "vUZgpzQrh3cd",
    "outputId": "15781203-3695-4e38-c50e-f9cb0e29405a"
   },
   "outputs": [
    {
     "data": {
      "text/html": [
       "<div>\n",
       "<style scoped>\n",
       "    .dataframe tbody tr th:only-of-type {\n",
       "        vertical-align: middle;\n",
       "    }\n",
       "\n",
       "    .dataframe tbody tr th {\n",
       "        vertical-align: top;\n",
       "    }\n",
       "\n",
       "    .dataframe thead th {\n",
       "        text-align: right;\n",
       "    }\n",
       "</style>\n",
       "<table border=\"1\" class=\"dataframe\">\n",
       "  <thead>\n",
       "    <tr style=\"text-align: right;\">\n",
       "      <th></th>\n",
       "      <th>Actual</th>\n",
       "      <th>Predicted</th>\n",
       "    </tr>\n",
       "  </thead>\n",
       "  <tbody>\n",
       "    <tr>\n",
       "      <th>284683</th>\n",
       "      <td>2</td>\n",
       "      <td>28.166680</td>\n",
       "    </tr>\n",
       "    <tr>\n",
       "      <th>1219255</th>\n",
       "      <td>34</td>\n",
       "      <td>30.928944</td>\n",
       "    </tr>\n",
       "    <tr>\n",
       "      <th>399622</th>\n",
       "      <td>7</td>\n",
       "      <td>14.971995</td>\n",
       "    </tr>\n",
       "    <tr>\n",
       "      <th>1388856</th>\n",
       "      <td>4</td>\n",
       "      <td>12.688517</td>\n",
       "    </tr>\n",
       "    <tr>\n",
       "      <th>1582979</th>\n",
       "      <td>13</td>\n",
       "      <td>26.921618</td>\n",
       "    </tr>\n",
       "    <tr>\n",
       "      <th>...</th>\n",
       "      <td>...</td>\n",
       "      <td>...</td>\n",
       "    </tr>\n",
       "    <tr>\n",
       "      <th>586926</th>\n",
       "      <td>3</td>\n",
       "      <td>26.921618</td>\n",
       "    </tr>\n",
       "    <tr>\n",
       "      <th>1757866</th>\n",
       "      <td>14</td>\n",
       "      <td>30.988432</td>\n",
       "    </tr>\n",
       "    <tr>\n",
       "      <th>211580</th>\n",
       "      <td>2</td>\n",
       "      <td>27.939208</td>\n",
       "    </tr>\n",
       "    <tr>\n",
       "      <th>90944</th>\n",
       "      <td>2</td>\n",
       "      <td>12.688517</td>\n",
       "    </tr>\n",
       "    <tr>\n",
       "      <th>745291</th>\n",
       "      <td>20</td>\n",
       "      <td>25.789809</td>\n",
       "    </tr>\n",
       "  </tbody>\n",
       "</table>\n",
       "<p>632984 rows × 2 columns</p>\n",
       "</div>"
      ],
      "text/plain": [
       "         Actual  Predicted\n",
       "284683        2  28.166680\n",
       "1219255      34  30.928944\n",
       "399622        7  14.971995\n",
       "1388856       4  12.688517\n",
       "1582979      13  26.921618\n",
       "...         ...        ...\n",
       "586926        3  26.921618\n",
       "1757866      14  30.988432\n",
       "211580        2  27.939208\n",
       "90944         2  12.688517\n",
       "745291       20  25.789809\n",
       "\n",
       "[632984 rows x 2 columns]"
      ]
     },
     "execution_count": 53,
     "metadata": {
      "tags": []
     },
     "output_type": "execute_result"
    }
   ],
   "source": [
    "df=pd.DataFrame({'Actual':y_test, 'Predicted':y_pred,})\n",
    "df"
   ]
  },
  {
   "cell_type": "markdown",
   "metadata": {
    "colab_type": "text",
    "id": "qdzZD2gulbTX"
   },
   "source": [
    "### Regression accuracy metrics for data which is labelled against assessment price"
   ]
  },
  {
   "cell_type": "code",
   "execution_count": 0,
   "metadata": {
    "colab": {
     "base_uri": "https://localhost:8080/",
     "height": 68
    },
    "colab_type": "code",
    "collapsed": false,
    "id": "KjmvG7ruiHbH",
    "outputId": "511edfa3-2a6a-41cd-9fcd-87a218bc2c2c"
   },
   "outputs": [
    {
     "name": "stdout",
     "output_type": "stream",
     "text": [
      "Mean Absolute Error: 16.239564983192004\n",
      "Mean Squared Error: 411.4642491927575\n",
      "Root Mean Squared Error: 20.28458156316658\n"
     ]
    }
   ],
   "source": [
    "from sklearn import metrics\n",
    "\n",
    "print('Mean Absolute Error:', metrics.mean_absolute_error(y_test, y_pred))\n",
    "print('Mean Squared Error:', metrics.mean_squared_error(y_test, y_pred))\n",
    "print('Root Mean Squared Error:', np.sqrt(metrics.mean_squared_error(y_test, y_pred)))"
   ]
  },
  {
   "cell_type": "markdown",
   "metadata": {
    "colab_type": "text",
    "id": "dGGzxR1LlqWV"
   },
   "source": [
    "### Gradient Boosting Regressor"
   ]
  },
  {
   "cell_type": "code",
   "execution_count": 0,
   "metadata": {
    "colab": {},
    "colab_type": "code",
    "collapsed": true,
    "id": "yjophrZBHauZ"
   },
   "outputs": [],
   "source": [
    "regressor = GradientBoostingRegressor(\n",
    "    max_depth=2,\n",
    "    n_estimators=3,\n",
    "    learning_rate=1.0\n",
    ")"
   ]
  },
  {
   "cell_type": "code",
   "execution_count": 0,
   "metadata": {
    "colab": {
     "base_uri": "https://localhost:8080/",
     "height": 170
    },
    "colab_type": "code",
    "collapsed": false,
    "id": "VLm1z1hUKOrf",
    "outputId": "295baec1-2b1d-47e3-8314-e4343db0ea45"
   },
   "outputs": [
    {
     "data": {
      "text/plain": [
       "GradientBoostingRegressor(alpha=0.9, ccp_alpha=0.0, criterion='friedman_mse',\n",
       "                          init=None, learning_rate=1.0, loss='ls', max_depth=2,\n",
       "                          max_features=None, max_leaf_nodes=None,\n",
       "                          min_impurity_decrease=0.0, min_impurity_split=None,\n",
       "                          min_samples_leaf=1, min_samples_split=2,\n",
       "                          min_weight_fraction_leaf=0.0, n_estimators=3,\n",
       "                          n_iter_no_change=None, presort='deprecated',\n",
       "                          random_state=None, subsample=1.0, tol=0.0001,\n",
       "                          validation_fraction=0.1, verbose=0, warm_start=False)"
      ]
     },
     "execution_count": 56,
     "metadata": {
      "tags": []
     },
     "output_type": "execute_result"
    }
   ],
   "source": [
    "regressor.fit(X_train, y_train)"
   ]
  },
  {
   "cell_type": "code",
   "execution_count": 0,
   "metadata": {
    "colab": {},
    "colab_type": "code",
    "collapsed": true,
    "id": "COODEJR7MgJo"
   },
   "outputs": [],
   "source": [
    "from sklearn.metrics import mean_squared_error\n",
    "errors = [mean_squared_error(y_test, y_pred) for y_pred in regressor.staged_predict(X_test)]\n",
    "best_n_estimators = np.argmin(errors)"
   ]
  },
  {
   "cell_type": "code",
   "execution_count": 0,
   "metadata": {
    "colab": {
     "base_uri": "https://localhost:8080/",
     "height": 170
    },
    "colab_type": "code",
    "collapsed": false,
    "id": "rL5QMwOVMtiU",
    "outputId": "16f7cf12-a9aa-4fbe-e25d-8aaa843e9c82"
   },
   "outputs": [
    {
     "data": {
      "text/plain": [
       "GradientBoostingRegressor(alpha=0.9, ccp_alpha=0.0, criterion='friedman_mse',\n",
       "                          init=None, learning_rate=1.0, loss='ls', max_depth=2,\n",
       "                          max_features=None, max_leaf_nodes=None,\n",
       "                          min_impurity_decrease=0.0, min_impurity_split=None,\n",
       "                          min_samples_leaf=1, min_samples_split=2,\n",
       "                          min_weight_fraction_leaf=0.0, n_estimators=2,\n",
       "                          n_iter_no_change=None, presort='deprecated',\n",
       "                          random_state=None, subsample=1.0, tol=0.0001,\n",
       "                          validation_fraction=0.1, verbose=0, warm_start=False)"
      ]
     },
     "execution_count": 58,
     "metadata": {
      "tags": []
     },
     "output_type": "execute_result"
    }
   ],
   "source": [
    "best_regressor = GradientBoostingRegressor(\n",
    "    max_depth=2,\n",
    "    n_estimators=best_n_estimators,\n",
    "    learning_rate=1.0\n",
    ")\n",
    "best_regressor.fit(X_train, y_train)"
   ]
  },
  {
   "cell_type": "markdown",
   "metadata": {
    "colab_type": "text",
    "id": "W6s3EAOql8uM"
   },
   "source": [
    "### Accuracy metrics for gradient boosting regressor"
   ]
  },
  {
   "cell_type": "code",
   "execution_count": 0,
   "metadata": {
    "colab": {
     "base_uri": "https://localhost:8080/",
     "height": 34
    },
    "colab_type": "code",
    "collapsed": false,
    "id": "PxgT_JDVNAkb",
    "outputId": "c4c8c568-f7ea-41b3-ba3f-1aa07c116608"
   },
   "outputs": [
    {
     "data": {
      "text/plain": [
       "16.587552122932582"
      ]
     },
     "execution_count": 59,
     "metadata": {
      "tags": []
     },
     "output_type": "execute_result"
    }
   ],
   "source": [
    "from sklearn.metrics import mean_absolute_error\n",
    "y_pred = best_regressor.predict(X_test)\n",
    "mean_absolute_error(y_test, y_pred)"
   ]
  },
  {
   "cell_type": "markdown",
   "metadata": {
    "colab_type": "text",
    "id": "LRUtXB115ndx"
   },
   "source": [
    "## Adding more features\n",
    "We are adding the housing court cases dataset with parking violations "
   ]
  },
  {
   "cell_type": "code",
   "execution_count": 0,
   "metadata": {
    "colab": {},
    "colab_type": "code",
    "collapsed": true,
    "id": "BrD6Ms_wrCh9"
   },
   "outputs": [],
   "source": [
    "df_hcourt = pd.read_csv('/content/drive/My Drive/Gentrification/Housing_Court_Cases.csv')"
   ]
  },
  {
   "cell_type": "code",
   "execution_count": 0,
   "metadata": {
    "colab": {
     "base_uri": "https://localhost:8080/",
     "height": 34
    },
    "colab_type": "code",
    "collapsed": false,
    "id": "kWF3AIiqFiuV",
    "outputId": "993beec1-9679-4e20-b0c8-26677f1fecae"
   },
   "outputs": [
    {
     "data": {
      "text/plain": [
       "(8797, 22)"
      ]
     },
     "execution_count": 73,
     "metadata": {
      "tags": []
     },
     "output_type": "execute_result"
    }
   ],
   "source": [
    "df_hcourt.shape"
   ]
  },
  {
   "cell_type": "code",
   "execution_count": 0,
   "metadata": {
    "colab": {
     "base_uri": "https://localhost:8080/",
     "height": 34
    },
    "colab_type": "code",
    "collapsed": false,
    "id": "LunGjYxAC7fQ",
    "outputId": "e99d6cc7-5c8a-49f7-c4fd-bafd82988737"
   },
   "outputs": [
    {
     "data": {
      "text/plain": [
       "111"
      ]
     },
     "execution_count": 74,
     "metadata": {
      "tags": []
     },
     "output_type": "execute_result"
    }
   ],
   "source": [
    "df_hcourt['CENSUS TRACT'].isnull().sum()"
   ]
  },
  {
   "cell_type": "code",
   "execution_count": 0,
   "metadata": {
    "colab": {
     "base_uri": "https://localhost:8080/",
     "height": 238
    },
    "colab_type": "code",
    "collapsed": false,
    "id": "-ifZ0iEcFgo-",
    "outputId": "0fef1d07-2e99-4750-d616-b4487ecc5be5"
   },
   "outputs": [
    {
     "data": {
      "text/plain": [
       "CENSUS TRACT  RESOLUTION            \n",
       "1.1           CLOSE FILE REWRITE         1\n",
       "              CONDITIONAL DISCHARGE      2\n",
       "              DEFENDANT FINED            4\n",
       "              DISMISSED                 16\n",
       "              REFERRED TO DEMOLITION     1\n",
       "                                        ..\n",
       "171.0         CLOSE FILE REWRITE         6\n",
       "              CONDITIONAL DISCHARGE     11\n",
       "              DEFENDANT FINED           21\n",
       "              DISMISSED                 86\n",
       "              IN COMPLIANCE              5\n",
       "Name: CASENO, Length: 340, dtype: int64"
      ]
     },
     "execution_count": 75,
     "metadata": {
      "tags": []
     },
     "output_type": "execute_result"
    }
   ],
   "source": [
    "df_hcourt.groupby(['CENSUS TRACT','RESOLUTION'])['CASENO'].count()"
   ]
  },
  {
   "cell_type": "code",
   "execution_count": 0,
   "metadata": {
    "colab": {
     "base_uri": "https://localhost:8080/",
     "height": 238
    },
    "colab_type": "code",
    "collapsed": false,
    "id": "ryKwt1GPFmuT",
    "outputId": "0b59a0ee-3df4-4441-9a6a-74dac657db89"
   },
   "outputs": [
    {
     "data": {
      "text/plain": [
       "DISMISSED                      3012\n",
       "DEFENDANT FINED                 594\n",
       "CLOSE FILE REWRITE              419\n",
       "CONDITIONAL DISCHARGE           386\n",
       "UNCONDITIONAL DISCHARGE          48\n",
       "IN COMPLIANCE                    36\n",
       "REFERRED TO DEMOLITION           12\n",
       "PROPERTY DEMOLISHED               5\n",
       "CITY OF BUFFALO OWNED             2\n",
       "DEFENDANT JAILED PER JUDGE        1\n",
       "CITY OF BUFFALO FORECLOSURE       1\n",
       "REFERRED TO DISTRICT              1\n",
       "Name: RESOLUTION, dtype: int64"
      ]
     },
     "execution_count": 76,
     "metadata": {
      "tags": []
     },
     "output_type": "execute_result"
    }
   ],
   "source": [
    "df_hcourt['RESOLUTION'].value_counts()"
   ]
  },
  {
   "cell_type": "code",
   "execution_count": 0,
   "metadata": {
    "colab": {},
    "colab_type": "code",
    "collapsed": true,
    "id": "eHfoo65dFpIT"
   },
   "outputs": [],
   "source": [
    "df_hcourt_new = pd.get_dummies(df_hcourt,columns=['RESOLUTION'])"
   ]
  },
  {
   "cell_type": "code",
   "execution_count": 0,
   "metadata": {
    "colab": {},
    "colab_type": "code",
    "collapsed": true,
    "id": "FSzYUYodFs6t"
   },
   "outputs": [],
   "source": [
    "df_hcourt_new.drop(df_hcourt_new[df_hcourt_new['CENSUS TRACT'].isnull()].index,inplace=True)"
   ]
  },
  {
   "cell_type": "code",
   "execution_count": 0,
   "metadata": {
    "colab": {
     "base_uri": "https://localhost:8080/",
     "height": 34
    },
    "colab_type": "code",
    "collapsed": false,
    "id": "jhHcov94F11d",
    "outputId": "d32323bd-bd31-4b42-b225-8f8b96b2916c"
   },
   "outputs": [
    {
     "data": {
      "text/plain": [
       "(8686, 33)"
      ]
     },
     "execution_count": 79,
     "metadata": {
      "tags": []
     },
     "output_type": "execute_result"
    }
   ],
   "source": [
    "df_hcourt_new.shape"
   ]
  },
  {
   "cell_type": "code",
   "execution_count": 0,
   "metadata": {
    "colab": {},
    "colab_type": "code",
    "collapsed": true,
    "id": "ftTEN7rJF4eb"
   },
   "outputs": [],
   "source": [
    "df_hcourt_new['LASTACTION'] = df_hcourt_new['LASTACTION'].apply(lambda x: x.split(' A')[0])"
   ]
  },
  {
   "cell_type": "code",
   "execution_count": 0,
   "metadata": {
    "colab": {},
    "colab_type": "code",
    "collapsed": true,
    "id": "yESwlINpF62X"
   },
   "outputs": [],
   "source": [
    "df_hcourt_new['LASTACTION'] = pd.to_datetime(df_hcourt_new['LASTACTION'])"
   ]
  },
  {
   "cell_type": "code",
   "execution_count": 0,
   "metadata": {
    "colab": {
     "base_uri": "https://localhost:8080/",
     "height": 697
    },
    "colab_type": "code",
    "collapsed": false,
    "id": "bU9XF5p4F8cc",
    "outputId": "dbbaf050-b8bc-419f-9a24-4fce502bd322"
   },
   "outputs": [
    {
     "name": "stdout",
     "output_type": "stream",
     "text": [
      "<class 'pandas.core.frame.DataFrame'>\n",
      "Int64Index: 8686 entries, 0 to 8796\n",
      "Data columns (total 33 columns):\n",
      " #   Column                                  Non-Null Count  Dtype         \n",
      "---  ------                                  --------------  -----         \n",
      " 0   CASEKEY                                 8686 non-null   int64         \n",
      " 1   ADDDTTM                                 8686 non-null   object        \n",
      " 2   CASENO                                  8686 non-null   object        \n",
      " 3   CASETYPE                                8686 non-null   object        \n",
      " 4   STATUS                                  8686 non-null   object        \n",
      " 5   LASTACTION                              8686 non-null   datetime64[ns]\n",
      " 6   RESDTTM                                 3753 non-null   object        \n",
      " 7   ADDRESS                                 8686 non-null   object        \n",
      " 8   CITY                                    8686 non-null   object        \n",
      " 9   STATE                                   8686 non-null   object        \n",
      " 10  ZIP                                     8686 non-null   object        \n",
      " 11  CONTACT                                 8296 non-null   object        \n",
      " 12  LOCATION                                8686 non-null   object        \n",
      " 13  LATITUDE                                8686 non-null   float64       \n",
      " 14  LONGITUDE                               8686 non-null   float64       \n",
      " 15  COUNCIL DISTRICT                        8686 non-null   object        \n",
      " 16  POLICE DISTRICT                         8686 non-null   object        \n",
      " 17  CENSUS TRACT                            8686 non-null   float64       \n",
      " 18  CENSUS BLOCK GROUP                      8686 non-null   float64       \n",
      " 19  CENSUS BLOCK                            8686 non-null   float64       \n",
      " 20  NEIGHBORHOOD                            8686 non-null   object        \n",
      " 21  RESOLUTION_CITY OF BUFFALO FORECLOSURE  8686 non-null   uint8         \n",
      " 22  RESOLUTION_CITY OF BUFFALO OWNED        8686 non-null   uint8         \n",
      " 23  RESOLUTION_CLOSE FILE REWRITE           8686 non-null   uint8         \n",
      " 24  RESOLUTION_CONDITIONAL DISCHARGE        8686 non-null   uint8         \n",
      " 25  RESOLUTION_DEFENDANT FINED              8686 non-null   uint8         \n",
      " 26  RESOLUTION_DEFENDANT JAILED PER JUDGE   8686 non-null   uint8         \n",
      " 27  RESOLUTION_DISMISSED                    8686 non-null   uint8         \n",
      " 28  RESOLUTION_IN COMPLIANCE                8686 non-null   uint8         \n",
      " 29  RESOLUTION_PROPERTY DEMOLISHED          8686 non-null   uint8         \n",
      " 30  RESOLUTION_REFERRED TO DEMOLITION       8686 non-null   uint8         \n",
      " 31  RESOLUTION_REFERRED TO DISTRICT         8686 non-null   uint8         \n",
      " 32  RESOLUTION_UNCONDITIONAL DISCHARGE      8686 non-null   uint8         \n",
      "dtypes: datetime64[ns](1), float64(5), int64(1), object(14), uint8(12)\n",
      "memory usage: 1.6+ MB\n"
     ]
    }
   ],
   "source": [
    "df_hcourt_new.info()"
   ]
  },
  {
   "cell_type": "code",
   "execution_count": 0,
   "metadata": {
    "colab": {},
    "colab_type": "code",
    "collapsed": true,
    "id": "fzcJcQwcF-gY"
   },
   "outputs": [],
   "source": [
    "df_hcourt_new = df_hcourt_new[df_hcourt_new['LASTACTION'].dt.year == 2018]"
   ]
  },
  {
   "cell_type": "code",
   "execution_count": 0,
   "metadata": {
    "colab": {},
    "colab_type": "code",
    "collapsed": true,
    "id": "44g2UaAN7kK1"
   },
   "outputs": [],
   "source": [
    "df_hcourt_new.iloc[:,21:]=df_hcourt_new.iloc[:,21:].replace(0,np.NaN)"
   ]
  },
  {
   "cell_type": "code",
   "execution_count": 0,
   "metadata": {
    "colab": {
     "base_uri": "https://localhost:8080/",
     "height": 473
    },
    "colab_type": "code",
    "collapsed": false,
    "id": "fTo2MWL_7r3s",
    "outputId": "94ae6255-d0bc-46a2-dedb-948e28b7b1c0"
   },
   "outputs": [
    {
     "data": {
      "text/html": [
       "<div>\n",
       "<style scoped>\n",
       "    .dataframe tbody tr th:only-of-type {\n",
       "        vertical-align: middle;\n",
       "    }\n",
       "\n",
       "    .dataframe tbody tr th {\n",
       "        vertical-align: top;\n",
       "    }\n",
       "\n",
       "    .dataframe thead th {\n",
       "        text-align: right;\n",
       "    }\n",
       "</style>\n",
       "<table border=\"1\" class=\"dataframe\">\n",
       "  <thead>\n",
       "    <tr style=\"text-align: right;\">\n",
       "      <th></th>\n",
       "      <th>RESOLUTION_CITY OF BUFFALO FORECLOSURE</th>\n",
       "      <th>RESOLUTION_CITY OF BUFFALO OWNED</th>\n",
       "      <th>RESOLUTION_CLOSE FILE REWRITE</th>\n",
       "      <th>RESOLUTION_CONDITIONAL DISCHARGE</th>\n",
       "      <th>RESOLUTION_DEFENDANT FINED</th>\n",
       "      <th>RESOLUTION_DEFENDANT JAILED PER JUDGE</th>\n",
       "      <th>RESOLUTION_DISMISSED</th>\n",
       "      <th>RESOLUTION_IN COMPLIANCE</th>\n",
       "      <th>RESOLUTION_PROPERTY DEMOLISHED</th>\n",
       "      <th>RESOLUTION_REFERRED TO DEMOLITION</th>\n",
       "      <th>RESOLUTION_REFERRED TO DISTRICT</th>\n",
       "      <th>RESOLUTION_UNCONDITIONAL DISCHARGE</th>\n",
       "    </tr>\n",
       "  </thead>\n",
       "  <tbody>\n",
       "    <tr>\n",
       "      <th>14</th>\n",
       "      <td>NaN</td>\n",
       "      <td>NaN</td>\n",
       "      <td>NaN</td>\n",
       "      <td>NaN</td>\n",
       "      <td>NaN</td>\n",
       "      <td>NaN</td>\n",
       "      <td>1.0</td>\n",
       "      <td>NaN</td>\n",
       "      <td>NaN</td>\n",
       "      <td>NaN</td>\n",
       "      <td>NaN</td>\n",
       "      <td>NaN</td>\n",
       "    </tr>\n",
       "    <tr>\n",
       "      <th>15</th>\n",
       "      <td>NaN</td>\n",
       "      <td>NaN</td>\n",
       "      <td>NaN</td>\n",
       "      <td>NaN</td>\n",
       "      <td>NaN</td>\n",
       "      <td>NaN</td>\n",
       "      <td>1.0</td>\n",
       "      <td>NaN</td>\n",
       "      <td>NaN</td>\n",
       "      <td>NaN</td>\n",
       "      <td>NaN</td>\n",
       "      <td>NaN</td>\n",
       "    </tr>\n",
       "    <tr>\n",
       "      <th>151</th>\n",
       "      <td>NaN</td>\n",
       "      <td>NaN</td>\n",
       "      <td>NaN</td>\n",
       "      <td>NaN</td>\n",
       "      <td>NaN</td>\n",
       "      <td>NaN</td>\n",
       "      <td>NaN</td>\n",
       "      <td>NaN</td>\n",
       "      <td>NaN</td>\n",
       "      <td>NaN</td>\n",
       "      <td>NaN</td>\n",
       "      <td>NaN</td>\n",
       "    </tr>\n",
       "    <tr>\n",
       "      <th>177</th>\n",
       "      <td>NaN</td>\n",
       "      <td>NaN</td>\n",
       "      <td>NaN</td>\n",
       "      <td>NaN</td>\n",
       "      <td>NaN</td>\n",
       "      <td>NaN</td>\n",
       "      <td>1.0</td>\n",
       "      <td>NaN</td>\n",
       "      <td>NaN</td>\n",
       "      <td>NaN</td>\n",
       "      <td>NaN</td>\n",
       "      <td>NaN</td>\n",
       "    </tr>\n",
       "    <tr>\n",
       "      <th>214</th>\n",
       "      <td>NaN</td>\n",
       "      <td>NaN</td>\n",
       "      <td>NaN</td>\n",
       "      <td>NaN</td>\n",
       "      <td>NaN</td>\n",
       "      <td>NaN</td>\n",
       "      <td>NaN</td>\n",
       "      <td>NaN</td>\n",
       "      <td>NaN</td>\n",
       "      <td>NaN</td>\n",
       "      <td>NaN</td>\n",
       "      <td>NaN</td>\n",
       "    </tr>\n",
       "    <tr>\n",
       "      <th>...</th>\n",
       "      <td>...</td>\n",
       "      <td>...</td>\n",
       "      <td>...</td>\n",
       "      <td>...</td>\n",
       "      <td>...</td>\n",
       "      <td>...</td>\n",
       "      <td>...</td>\n",
       "      <td>...</td>\n",
       "      <td>...</td>\n",
       "      <td>...</td>\n",
       "      <td>...</td>\n",
       "      <td>...</td>\n",
       "    </tr>\n",
       "    <tr>\n",
       "      <th>7699</th>\n",
       "      <td>NaN</td>\n",
       "      <td>NaN</td>\n",
       "      <td>NaN</td>\n",
       "      <td>NaN</td>\n",
       "      <td>NaN</td>\n",
       "      <td>NaN</td>\n",
       "      <td>NaN</td>\n",
       "      <td>NaN</td>\n",
       "      <td>NaN</td>\n",
       "      <td>NaN</td>\n",
       "      <td>NaN</td>\n",
       "      <td>NaN</td>\n",
       "    </tr>\n",
       "    <tr>\n",
       "      <th>7703</th>\n",
       "      <td>NaN</td>\n",
       "      <td>NaN</td>\n",
       "      <td>NaN</td>\n",
       "      <td>NaN</td>\n",
       "      <td>NaN</td>\n",
       "      <td>NaN</td>\n",
       "      <td>NaN</td>\n",
       "      <td>NaN</td>\n",
       "      <td>NaN</td>\n",
       "      <td>NaN</td>\n",
       "      <td>NaN</td>\n",
       "      <td>NaN</td>\n",
       "    </tr>\n",
       "    <tr>\n",
       "      <th>7704</th>\n",
       "      <td>NaN</td>\n",
       "      <td>NaN</td>\n",
       "      <td>NaN</td>\n",
       "      <td>NaN</td>\n",
       "      <td>NaN</td>\n",
       "      <td>NaN</td>\n",
       "      <td>NaN</td>\n",
       "      <td>NaN</td>\n",
       "      <td>NaN</td>\n",
       "      <td>NaN</td>\n",
       "      <td>NaN</td>\n",
       "      <td>NaN</td>\n",
       "    </tr>\n",
       "    <tr>\n",
       "      <th>7707</th>\n",
       "      <td>NaN</td>\n",
       "      <td>NaN</td>\n",
       "      <td>NaN</td>\n",
       "      <td>NaN</td>\n",
       "      <td>NaN</td>\n",
       "      <td>NaN</td>\n",
       "      <td>NaN</td>\n",
       "      <td>NaN</td>\n",
       "      <td>NaN</td>\n",
       "      <td>NaN</td>\n",
       "      <td>NaN</td>\n",
       "      <td>NaN</td>\n",
       "    </tr>\n",
       "    <tr>\n",
       "      <th>7709</th>\n",
       "      <td>NaN</td>\n",
       "      <td>NaN</td>\n",
       "      <td>NaN</td>\n",
       "      <td>NaN</td>\n",
       "      <td>NaN</td>\n",
       "      <td>NaN</td>\n",
       "      <td>NaN</td>\n",
       "      <td>NaN</td>\n",
       "      <td>NaN</td>\n",
       "      <td>NaN</td>\n",
       "      <td>NaN</td>\n",
       "      <td>NaN</td>\n",
       "    </tr>\n",
       "  </tbody>\n",
       "</table>\n",
       "<p>1060 rows × 12 columns</p>\n",
       "</div>"
      ],
      "text/plain": [
       "      RESOLUTION_CITY OF BUFFALO FORECLOSURE  ...  RESOLUTION_UNCONDITIONAL DISCHARGE\n",
       "14                                       NaN  ...                                 NaN\n",
       "15                                       NaN  ...                                 NaN\n",
       "151                                      NaN  ...                                 NaN\n",
       "177                                      NaN  ...                                 NaN\n",
       "214                                      NaN  ...                                 NaN\n",
       "...                                      ...  ...                                 ...\n",
       "7699                                     NaN  ...                                 NaN\n",
       "7703                                     NaN  ...                                 NaN\n",
       "7704                                     NaN  ...                                 NaN\n",
       "7707                                     NaN  ...                                 NaN\n",
       "7709                                     NaN  ...                                 NaN\n",
       "\n",
       "[1060 rows x 12 columns]"
      ]
     },
     "execution_count": 85,
     "metadata": {
      "tags": []
     },
     "output_type": "execute_result"
    }
   ],
   "source": [
    "df_hcourt_new.iloc[:,21:]"
   ]
  },
  {
   "cell_type": "code",
   "execution_count": 0,
   "metadata": {
    "colab": {},
    "colab_type": "code",
    "collapsed": true,
    "id": "JJO2qq8tGBK1"
   },
   "outputs": [],
   "source": [
    "df_count_hcourt = df_hcourt_new.groupby('CENSUS TRACT').count()"
   ]
  },
  {
   "cell_type": "code",
   "execution_count": 0,
   "metadata": {
    "colab": {},
    "colab_type": "code",
    "collapsed": true,
    "id": "t8R-9S_jGDMg"
   },
   "outputs": [],
   "source": [
    "df_count_hcourt['CENSUS TRACT']=df_count_hcourt.index"
   ]
  },
  {
   "cell_type": "code",
   "execution_count": 0,
   "metadata": {
    "colab": {
     "base_uri": "https://localhost:8080/",
     "height": 521
    },
    "colab_type": "code",
    "collapsed": false,
    "id": "h6KV3I5fGFdt",
    "outputId": "70bccd9d-b731-4c22-8e60-961406ab1cfd"
   },
   "outputs": [
    {
     "data": {
      "text/html": [
       "<div>\n",
       "<style scoped>\n",
       "    .dataframe tbody tr th:only-of-type {\n",
       "        vertical-align: middle;\n",
       "    }\n",
       "\n",
       "    .dataframe tbody tr th {\n",
       "        vertical-align: top;\n",
       "    }\n",
       "\n",
       "    .dataframe thead th {\n",
       "        text-align: right;\n",
       "    }\n",
       "</style>\n",
       "<table border=\"1\" class=\"dataframe\">\n",
       "  <thead>\n",
       "    <tr style=\"text-align: right;\">\n",
       "      <th></th>\n",
       "      <th>CASEKEY</th>\n",
       "      <th>ADDDTTM</th>\n",
       "      <th>CASENO</th>\n",
       "      <th>CASETYPE</th>\n",
       "      <th>STATUS</th>\n",
       "      <th>LASTACTION</th>\n",
       "      <th>RESDTTM</th>\n",
       "      <th>ADDRESS</th>\n",
       "      <th>CITY</th>\n",
       "      <th>STATE</th>\n",
       "      <th>ZIP</th>\n",
       "      <th>CONTACT</th>\n",
       "      <th>LOCATION</th>\n",
       "      <th>LATITUDE</th>\n",
       "      <th>LONGITUDE</th>\n",
       "      <th>COUNCIL DISTRICT</th>\n",
       "      <th>POLICE DISTRICT</th>\n",
       "      <th>CENSUS BLOCK GROUP</th>\n",
       "      <th>CENSUS BLOCK</th>\n",
       "      <th>NEIGHBORHOOD</th>\n",
       "      <th>RESOLUTION_CITY OF BUFFALO FORECLOSURE</th>\n",
       "      <th>RESOLUTION_CITY OF BUFFALO OWNED</th>\n",
       "      <th>RESOLUTION_CLOSE FILE REWRITE</th>\n",
       "      <th>RESOLUTION_CONDITIONAL DISCHARGE</th>\n",
       "      <th>RESOLUTION_DEFENDANT FINED</th>\n",
       "      <th>RESOLUTION_DEFENDANT JAILED PER JUDGE</th>\n",
       "      <th>RESOLUTION_DISMISSED</th>\n",
       "      <th>RESOLUTION_IN COMPLIANCE</th>\n",
       "      <th>RESOLUTION_PROPERTY DEMOLISHED</th>\n",
       "      <th>RESOLUTION_REFERRED TO DEMOLITION</th>\n",
       "      <th>RESOLUTION_REFERRED TO DISTRICT</th>\n",
       "      <th>RESOLUTION_UNCONDITIONAL DISCHARGE</th>\n",
       "      <th>CENSUS TRACT</th>\n",
       "    </tr>\n",
       "    <tr>\n",
       "      <th>CENSUS TRACT</th>\n",
       "      <th></th>\n",
       "      <th></th>\n",
       "      <th></th>\n",
       "      <th></th>\n",
       "      <th></th>\n",
       "      <th></th>\n",
       "      <th></th>\n",
       "      <th></th>\n",
       "      <th></th>\n",
       "      <th></th>\n",
       "      <th></th>\n",
       "      <th></th>\n",
       "      <th></th>\n",
       "      <th></th>\n",
       "      <th></th>\n",
       "      <th></th>\n",
       "      <th></th>\n",
       "      <th></th>\n",
       "      <th></th>\n",
       "      <th></th>\n",
       "      <th></th>\n",
       "      <th></th>\n",
       "      <th></th>\n",
       "      <th></th>\n",
       "      <th></th>\n",
       "      <th></th>\n",
       "      <th></th>\n",
       "      <th></th>\n",
       "      <th></th>\n",
       "      <th></th>\n",
       "      <th></th>\n",
       "      <th></th>\n",
       "      <th></th>\n",
       "    </tr>\n",
       "  </thead>\n",
       "  <tbody>\n",
       "    <tr>\n",
       "      <th>1.1</th>\n",
       "      <td>6</td>\n",
       "      <td>6</td>\n",
       "      <td>6</td>\n",
       "      <td>6</td>\n",
       "      <td>6</td>\n",
       "      <td>6</td>\n",
       "      <td>1</td>\n",
       "      <td>6</td>\n",
       "      <td>6</td>\n",
       "      <td>6</td>\n",
       "      <td>6</td>\n",
       "      <td>6</td>\n",
       "      <td>6</td>\n",
       "      <td>6</td>\n",
       "      <td>6</td>\n",
       "      <td>6</td>\n",
       "      <td>6</td>\n",
       "      <td>6</td>\n",
       "      <td>6</td>\n",
       "      <td>6</td>\n",
       "      <td>0</td>\n",
       "      <td>0</td>\n",
       "      <td>0</td>\n",
       "      <td>0</td>\n",
       "      <td>0</td>\n",
       "      <td>0</td>\n",
       "      <td>1</td>\n",
       "      <td>0</td>\n",
       "      <td>0</td>\n",
       "      <td>0</td>\n",
       "      <td>0</td>\n",
       "      <td>0</td>\n",
       "      <td>1.1</td>\n",
       "    </tr>\n",
       "    <tr>\n",
       "      <th>2.0</th>\n",
       "      <td>6</td>\n",
       "      <td>6</td>\n",
       "      <td>6</td>\n",
       "      <td>6</td>\n",
       "      <td>6</td>\n",
       "      <td>6</td>\n",
       "      <td>0</td>\n",
       "      <td>6</td>\n",
       "      <td>6</td>\n",
       "      <td>6</td>\n",
       "      <td>6</td>\n",
       "      <td>6</td>\n",
       "      <td>6</td>\n",
       "      <td>6</td>\n",
       "      <td>6</td>\n",
       "      <td>6</td>\n",
       "      <td>6</td>\n",
       "      <td>6</td>\n",
       "      <td>6</td>\n",
       "      <td>6</td>\n",
       "      <td>0</td>\n",
       "      <td>0</td>\n",
       "      <td>0</td>\n",
       "      <td>0</td>\n",
       "      <td>0</td>\n",
       "      <td>0</td>\n",
       "      <td>0</td>\n",
       "      <td>0</td>\n",
       "      <td>0</td>\n",
       "      <td>0</td>\n",
       "      <td>0</td>\n",
       "      <td>0</td>\n",
       "      <td>2.0</td>\n",
       "    </tr>\n",
       "    <tr>\n",
       "      <th>5.0</th>\n",
       "      <td>14</td>\n",
       "      <td>14</td>\n",
       "      <td>14</td>\n",
       "      <td>14</td>\n",
       "      <td>14</td>\n",
       "      <td>14</td>\n",
       "      <td>5</td>\n",
       "      <td>14</td>\n",
       "      <td>14</td>\n",
       "      <td>14</td>\n",
       "      <td>14</td>\n",
       "      <td>14</td>\n",
       "      <td>14</td>\n",
       "      <td>14</td>\n",
       "      <td>14</td>\n",
       "      <td>14</td>\n",
       "      <td>14</td>\n",
       "      <td>14</td>\n",
       "      <td>14</td>\n",
       "      <td>14</td>\n",
       "      <td>0</td>\n",
       "      <td>0</td>\n",
       "      <td>0</td>\n",
       "      <td>0</td>\n",
       "      <td>0</td>\n",
       "      <td>0</td>\n",
       "      <td>5</td>\n",
       "      <td>0</td>\n",
       "      <td>0</td>\n",
       "      <td>0</td>\n",
       "      <td>0</td>\n",
       "      <td>0</td>\n",
       "      <td>5.0</td>\n",
       "    </tr>\n",
       "    <tr>\n",
       "      <th>6.0</th>\n",
       "      <td>4</td>\n",
       "      <td>4</td>\n",
       "      <td>4</td>\n",
       "      <td>4</td>\n",
       "      <td>4</td>\n",
       "      <td>4</td>\n",
       "      <td>1</td>\n",
       "      <td>4</td>\n",
       "      <td>4</td>\n",
       "      <td>4</td>\n",
       "      <td>4</td>\n",
       "      <td>4</td>\n",
       "      <td>4</td>\n",
       "      <td>4</td>\n",
       "      <td>4</td>\n",
       "      <td>4</td>\n",
       "      <td>4</td>\n",
       "      <td>4</td>\n",
       "      <td>4</td>\n",
       "      <td>4</td>\n",
       "      <td>0</td>\n",
       "      <td>0</td>\n",
       "      <td>0</td>\n",
       "      <td>0</td>\n",
       "      <td>0</td>\n",
       "      <td>0</td>\n",
       "      <td>1</td>\n",
       "      <td>0</td>\n",
       "      <td>0</td>\n",
       "      <td>0</td>\n",
       "      <td>0</td>\n",
       "      <td>0</td>\n",
       "      <td>6.0</td>\n",
       "    </tr>\n",
       "    <tr>\n",
       "      <th>7.0</th>\n",
       "      <td>2</td>\n",
       "      <td>2</td>\n",
       "      <td>2</td>\n",
       "      <td>2</td>\n",
       "      <td>2</td>\n",
       "      <td>2</td>\n",
       "      <td>0</td>\n",
       "      <td>2</td>\n",
       "      <td>2</td>\n",
       "      <td>2</td>\n",
       "      <td>2</td>\n",
       "      <td>2</td>\n",
       "      <td>2</td>\n",
       "      <td>2</td>\n",
       "      <td>2</td>\n",
       "      <td>2</td>\n",
       "      <td>2</td>\n",
       "      <td>2</td>\n",
       "      <td>2</td>\n",
       "      <td>2</td>\n",
       "      <td>0</td>\n",
       "      <td>0</td>\n",
       "      <td>0</td>\n",
       "      <td>0</td>\n",
       "      <td>0</td>\n",
       "      <td>0</td>\n",
       "      <td>0</td>\n",
       "      <td>0</td>\n",
       "      <td>0</td>\n",
       "      <td>0</td>\n",
       "      <td>0</td>\n",
       "      <td>0</td>\n",
       "      <td>7.0</td>\n",
       "    </tr>\n",
       "    <tr>\n",
       "      <th>...</th>\n",
       "      <td>...</td>\n",
       "      <td>...</td>\n",
       "      <td>...</td>\n",
       "      <td>...</td>\n",
       "      <td>...</td>\n",
       "      <td>...</td>\n",
       "      <td>...</td>\n",
       "      <td>...</td>\n",
       "      <td>...</td>\n",
       "      <td>...</td>\n",
       "      <td>...</td>\n",
       "      <td>...</td>\n",
       "      <td>...</td>\n",
       "      <td>...</td>\n",
       "      <td>...</td>\n",
       "      <td>...</td>\n",
       "      <td>...</td>\n",
       "      <td>...</td>\n",
       "      <td>...</td>\n",
       "      <td>...</td>\n",
       "      <td>...</td>\n",
       "      <td>...</td>\n",
       "      <td>...</td>\n",
       "      <td>...</td>\n",
       "      <td>...</td>\n",
       "      <td>...</td>\n",
       "      <td>...</td>\n",
       "      <td>...</td>\n",
       "      <td>...</td>\n",
       "      <td>...</td>\n",
       "      <td>...</td>\n",
       "      <td>...</td>\n",
       "      <td>...</td>\n",
       "    </tr>\n",
       "    <tr>\n",
       "      <th>167.0</th>\n",
       "      <td>4</td>\n",
       "      <td>4</td>\n",
       "      <td>4</td>\n",
       "      <td>4</td>\n",
       "      <td>4</td>\n",
       "      <td>4</td>\n",
       "      <td>2</td>\n",
       "      <td>4</td>\n",
       "      <td>4</td>\n",
       "      <td>4</td>\n",
       "      <td>4</td>\n",
       "      <td>4</td>\n",
       "      <td>4</td>\n",
       "      <td>4</td>\n",
       "      <td>4</td>\n",
       "      <td>4</td>\n",
       "      <td>4</td>\n",
       "      <td>4</td>\n",
       "      <td>4</td>\n",
       "      <td>4</td>\n",
       "      <td>0</td>\n",
       "      <td>0</td>\n",
       "      <td>0</td>\n",
       "      <td>0</td>\n",
       "      <td>0</td>\n",
       "      <td>0</td>\n",
       "      <td>2</td>\n",
       "      <td>0</td>\n",
       "      <td>0</td>\n",
       "      <td>0</td>\n",
       "      <td>0</td>\n",
       "      <td>0</td>\n",
       "      <td>167.0</td>\n",
       "    </tr>\n",
       "    <tr>\n",
       "      <th>168.0</th>\n",
       "      <td>33</td>\n",
       "      <td>33</td>\n",
       "      <td>33</td>\n",
       "      <td>33</td>\n",
       "      <td>33</td>\n",
       "      <td>33</td>\n",
       "      <td>6</td>\n",
       "      <td>33</td>\n",
       "      <td>33</td>\n",
       "      <td>33</td>\n",
       "      <td>33</td>\n",
       "      <td>33</td>\n",
       "      <td>33</td>\n",
       "      <td>33</td>\n",
       "      <td>33</td>\n",
       "      <td>33</td>\n",
       "      <td>33</td>\n",
       "      <td>33</td>\n",
       "      <td>33</td>\n",
       "      <td>33</td>\n",
       "      <td>0</td>\n",
       "      <td>0</td>\n",
       "      <td>0</td>\n",
       "      <td>0</td>\n",
       "      <td>0</td>\n",
       "      <td>0</td>\n",
       "      <td>7</td>\n",
       "      <td>0</td>\n",
       "      <td>0</td>\n",
       "      <td>0</td>\n",
       "      <td>0</td>\n",
       "      <td>0</td>\n",
       "      <td>168.0</td>\n",
       "    </tr>\n",
       "    <tr>\n",
       "      <th>169.0</th>\n",
       "      <td>3</td>\n",
       "      <td>3</td>\n",
       "      <td>3</td>\n",
       "      <td>3</td>\n",
       "      <td>3</td>\n",
       "      <td>3</td>\n",
       "      <td>1</td>\n",
       "      <td>3</td>\n",
       "      <td>3</td>\n",
       "      <td>3</td>\n",
       "      <td>3</td>\n",
       "      <td>3</td>\n",
       "      <td>3</td>\n",
       "      <td>3</td>\n",
       "      <td>3</td>\n",
       "      <td>3</td>\n",
       "      <td>3</td>\n",
       "      <td>3</td>\n",
       "      <td>3</td>\n",
       "      <td>3</td>\n",
       "      <td>0</td>\n",
       "      <td>0</td>\n",
       "      <td>0</td>\n",
       "      <td>0</td>\n",
       "      <td>0</td>\n",
       "      <td>0</td>\n",
       "      <td>1</td>\n",
       "      <td>0</td>\n",
       "      <td>0</td>\n",
       "      <td>0</td>\n",
       "      <td>0</td>\n",
       "      <td>0</td>\n",
       "      <td>169.0</td>\n",
       "    </tr>\n",
       "    <tr>\n",
       "      <th>170.0</th>\n",
       "      <td>37</td>\n",
       "      <td>37</td>\n",
       "      <td>37</td>\n",
       "      <td>37</td>\n",
       "      <td>37</td>\n",
       "      <td>37</td>\n",
       "      <td>9</td>\n",
       "      <td>37</td>\n",
       "      <td>37</td>\n",
       "      <td>37</td>\n",
       "      <td>37</td>\n",
       "      <td>37</td>\n",
       "      <td>37</td>\n",
       "      <td>37</td>\n",
       "      <td>37</td>\n",
       "      <td>37</td>\n",
       "      <td>37</td>\n",
       "      <td>37</td>\n",
       "      <td>37</td>\n",
       "      <td>37</td>\n",
       "      <td>0</td>\n",
       "      <td>0</td>\n",
       "      <td>0</td>\n",
       "      <td>0</td>\n",
       "      <td>0</td>\n",
       "      <td>0</td>\n",
       "      <td>9</td>\n",
       "      <td>0</td>\n",
       "      <td>0</td>\n",
       "      <td>0</td>\n",
       "      <td>0</td>\n",
       "      <td>0</td>\n",
       "      <td>170.0</td>\n",
       "    </tr>\n",
       "    <tr>\n",
       "      <th>171.0</th>\n",
       "      <td>23</td>\n",
       "      <td>23</td>\n",
       "      <td>23</td>\n",
       "      <td>23</td>\n",
       "      <td>23</td>\n",
       "      <td>23</td>\n",
       "      <td>7</td>\n",
       "      <td>23</td>\n",
       "      <td>23</td>\n",
       "      <td>23</td>\n",
       "      <td>23</td>\n",
       "      <td>23</td>\n",
       "      <td>23</td>\n",
       "      <td>23</td>\n",
       "      <td>23</td>\n",
       "      <td>23</td>\n",
       "      <td>23</td>\n",
       "      <td>23</td>\n",
       "      <td>23</td>\n",
       "      <td>23</td>\n",
       "      <td>0</td>\n",
       "      <td>0</td>\n",
       "      <td>0</td>\n",
       "      <td>0</td>\n",
       "      <td>0</td>\n",
       "      <td>0</td>\n",
       "      <td>7</td>\n",
       "      <td>0</td>\n",
       "      <td>0</td>\n",
       "      <td>0</td>\n",
       "      <td>0</td>\n",
       "      <td>0</td>\n",
       "      <td>171.0</td>\n",
       "    </tr>\n",
       "  </tbody>\n",
       "</table>\n",
       "<p>72 rows × 33 columns</p>\n",
       "</div>"
      ],
      "text/plain": [
       "              CASEKEY  ...  CENSUS TRACT\n",
       "CENSUS TRACT           ...              \n",
       "1.1                 6  ...           1.1\n",
       "2.0                 6  ...           2.0\n",
       "5.0                14  ...           5.0\n",
       "6.0                 4  ...           6.0\n",
       "7.0                 2  ...           7.0\n",
       "...               ...  ...           ...\n",
       "167.0               4  ...         167.0\n",
       "168.0              33  ...         168.0\n",
       "169.0               3  ...         169.0\n",
       "170.0              37  ...         170.0\n",
       "171.0              23  ...         171.0\n",
       "\n",
       "[72 rows x 33 columns]"
      ]
     },
     "execution_count": 88,
     "metadata": {
      "tags": []
     },
     "output_type": "execute_result"
    }
   ],
   "source": [
    "df_count_hcourt"
   ]
  },
  {
   "cell_type": "code",
   "execution_count": 0,
   "metadata": {
    "colab": {
     "base_uri": "https://localhost:8080/",
     "height": 697
    },
    "colab_type": "code",
    "collapsed": false,
    "id": "xdQ2TKiYGKFB",
    "outputId": "5387e470-c1e5-4131-e2be-9e9bd939b3a6"
   },
   "outputs": [
    {
     "name": "stdout",
     "output_type": "stream",
     "text": [
      "<class 'pandas.core.frame.DataFrame'>\n",
      "Float64Index: 72 entries, 1.1 to 171.0\n",
      "Data columns (total 33 columns):\n",
      " #   Column                                  Non-Null Count  Dtype  \n",
      "---  ------                                  --------------  -----  \n",
      " 0   CASEKEY                                 72 non-null     int64  \n",
      " 1   ADDDTTM                                 72 non-null     int64  \n",
      " 2   CASENO                                  72 non-null     int64  \n",
      " 3   CASETYPE                                72 non-null     int64  \n",
      " 4   STATUS                                  72 non-null     int64  \n",
      " 5   LASTACTION                              72 non-null     int64  \n",
      " 6   RESDTTM                                 72 non-null     int64  \n",
      " 7   ADDRESS                                 72 non-null     int64  \n",
      " 8   CITY                                    72 non-null     int64  \n",
      " 9   STATE                                   72 non-null     int64  \n",
      " 10  ZIP                                     72 non-null     int64  \n",
      " 11  CONTACT                                 72 non-null     int64  \n",
      " 12  LOCATION                                72 non-null     int64  \n",
      " 13  LATITUDE                                72 non-null     int64  \n",
      " 14  LONGITUDE                               72 non-null     int64  \n",
      " 15  COUNCIL DISTRICT                        72 non-null     int64  \n",
      " 16  POLICE DISTRICT                         72 non-null     int64  \n",
      " 17  CENSUS BLOCK GROUP                      72 non-null     int64  \n",
      " 18  CENSUS BLOCK                            72 non-null     int64  \n",
      " 19  NEIGHBORHOOD                            72 non-null     int64  \n",
      " 20  RESOLUTION_CITY OF BUFFALO FORECLOSURE  72 non-null     int64  \n",
      " 21  RESOLUTION_CITY OF BUFFALO OWNED        72 non-null     int64  \n",
      " 22  RESOLUTION_CLOSE FILE REWRITE           72 non-null     int64  \n",
      " 23  RESOLUTION_CONDITIONAL DISCHARGE        72 non-null     int64  \n",
      " 24  RESOLUTION_DEFENDANT FINED              72 non-null     int64  \n",
      " 25  RESOLUTION_DEFENDANT JAILED PER JUDGE   72 non-null     int64  \n",
      " 26  RESOLUTION_DISMISSED                    72 non-null     int64  \n",
      " 27  RESOLUTION_IN COMPLIANCE                72 non-null     int64  \n",
      " 28  RESOLUTION_PROPERTY DEMOLISHED          72 non-null     int64  \n",
      " 29  RESOLUTION_REFERRED TO DEMOLITION       72 non-null     int64  \n",
      " 30  RESOLUTION_REFERRED TO DISTRICT         72 non-null     int64  \n",
      " 31  RESOLUTION_UNCONDITIONAL DISCHARGE      72 non-null     int64  \n",
      " 32  CENSUS TRACT                            72 non-null     float64\n",
      "dtypes: float64(1), int64(32)\n",
      "memory usage: 19.1 KB\n"
     ]
    }
   ],
   "source": [
    "df_count_hcourt.info()"
   ]
  },
  {
   "cell_type": "code",
   "execution_count": 0,
   "metadata": {
    "colab": {},
    "colab_type": "code",
    "collapsed": true,
    "id": "WwxCGB74GOn5"
   },
   "outputs": [],
   "source": [
    "df_courtcases =df_count_hcourt[['RESOLUTION_IN COMPLIANCE','RESOLUTION_PROPERTY DEMOLISHED','RESOLUTION_REFERRED TO DEMOLITION','RESOLUTION_REFERRED TO DISTRICT','RESOLUTION_UNCONDITIONAL DISCHARGE','RESOLUTION_DISMISSED','RESOLUTION_DEFENDANT JAILED PER JUDGE','RESOLUTION_DEFENDANT FINED','RESOLUTION_CONDITIONAL DISCHARGE','RESOLUTION_CITY OF BUFFALO FORECLOSURE','RESOLUTION_CITY OF BUFFALO OWNED','RESOLUTION_CLOSE FILE REWRITE']]"
   ]
  },
  {
   "cell_type": "code",
   "execution_count": 0,
   "metadata": {
    "colab": {},
    "colab_type": "code",
    "collapsed": true,
    "id": "6XqjF2z5GQ4n"
   },
   "outputs": [],
   "source": [
    "df_courtcases.reset_index(level=0,inplace=True)"
   ]
  },
  {
   "cell_type": "code",
   "execution_count": 0,
   "metadata": {
    "colab": {
     "base_uri": "https://localhost:8080/",
     "height": 258
    },
    "colab_type": "code",
    "collapsed": false,
    "id": "OshVv3AAv7ge",
    "outputId": "d379ebb9-143d-400d-b6d1-3df65d9a9184"
   },
   "outputs": [
    {
     "data": {
      "text/html": [
       "<div>\n",
       "<style scoped>\n",
       "    .dataframe tbody tr th:only-of-type {\n",
       "        vertical-align: middle;\n",
       "    }\n",
       "\n",
       "    .dataframe tbody tr th {\n",
       "        vertical-align: top;\n",
       "    }\n",
       "\n",
       "    .dataframe thead th {\n",
       "        text-align: right;\n",
       "    }\n",
       "</style>\n",
       "<table border=\"1\" class=\"dataframe\">\n",
       "  <thead>\n",
       "    <tr style=\"text-align: right;\">\n",
       "      <th></th>\n",
       "      <th>CENSUS TRACT</th>\n",
       "      <th>RESOLUTION_IN COMPLIANCE</th>\n",
       "      <th>RESOLUTION_PROPERTY DEMOLISHED</th>\n",
       "      <th>RESOLUTION_REFERRED TO DEMOLITION</th>\n",
       "      <th>RESOLUTION_REFERRED TO DISTRICT</th>\n",
       "      <th>RESOLUTION_UNCONDITIONAL DISCHARGE</th>\n",
       "      <th>RESOLUTION_DISMISSED</th>\n",
       "      <th>RESOLUTION_DEFENDANT JAILED PER JUDGE</th>\n",
       "      <th>RESOLUTION_DEFENDANT FINED</th>\n",
       "      <th>RESOLUTION_CONDITIONAL DISCHARGE</th>\n",
       "      <th>RESOLUTION_CITY OF BUFFALO FORECLOSURE</th>\n",
       "      <th>RESOLUTION_CITY OF BUFFALO OWNED</th>\n",
       "      <th>RESOLUTION_CLOSE FILE REWRITE</th>\n",
       "    </tr>\n",
       "  </thead>\n",
       "  <tbody>\n",
       "    <tr>\n",
       "      <th>0</th>\n",
       "      <td>1.1</td>\n",
       "      <td>0</td>\n",
       "      <td>0</td>\n",
       "      <td>0</td>\n",
       "      <td>0</td>\n",
       "      <td>0</td>\n",
       "      <td>1</td>\n",
       "      <td>0</td>\n",
       "      <td>0</td>\n",
       "      <td>0</td>\n",
       "      <td>0</td>\n",
       "      <td>0</td>\n",
       "      <td>0</td>\n",
       "    </tr>\n",
       "    <tr>\n",
       "      <th>1</th>\n",
       "      <td>2.0</td>\n",
       "      <td>0</td>\n",
       "      <td>0</td>\n",
       "      <td>0</td>\n",
       "      <td>0</td>\n",
       "      <td>0</td>\n",
       "      <td>0</td>\n",
       "      <td>0</td>\n",
       "      <td>0</td>\n",
       "      <td>0</td>\n",
       "      <td>0</td>\n",
       "      <td>0</td>\n",
       "      <td>0</td>\n",
       "    </tr>\n",
       "    <tr>\n",
       "      <th>2</th>\n",
       "      <td>5.0</td>\n",
       "      <td>0</td>\n",
       "      <td>0</td>\n",
       "      <td>0</td>\n",
       "      <td>0</td>\n",
       "      <td>0</td>\n",
       "      <td>5</td>\n",
       "      <td>0</td>\n",
       "      <td>0</td>\n",
       "      <td>0</td>\n",
       "      <td>0</td>\n",
       "      <td>0</td>\n",
       "      <td>0</td>\n",
       "    </tr>\n",
       "    <tr>\n",
       "      <th>3</th>\n",
       "      <td>6.0</td>\n",
       "      <td>0</td>\n",
       "      <td>0</td>\n",
       "      <td>0</td>\n",
       "      <td>0</td>\n",
       "      <td>0</td>\n",
       "      <td>1</td>\n",
       "      <td>0</td>\n",
       "      <td>0</td>\n",
       "      <td>0</td>\n",
       "      <td>0</td>\n",
       "      <td>0</td>\n",
       "      <td>0</td>\n",
       "    </tr>\n",
       "    <tr>\n",
       "      <th>4</th>\n",
       "      <td>7.0</td>\n",
       "      <td>0</td>\n",
       "      <td>0</td>\n",
       "      <td>0</td>\n",
       "      <td>0</td>\n",
       "      <td>0</td>\n",
       "      <td>0</td>\n",
       "      <td>0</td>\n",
       "      <td>0</td>\n",
       "      <td>0</td>\n",
       "      <td>0</td>\n",
       "      <td>0</td>\n",
       "      <td>0</td>\n",
       "    </tr>\n",
       "  </tbody>\n",
       "</table>\n",
       "</div>"
      ],
      "text/plain": [
       "   CENSUS TRACT  ...  RESOLUTION_CLOSE FILE REWRITE\n",
       "0           1.1  ...                              0\n",
       "1           2.0  ...                              0\n",
       "2           5.0  ...                              0\n",
       "3           6.0  ...                              0\n",
       "4           7.0  ...                              0\n",
       "\n",
       "[5 rows x 13 columns]"
      ]
     },
     "execution_count": 92,
     "metadata": {
      "tags": []
     },
     "output_type": "execute_result"
    }
   ],
   "source": [
    "df_courtcases.head()"
   ]
  },
  {
   "cell_type": "code",
   "execution_count": 0,
   "metadata": {
    "colab": {
     "base_uri": "https://localhost:8080/",
     "height": 71
    },
    "colab_type": "code",
    "collapsed": false,
    "id": "IASqjHsBGTRc",
    "outputId": "88f0df46-f64b-4411-8f9c-a2f65c5e3831"
   },
   "outputs": [
    {
     "name": "stderr",
     "output_type": "stream",
     "text": [
      "/usr/local/lib/python3.6/dist-packages/IPython/core/interactiveshell.py:2718: DtypeWarning: Columns (0,15,16,17) have mixed types.Specify dtype option on import or set low_memory=False.\n",
      "  interactivity=interactivity, compiler=compiler, result=result)\n"
     ]
    }
   ],
   "source": [
    "df_parking = pd.read_csv('/content/drive/My Drive/Gentrification/Parking_Summonses .csv')"
   ]
  },
  {
   "cell_type": "code",
   "execution_count": 0,
   "metadata": {
    "colab": {},
    "colab_type": "code",
    "collapsed": true,
    "id": "0wqdLWBaGjAO"
   },
   "outputs": [],
   "source": [
    "df_parking.drop(df_parking[df_parking['CENSUS TRACT']=='UNKNOWN'].index,inplace=True)"
   ]
  },
  {
   "cell_type": "code",
   "execution_count": 0,
   "metadata": {
    "colab": {
     "base_uri": "https://localhost:8080/",
     "height": 34
    },
    "colab_type": "code",
    "collapsed": false,
    "id": "QtlOImwbGlt5",
    "outputId": "fa7e6e8f-a4b3-4bfe-e8ff-a2cd9c09136f"
   },
   "outputs": [
    {
     "data": {
      "text/plain": [
       "(2153798, 18)"
      ]
     },
     "execution_count": 155,
     "metadata": {
      "tags": []
     },
     "output_type": "execute_result"
    }
   ],
   "source": [
    "df_parking.shape"
   ]
  },
  {
   "cell_type": "code",
   "execution_count": 0,
   "metadata": {
    "colab": {},
    "colab_type": "code",
    "collapsed": true,
    "id": "za0PEuK4Gntr"
   },
   "outputs": [],
   "source": [
    "df_parking['CENSUS TRACT'] = pd.to_numeric(df_parking['CENSUS TRACT'],errors='coerce')"
   ]
  },
  {
   "cell_type": "code",
   "execution_count": 0,
   "metadata": {
    "colab": {
     "base_uri": "https://localhost:8080/",
     "height": 187
    },
    "colab_type": "code",
    "collapsed": false,
    "id": "_WdNpCajGpXG",
    "outputId": "560044a5-31ec-4e26-eb95-7643e438a7f2"
   },
   "outputs": [
    {
     "data": {
      "text/plain": [
       "array([   nan, 165.  ,  68.  ,  71.02,  66.01,  66.02,  65.01,  23.  ,\n",
       "         9.  ,  10.  ,  63.01,  28.  , 171.  ,  58.02,  31.  ,  63.02,\n",
       "        69.02,  55.  ,  67.01,  52.02,  71.01,  47.  ,  61.  , 164.  ,\n",
       "       169.  ,  70.  ,  69.01,  67.02,  24.  ,  30.  ,  37.  ,   8.  ,\n",
       "       167.  ,  52.01,  59.  ,  58.01,  57.  ,   5.  ,  17.  ,  43.  ,\n",
       "        25.02,  29.  ,  49.  ,  50.  ,  48.  ,  45.  ,  72.02,  54.  ,\n",
       "        33.01,  11.  ,  51.  ,  33.02,  35.  ,  38.  ,   7.  ,  34.  ,\n",
       "        14.02, 170.  ,  53.  ,  16.  , 166.  ,   1.1 ,   6.  ,   2.  ,\n",
       "       163.  ,  19.  , 168.  ,  27.02,  41.  ,  46.01,  42.  ,  56.  ,\n",
       "        40.01,  46.02,  44.01,  39.01,  44.02,  36.  ,  15.  ,  62.01])"
      ]
     },
     "execution_count": 157,
     "metadata": {
      "tags": []
     },
     "output_type": "execute_result"
    }
   ],
   "source": [
    "df_parking['CENSUS TRACT'].unique()"
   ]
  },
  {
   "cell_type": "code",
   "execution_count": 0,
   "metadata": {
    "colab": {
     "base_uri": "https://localhost:8080/",
     "height": 442
    },
    "colab_type": "code",
    "collapsed": false,
    "id": "6fV1UYwRGtUF",
    "outputId": "45b4a482-465a-4d2c-b2d8-dba005c6f47f"
   },
   "outputs": [
    {
     "name": "stdout",
     "output_type": "stream",
     "text": [
      "<class 'pandas.core.frame.DataFrame'>\n",
      "Int64Index: 2153798 entries, 0 to 2155858\n",
      "Data columns (total 18 columns):\n",
      " #   Column                    Dtype  \n",
      "---  ------                    -----  \n",
      " 0   SUMMONS NUMBER            object \n",
      " 1   SUMMONS DATE              object \n",
      " 2   VIOLATION TIME            object \n",
      " 3   VIOLATION DESCRIPTION     object \n",
      " 4   ORIGINAL FINE             float64\n",
      " 5   VIOLATION ADDRESS NUMBER  float64\n",
      " 6   VIOLATION STREET          object \n",
      " 7   VIOLATION FULL ADDRESS    object \n",
      " 8   CITY                      object \n",
      " 9   STATE                     object \n",
      " 10  LATITUDE                  float64\n",
      " 11  LONGITUDE                 float64\n",
      " 12  LOCATION                  object \n",
      " 13  COUNCIL DISTRICT          object \n",
      " 14  POLICE DISTRICT           object \n",
      " 15  CENSUS TRACT              float64\n",
      " 16  CENSUS BLOCK GROUP        object \n",
      " 17  CENSUS BLOCK              object \n",
      "dtypes: float64(5), object(13)\n",
      "memory usage: 312.2+ MB\n"
     ]
    }
   ],
   "source": [
    "df_parking.info()"
   ]
  },
  {
   "cell_type": "code",
   "execution_count": 0,
   "metadata": {
    "colab": {},
    "colab_type": "code",
    "collapsed": true,
    "id": "suK6n5xTGttp"
   },
   "outputs": [],
   "source": [
    "df_parking['SUMMONS DATE']=pd.to_datetime(df_parking['SUMMONS DATE'])"
   ]
  },
  {
   "cell_type": "code",
   "execution_count": 0,
   "metadata": {
    "colab": {},
    "colab_type": "code",
    "collapsed": true,
    "id": "lfH3WEbTGvrn"
   },
   "outputs": [],
   "source": [
    "df_parking = df_parking[df_parking['SUMMONS DATE'].dt.year == 2018]"
   ]
  },
  {
   "cell_type": "code",
   "execution_count": 0,
   "metadata": {
    "colab": {},
    "colab_type": "code",
    "collapsed": true,
    "id": "pE4F4LTtG9cC"
   },
   "outputs": [],
   "source": [
    "df_rank=pd.read_csv('/content/drive/My Drive/Gentrification/census_rank_Assessmentprice.csv')"
   ]
  },
  {
   "cell_type": "code",
   "execution_count": 0,
   "metadata": {
    "colab": {},
    "colab_type": "code",
    "collapsed": true,
    "id": "ZxWGi3d7Gxl4"
   },
   "outputs": [],
   "source": [
    "df_merged_parking = df_parking.merge(df_rank,left_on = 'CENSUS TRACT',right_on='CENSUS TRACT',how='inner')"
   ]
  },
  {
   "cell_type": "code",
   "execution_count": 0,
   "metadata": {
    "colab": {},
    "colab_type": "code",
    "collapsed": true,
    "id": "DFkvPq5-GzaX"
   },
   "outputs": [],
   "source": [
    "df_merged_parking = df_merged_parking.merge(df_courtcases,left_on = 'CENSUS TRACT',right_on='CENSUS TRACT',how='inner')"
   ]
  },
  {
   "cell_type": "code",
   "execution_count": 0,
   "metadata": {
    "colab": {
     "base_uri": "https://localhost:8080/",
     "height": 34
    },
    "colab_type": "code",
    "collapsed": false,
    "id": "xS6KbqNwHHYe",
    "outputId": "bfabfeee-69fc-4e89-89ea-02bf6ebdcefb"
   },
   "outputs": [
    {
     "data": {
      "text/plain": [
       "(178518, 32)"
      ]
     },
     "execution_count": 164,
     "metadata": {
      "tags": []
     },
     "output_type": "execute_result"
    }
   ],
   "source": [
    "df_merged_parking.shape\n",
    "\n",
    "\n"
   ]
  },
  {
   "cell_type": "code",
   "execution_count": 0,
   "metadata": {
    "colab": {
     "base_uri": "https://localhost:8080/",
     "height": 34
    },
    "colab_type": "code",
    "collapsed": false,
    "id": "cJxnd75QHL2F",
    "outputId": "338ec7f9-0b84-4fbf-8235-6077c15f0fe1"
   },
   "outputs": [
    {
     "data": {
      "text/plain": [
       "0"
      ]
     },
     "execution_count": 165,
     "metadata": {
      "tags": []
     },
     "output_type": "execute_result"
    }
   ],
   "source": [
    "df_merged_parking['Rank'].isnull().sum()"
   ]
  },
  {
   "cell_type": "code",
   "execution_count": 0,
   "metadata": {
    "colab": {},
    "colab_type": "code",
    "collapsed": true,
    "id": "eXdjz6a4HNua"
   },
   "outputs": [],
   "source": [
    "df_merged_parking.drop(df_merged_parking[df_merged_parking['Rank'].isnull()].index,inplace=True)"
   ]
  },
  {
   "cell_type": "code",
   "execution_count": 0,
   "metadata": {
    "colab": {},
    "colab_type": "code",
    "collapsed": true,
    "id": "FKI_O873HQUh"
   },
   "outputs": [],
   "source": [
    "df_parking.drop(df_parking[df_parking['CENSUS TRACT'].isnull()].index,inplace=True)"
   ]
  },
  {
   "cell_type": "code",
   "execution_count": 0,
   "metadata": {
    "colab": {
     "base_uri": "https://localhost:8080/",
     "height": 34
    },
    "colab_type": "code",
    "collapsed": false,
    "id": "rjXwvRAvHR94",
    "outputId": "9df5e10e-150f-4fb7-c893-237c78c1e9d5"
   },
   "outputs": [
    {
     "data": {
      "text/plain": [
       "0"
      ]
     },
     "execution_count": 168,
     "metadata": {
      "tags": []
     },
     "output_type": "execute_result"
    }
   ],
   "source": [
    "df_merged_parking['Rank'].isnull().sum()"
   ]
  },
  {
   "cell_type": "code",
   "execution_count": 0,
   "metadata": {
    "colab": {},
    "colab_type": "code",
    "collapsed": true,
    "id": "OC8-fN2VHTVI"
   },
   "outputs": [],
   "source": [
    "df_merged_parking.to_csv('Parking_ranked.csv',index=False)"
   ]
  },
  {
   "cell_type": "code",
   "execution_count": 0,
   "metadata": {
    "colab": {
     "base_uri": "https://localhost:8080/",
     "height": 680
    },
    "colab_type": "code",
    "collapsed": false,
    "id": "BE6cF5NZHWGi",
    "outputId": "e5322e0d-4048-478a-bf23-f7718764ae30"
   },
   "outputs": [
    {
     "name": "stdout",
     "output_type": "stream",
     "text": [
      "<class 'pandas.core.frame.DataFrame'>\n",
      "Int64Index: 178518 entries, 0 to 178517\n",
      "Data columns (total 32 columns):\n",
      " #   Column                                  Non-Null Count   Dtype         \n",
      "---  ------                                  --------------   -----         \n",
      " 0   SUMMONS NUMBER                          178518 non-null  object        \n",
      " 1   SUMMONS DATE                            178518 non-null  datetime64[ns]\n",
      " 2   VIOLATION TIME                          178512 non-null  object        \n",
      " 3   VIOLATION DESCRIPTION                   178518 non-null  object        \n",
      " 4   ORIGINAL FINE                           178518 non-null  float64       \n",
      " 5   VIOLATION ADDRESS NUMBER                178513 non-null  float64       \n",
      " 6   VIOLATION STREET                        178513 non-null  object        \n",
      " 7   VIOLATION FULL ADDRESS                  178518 non-null  object        \n",
      " 8   CITY                                    178518 non-null  object        \n",
      " 9   STATE                                   178518 non-null  object        \n",
      " 10  LATITUDE                                178518 non-null  float64       \n",
      " 11  LONGITUDE                               178518 non-null  float64       \n",
      " 12  LOCATION                                178518 non-null  object        \n",
      " 13  COUNCIL DISTRICT                        178518 non-null  object        \n",
      " 14  POLICE DISTRICT                         178518 non-null  object        \n",
      " 15  CENSUS TRACT                            178518 non-null  float64       \n",
      " 16  CENSUS BLOCK GROUP                      178518 non-null  object        \n",
      " 17  CENSUS BLOCK                            178518 non-null  object        \n",
      " 18  Price/sqft                              178518 non-null  float64       \n",
      " 19  Rank                                    178518 non-null  int64         \n",
      " 20  RESOLUTION_IN COMPLIANCE                178518 non-null  int64         \n",
      " 21  RESOLUTION_PROPERTY DEMOLISHED          178518 non-null  int64         \n",
      " 22  RESOLUTION_REFERRED TO DEMOLITION       178518 non-null  int64         \n",
      " 23  RESOLUTION_REFERRED TO DISTRICT         178518 non-null  int64         \n",
      " 24  RESOLUTION_UNCONDITIONAL DISCHARGE      178518 non-null  int64         \n",
      " 25  RESOLUTION_DISMISSED                    178518 non-null  int64         \n",
      " 26  RESOLUTION_DEFENDANT JAILED PER JUDGE   178518 non-null  int64         \n",
      " 27  RESOLUTION_DEFENDANT FINED              178518 non-null  int64         \n",
      " 28  RESOLUTION_CONDITIONAL DISCHARGE        178518 non-null  int64         \n",
      " 29  RESOLUTION_CITY OF BUFFALO FORECLOSURE  178518 non-null  int64         \n",
      " 30  RESOLUTION_CITY OF BUFFALO OWNED        178518 non-null  int64         \n",
      " 31  RESOLUTION_CLOSE FILE REWRITE           178518 non-null  int64         \n",
      "dtypes: datetime64[ns](1), float64(6), int64(13), object(12)\n",
      "memory usage: 44.9+ MB\n"
     ]
    }
   ],
   "source": [
    "df_merged_parking.info()"
   ]
  },
  {
   "cell_type": "code",
   "execution_count": 0,
   "metadata": {
    "colab": {
     "base_uri": "https://localhost:8080/",
     "height": 153
    },
    "colab_type": "code",
    "collapsed": false,
    "id": "6s7mwE74Optl",
    "outputId": "ca96bbc3-e27d-4c49-92af-371070ed8599"
   },
   "outputs": [
    {
     "name": "stdout",
     "output_type": "stream",
     "text": [
      "  SUMMONS NUMBER  ... RESOLUTION_CLOSE FILE REWRITE\n",
      "0       32055761  ...                             0\n",
      "1       H2205740  ...                             0\n",
      "2       72095850  ...                             0\n",
      "3       A9645156  ...                             0\n",
      "4       A9781763  ...                             0\n",
      "\n",
      "[5 rows x 32 columns]\n"
     ]
    }
   ],
   "source": [
    "from sklearn.preprocessing import LabelBinarizer\n",
    "lb = LabelBinarizer()\n",
    "df_merged_parking_temp = lb.fit_transform(df_merged_parking['VIOLATION DESCRIPTION'])\n",
    "df_merged_parking_temp2 = pd.DataFrame(df_merged_parking_temp, columns=lb.classes_)\n",
    "\n",
    "print(df_merged_parking.head())"
   ]
  },
  {
   "cell_type": "code",
   "execution_count": 0,
   "metadata": {
    "colab": {
     "base_uri": "https://localhost:8080/",
     "height": 643
    },
    "colab_type": "code",
    "collapsed": false,
    "id": "dWLqCORkYQ3n",
    "outputId": "55360594-1690-4fcc-c2db-6137a8bf3c3a"
   },
   "outputs": [
    {
     "data": {
      "text/html": [
       "<div>\n",
       "<style scoped>\n",
       "    .dataframe tbody tr th:only-of-type {\n",
       "        vertical-align: middle;\n",
       "    }\n",
       "\n",
       "    .dataframe tbody tr th {\n",
       "        vertical-align: top;\n",
       "    }\n",
       "\n",
       "    .dataframe thead th {\n",
       "        text-align: right;\n",
       "    }\n",
       "</style>\n",
       "<table border=\"1\" class=\"dataframe\">\n",
       "  <thead>\n",
       "    <tr style=\"text-align: right;\">\n",
       "      <th></th>\n",
       "      <th>SUMMONS NUMBER</th>\n",
       "      <th>SUMMONS DATE</th>\n",
       "      <th>VIOLATION TIME</th>\n",
       "      <th>VIOLATION DESCRIPTION</th>\n",
       "      <th>ORIGINAL FINE</th>\n",
       "      <th>VIOLATION ADDRESS NUMBER</th>\n",
       "      <th>VIOLATION STREET</th>\n",
       "      <th>VIOLATION FULL ADDRESS</th>\n",
       "      <th>CITY</th>\n",
       "      <th>STATE</th>\n",
       "      <th>LATITUDE</th>\n",
       "      <th>LONGITUDE</th>\n",
       "      <th>LOCATION</th>\n",
       "      <th>COUNCIL DISTRICT</th>\n",
       "      <th>POLICE DISTRICT</th>\n",
       "      <th>CENSUS TRACT</th>\n",
       "      <th>CENSUS BLOCK GROUP</th>\n",
       "      <th>CENSUS BLOCK</th>\n",
       "      <th>Price/sqft</th>\n",
       "      <th>Rank</th>\n",
       "      <th>RESOLUTION_IN COMPLIANCE</th>\n",
       "      <th>RESOLUTION_PROPERTY DEMOLISHED</th>\n",
       "      <th>RESOLUTION_REFERRED TO DEMOLITION</th>\n",
       "      <th>RESOLUTION_REFERRED TO DISTRICT</th>\n",
       "      <th>RESOLUTION_UNCONDITIONAL DISCHARGE</th>\n",
       "      <th>RESOLUTION_DISMISSED</th>\n",
       "      <th>RESOLUTION_DEFENDANT JAILED PER JUDGE</th>\n",
       "      <th>RESOLUTION_DEFENDANT FINED</th>\n",
       "      <th>RESOLUTION_CONDITIONAL DISCHARGE</th>\n",
       "      <th>RESOLUTION_CITY OF BUFFALO FORECLOSURE</th>\n",
       "      <th>RESOLUTION_CITY OF BUFFALO OWNED</th>\n",
       "      <th>RESOLUTION_CLOSE FILE REWRITE</th>\n",
       "    </tr>\n",
       "  </thead>\n",
       "  <tbody>\n",
       "    <tr>\n",
       "      <th>0</th>\n",
       "      <td>32055761</td>\n",
       "      <td>2018-02-16</td>\n",
       "      <td>0659A</td>\n",
       "      <td>ALTERNATE PARKING</td>\n",
       "      <td>40.0</td>\n",
       "      <td>7.0</td>\n",
       "      <td>ORTON</td>\n",
       "      <td>7 ORTON</td>\n",
       "      <td>Buffalo</td>\n",
       "      <td>NY</td>\n",
       "      <td>42.899591</td>\n",
       "      <td>-78.882205</td>\n",
       "      <td>(42.899591383921, -78.882205118133)</td>\n",
       "      <td>ELLICOTT</td>\n",
       "      <td>District B</td>\n",
       "      <td>68.0</td>\n",
       "      <td>3</td>\n",
       "      <td>3003</td>\n",
       "      <td>155.870927</td>\n",
       "      <td>7</td>\n",
       "      <td>0</td>\n",
       "      <td>0</td>\n",
       "      <td>0</td>\n",
       "      <td>0</td>\n",
       "      <td>0</td>\n",
       "      <td>0</td>\n",
       "      <td>0</td>\n",
       "      <td>0</td>\n",
       "      <td>0</td>\n",
       "      <td>0</td>\n",
       "      <td>0</td>\n",
       "      <td>0</td>\n",
       "    </tr>\n",
       "    <tr>\n",
       "      <th>1</th>\n",
       "      <td>H2205740</td>\n",
       "      <td>2018-12-18</td>\n",
       "      <td>1155A</td>\n",
       "      <td>NO PARKING</td>\n",
       "      <td>40.0</td>\n",
       "      <td>960.0</td>\n",
       "      <td>MAIN</td>\n",
       "      <td>960 MAIN</td>\n",
       "      <td>Buffalo</td>\n",
       "      <td>NY</td>\n",
       "      <td>42.899943</td>\n",
       "      <td>-78.869785</td>\n",
       "      <td>(42.899942641686, -78.869785312295)</td>\n",
       "      <td>FILLMORE</td>\n",
       "      <td>District B</td>\n",
       "      <td>68.0</td>\n",
       "      <td>2</td>\n",
       "      <td>2000</td>\n",
       "      <td>155.870927</td>\n",
       "      <td>7</td>\n",
       "      <td>0</td>\n",
       "      <td>0</td>\n",
       "      <td>0</td>\n",
       "      <td>0</td>\n",
       "      <td>0</td>\n",
       "      <td>0</td>\n",
       "      <td>0</td>\n",
       "      <td>0</td>\n",
       "      <td>0</td>\n",
       "      <td>0</td>\n",
       "      <td>0</td>\n",
       "      <td>0</td>\n",
       "    </tr>\n",
       "    <tr>\n",
       "      <th>2</th>\n",
       "      <td>72095850</td>\n",
       "      <td>2018-05-07</td>\n",
       "      <td>0435P</td>\n",
       "      <td>METER OVERTIME</td>\n",
       "      <td>40.0</td>\n",
       "      <td>498.0</td>\n",
       "      <td>ELMWOOD</td>\n",
       "      <td>498 ELMWOOD</td>\n",
       "      <td>Buffalo</td>\n",
       "      <td>NY</td>\n",
       "      <td>42.896816</td>\n",
       "      <td>-78.877154</td>\n",
       "      <td>(42.896816346134, -78.877154188574)</td>\n",
       "      <td>FILLMORE</td>\n",
       "      <td>District B</td>\n",
       "      <td>68.0</td>\n",
       "      <td>3</td>\n",
       "      <td>3009</td>\n",
       "      <td>155.870927</td>\n",
       "      <td>7</td>\n",
       "      <td>0</td>\n",
       "      <td>0</td>\n",
       "      <td>0</td>\n",
       "      <td>0</td>\n",
       "      <td>0</td>\n",
       "      <td>0</td>\n",
       "      <td>0</td>\n",
       "      <td>0</td>\n",
       "      <td>0</td>\n",
       "      <td>0</td>\n",
       "      <td>0</td>\n",
       "      <td>0</td>\n",
       "    </tr>\n",
       "    <tr>\n",
       "      <th>3</th>\n",
       "      <td>A9645156</td>\n",
       "      <td>2018-07-26</td>\n",
       "      <td>0247P</td>\n",
       "      <td>NO STANDING</td>\n",
       "      <td>40.0</td>\n",
       "      <td>158.0</td>\n",
       "      <td>PEARL</td>\n",
       "      <td>158 PEARL</td>\n",
       "      <td>Buffalo</td>\n",
       "      <td>NY</td>\n",
       "      <td>42.900219</td>\n",
       "      <td>-78.870895</td>\n",
       "      <td>(42.90021880526, -78.870894823926)</td>\n",
       "      <td>FILLMORE</td>\n",
       "      <td>District B</td>\n",
       "      <td>68.0</td>\n",
       "      <td>2</td>\n",
       "      <td>2001</td>\n",
       "      <td>155.870927</td>\n",
       "      <td>7</td>\n",
       "      <td>0</td>\n",
       "      <td>0</td>\n",
       "      <td>0</td>\n",
       "      <td>0</td>\n",
       "      <td>0</td>\n",
       "      <td>0</td>\n",
       "      <td>0</td>\n",
       "      <td>0</td>\n",
       "      <td>0</td>\n",
       "      <td>0</td>\n",
       "      <td>0</td>\n",
       "      <td>0</td>\n",
       "    </tr>\n",
       "    <tr>\n",
       "      <th>4</th>\n",
       "      <td>A9781763</td>\n",
       "      <td>2018-10-13</td>\n",
       "      <td>0130A</td>\n",
       "      <td>NO PARKING</td>\n",
       "      <td>40.0</td>\n",
       "      <td>221.0</td>\n",
       "      <td>ALLEN</td>\n",
       "      <td>221 ALLEN</td>\n",
       "      <td>Buffalo</td>\n",
       "      <td>NY</td>\n",
       "      <td>42.899519</td>\n",
       "      <td>-78.878243</td>\n",
       "      <td>(42.899518778881, -78.878242864676)</td>\n",
       "      <td>FILLMORE</td>\n",
       "      <td>District B</td>\n",
       "      <td>68.0</td>\n",
       "      <td>1</td>\n",
       "      <td>1002</td>\n",
       "      <td>155.870927</td>\n",
       "      <td>7</td>\n",
       "      <td>0</td>\n",
       "      <td>0</td>\n",
       "      <td>0</td>\n",
       "      <td>0</td>\n",
       "      <td>0</td>\n",
       "      <td>0</td>\n",
       "      <td>0</td>\n",
       "      <td>0</td>\n",
       "      <td>0</td>\n",
       "      <td>0</td>\n",
       "      <td>0</td>\n",
       "      <td>0</td>\n",
       "    </tr>\n",
       "    <tr>\n",
       "      <th>...</th>\n",
       "      <td>...</td>\n",
       "      <td>...</td>\n",
       "      <td>...</td>\n",
       "      <td>...</td>\n",
       "      <td>...</td>\n",
       "      <td>...</td>\n",
       "      <td>...</td>\n",
       "      <td>...</td>\n",
       "      <td>...</td>\n",
       "      <td>...</td>\n",
       "      <td>...</td>\n",
       "      <td>...</td>\n",
       "      <td>...</td>\n",
       "      <td>...</td>\n",
       "      <td>...</td>\n",
       "      <td>...</td>\n",
       "      <td>...</td>\n",
       "      <td>...</td>\n",
       "      <td>...</td>\n",
       "      <td>...</td>\n",
       "      <td>...</td>\n",
       "      <td>...</td>\n",
       "      <td>...</td>\n",
       "      <td>...</td>\n",
       "      <td>...</td>\n",
       "      <td>...</td>\n",
       "      <td>...</td>\n",
       "      <td>...</td>\n",
       "      <td>...</td>\n",
       "      <td>...</td>\n",
       "      <td>...</td>\n",
       "      <td>...</td>\n",
       "    </tr>\n",
       "    <tr>\n",
       "      <th>178513</th>\n",
       "      <td>X2204389</td>\n",
       "      <td>2018-12-18</td>\n",
       "      <td>0948A</td>\n",
       "      <td>ALTERNATE PARKING</td>\n",
       "      <td>40.0</td>\n",
       "      <td>268.0</td>\n",
       "      <td>KRETTNER</td>\n",
       "      <td>268 KRETTNER</td>\n",
       "      <td>Buffalo</td>\n",
       "      <td>NY</td>\n",
       "      <td>42.890394</td>\n",
       "      <td>-78.847980</td>\n",
       "      <td>(42.890394064688, -78.847979738294)</td>\n",
       "      <td>ELLICOTT</td>\n",
       "      <td>District C</td>\n",
       "      <td>15.0</td>\n",
       "      <td>2</td>\n",
       "      <td>2004</td>\n",
       "      <td>24.060547</td>\n",
       "      <td>66</td>\n",
       "      <td>0</td>\n",
       "      <td>0</td>\n",
       "      <td>0</td>\n",
       "      <td>0</td>\n",
       "      <td>0</td>\n",
       "      <td>7</td>\n",
       "      <td>0</td>\n",
       "      <td>0</td>\n",
       "      <td>0</td>\n",
       "      <td>0</td>\n",
       "      <td>0</td>\n",
       "      <td>0</td>\n",
       "    </tr>\n",
       "    <tr>\n",
       "      <th>178514</th>\n",
       "      <td>X2208482</td>\n",
       "      <td>2018-12-26</td>\n",
       "      <td>0958A</td>\n",
       "      <td>ALTERNATE PARKING</td>\n",
       "      <td>40.0</td>\n",
       "      <td>268.0</td>\n",
       "      <td>SHERMAN</td>\n",
       "      <td>268 SHERMAN</td>\n",
       "      <td>Buffalo</td>\n",
       "      <td>NY</td>\n",
       "      <td>42.890968</td>\n",
       "      <td>-78.847000</td>\n",
       "      <td>(42.890967640127, -78.846999593045)</td>\n",
       "      <td>ELLICOTT</td>\n",
       "      <td>District C</td>\n",
       "      <td>15.0</td>\n",
       "      <td>2</td>\n",
       "      <td>2003</td>\n",
       "      <td>24.060547</td>\n",
       "      <td>66</td>\n",
       "      <td>0</td>\n",
       "      <td>0</td>\n",
       "      <td>0</td>\n",
       "      <td>0</td>\n",
       "      <td>0</td>\n",
       "      <td>7</td>\n",
       "      <td>0</td>\n",
       "      <td>0</td>\n",
       "      <td>0</td>\n",
       "      <td>0</td>\n",
       "      <td>0</td>\n",
       "      <td>0</td>\n",
       "    </tr>\n",
       "    <tr>\n",
       "      <th>178515</th>\n",
       "      <td>X2208889</td>\n",
       "      <td>2018-12-27</td>\n",
       "      <td>0949A</td>\n",
       "      <td>ALTERNATE PARKING</td>\n",
       "      <td>40.0</td>\n",
       "      <td>351.0</td>\n",
       "      <td>ADAMS</td>\n",
       "      <td>351 ADAMS</td>\n",
       "      <td>Buffalo</td>\n",
       "      <td>NY</td>\n",
       "      <td>42.889734</td>\n",
       "      <td>-78.850854</td>\n",
       "      <td>(42.889733600078, -78.850853884353)</td>\n",
       "      <td>ELLICOTT</td>\n",
       "      <td>District C</td>\n",
       "      <td>15.0</td>\n",
       "      <td>2</td>\n",
       "      <td>2006</td>\n",
       "      <td>24.060547</td>\n",
       "      <td>66</td>\n",
       "      <td>0</td>\n",
       "      <td>0</td>\n",
       "      <td>0</td>\n",
       "      <td>0</td>\n",
       "      <td>0</td>\n",
       "      <td>7</td>\n",
       "      <td>0</td>\n",
       "      <td>0</td>\n",
       "      <td>0</td>\n",
       "      <td>0</td>\n",
       "      <td>0</td>\n",
       "      <td>0</td>\n",
       "    </tr>\n",
       "    <tr>\n",
       "      <th>178516</th>\n",
       "      <td>X2208890</td>\n",
       "      <td>2018-12-27</td>\n",
       "      <td>1000A</td>\n",
       "      <td>ALTERNATE PARKING</td>\n",
       "      <td>40.0</td>\n",
       "      <td>245.0</td>\n",
       "      <td>SHUMWAY</td>\n",
       "      <td>245 SHUMWAY</td>\n",
       "      <td>Buffalo</td>\n",
       "      <td>NY</td>\n",
       "      <td>42.890234</td>\n",
       "      <td>-78.844912</td>\n",
       "      <td>(42.890234013335, -78.844912024511)</td>\n",
       "      <td>FILLMORE</td>\n",
       "      <td>District C</td>\n",
       "      <td>15.0</td>\n",
       "      <td>2</td>\n",
       "      <td>2000</td>\n",
       "      <td>24.060547</td>\n",
       "      <td>66</td>\n",
       "      <td>0</td>\n",
       "      <td>0</td>\n",
       "      <td>0</td>\n",
       "      <td>0</td>\n",
       "      <td>0</td>\n",
       "      <td>7</td>\n",
       "      <td>0</td>\n",
       "      <td>0</td>\n",
       "      <td>0</td>\n",
       "      <td>0</td>\n",
       "      <td>0</td>\n",
       "      <td>0</td>\n",
       "    </tr>\n",
       "    <tr>\n",
       "      <th>178517</th>\n",
       "      <td>x2172797</td>\n",
       "      <td>2018-10-18</td>\n",
       "      <td>1252P</td>\n",
       "      <td>ALTERNATE PARKING</td>\n",
       "      <td>40.0</td>\n",
       "      <td>255.0</td>\n",
       "      <td>SHUMWAY</td>\n",
       "      <td>255 SHUMWAY</td>\n",
       "      <td>Buffalo</td>\n",
       "      <td>NY</td>\n",
       "      <td>42.890504</td>\n",
       "      <td>-78.844912</td>\n",
       "      <td>(42.890503659153, -78.844912326263)</td>\n",
       "      <td>FILLMORE</td>\n",
       "      <td>District C</td>\n",
       "      <td>15.0</td>\n",
       "      <td>2</td>\n",
       "      <td>2000</td>\n",
       "      <td>24.060547</td>\n",
       "      <td>66</td>\n",
       "      <td>0</td>\n",
       "      <td>0</td>\n",
       "      <td>0</td>\n",
       "      <td>0</td>\n",
       "      <td>0</td>\n",
       "      <td>7</td>\n",
       "      <td>0</td>\n",
       "      <td>0</td>\n",
       "      <td>0</td>\n",
       "      <td>0</td>\n",
       "      <td>0</td>\n",
       "      <td>0</td>\n",
       "    </tr>\n",
       "  </tbody>\n",
       "</table>\n",
       "<p>178518 rows × 32 columns</p>\n",
       "</div>"
      ],
      "text/plain": [
       "       SUMMONS NUMBER  ... RESOLUTION_CLOSE FILE REWRITE\n",
       "0            32055761  ...                             0\n",
       "1            H2205740  ...                             0\n",
       "2            72095850  ...                             0\n",
       "3            A9645156  ...                             0\n",
       "4            A9781763  ...                             0\n",
       "...               ...  ...                           ...\n",
       "178513       X2204389  ...                             0\n",
       "178514       X2208482  ...                             0\n",
       "178515       X2208889  ...                             0\n",
       "178516       X2208890  ...                             0\n",
       "178517       x2172797  ...                             0\n",
       "\n",
       "[178518 rows x 32 columns]"
      ]
     },
     "execution_count": 172,
     "metadata": {
      "tags": []
     },
     "output_type": "execute_result"
    }
   ],
   "source": [
    "df_merged_parking"
   ]
  },
  {
   "cell_type": "code",
   "execution_count": 0,
   "metadata": {
    "colab": {
     "base_uri": "https://localhost:8080/",
     "height": 153
    },
    "colab_type": "code",
    "collapsed": false,
    "id": "_AGvxhdxTJO0",
    "outputId": "82abb0f0-bdda-4a2f-c78b-0fa577cc267d"
   },
   "outputs": [
    {
     "name": "stdout",
     "output_type": "stream",
     "text": [
      "  SUMMONS NUMBER  ... VEHICLE PARKED ON UNPAVED PORTION OR\n",
      "0       32055761  ...                                    0\n",
      "1       H2205740  ...                                    0\n",
      "2       72095850  ...                                    0\n",
      "3       A9645156  ...                                    0\n",
      "4       A9781763  ...                                    0\n",
      "\n",
      "[5 rows x 69 columns]\n"
     ]
    }
   ],
   "source": [
    "df_merged_parking = pd.concat([df_merged_parking, df_merged_parking_temp2], axis=1)\n",
    "\n",
    "print(df_merged_parking.head())"
   ]
  },
  {
   "cell_type": "code",
   "execution_count": 0,
   "metadata": {
    "colab": {
     "base_uri": "https://localhost:8080/",
     "height": 1000
    },
    "colab_type": "code",
    "collapsed": false,
    "id": "CRECywvOQAfj",
    "outputId": "48ebb619-a721-4f35-c5e7-2336f3d24501"
   },
   "outputs": [
    {
     "name": "stdout",
     "output_type": "stream",
     "text": [
      "'SUMMONS NUMBER',\n",
      "'SUMMONS DATE',\n",
      "'VIOLATION TIME',\n",
      "'VIOLATION DESCRIPTION',\n",
      "'ORIGINAL FINE',\n",
      "'VIOLATION ADDRESS NUMBER',\n",
      "'VIOLATION STREET',\n",
      "'VIOLATION FULL ADDRESS',\n",
      "'CITY',\n",
      "'STATE',\n",
      "'LATITUDE',\n",
      "'LONGITUDE',\n",
      "'LOCATION',\n",
      "'COUNCIL DISTRICT',\n",
      "'POLICE DISTRICT',\n",
      "'CENSUS TRACT',\n",
      "'CENSUS BLOCK GROUP',\n",
      "'CENSUS BLOCK',\n",
      "'Price/sqft',\n",
      "'Rank',\n",
      "'RESOLUTION_IN COMPLIANCE',\n",
      "'RESOLUTION_PROPERTY DEMOLISHED',\n",
      "'RESOLUTION_REFERRED TO DEMOLITION',\n",
      "'RESOLUTION_REFERRED TO DISTRICT',\n",
      "'RESOLUTION_UNCONDITIONAL DISCHARGE',\n",
      "'RESOLUTION_DISMISSED',\n",
      "'RESOLUTION_DEFENDANT JAILED PER JUDGE',\n",
      "'RESOLUTION_DEFENDANT FINED',\n",
      "'RESOLUTION_CONDITIONAL DISCHARGE',\n",
      "'RESOLUTION_CITY OF BUFFALO FORECLOSURE',\n",
      "'RESOLUTION_CITY OF BUFFALO OWNED',\n",
      "'RESOLUTION_CLOSE FILE REWRITE',\n",
      "'ALTERNATE PARKING',\n",
      "'BLOCKED DRIVEWAY (ALL)',\n",
      "'BUS RT. NO PARKING 1:30 TO 7:00 AM 11/15-4/1',\n",
      "'DOUBLE PARKING',\n",
      "'EXPIRED INSPECTION STICKER (ALL)',\n",
      "'EXPIRED REGISTRATION STICKER',\n",
      "'LESS THAN 20 FT FROM CROSSWALK',\n",
      "'LOADING ZONE',\n",
      "'METER OVERTIME',\n",
      "'METHOD OF PARKING(ALL)',\n",
      "'NO INSPECTIONS STICKER (ALL)',\n",
      "'NO PARK COMMERICAL TRCK ON RESIDENTIAL',\n",
      "'NO PARKING',\n",
      "'NO PARKING OF HOUSE TRAILERS (ALL)',\n",
      "'NO REGISTRATION STICKER (ALL)',\n",
      "'NO REPAIRS IN STREET EXCEPT EMERGENCY',\n",
      "'NO STANDING',\n",
      "'NO STOPPING (ALL)',\n",
      "'NO VIOLATION',\n",
      "'ONE LICENSE PLATE MISSING (ALL)',\n",
      "'PARKED BEYOND POSTED TIME LIMIT',\n",
      "'PARKED IN HANDICAPPED AREA',\n",
      "'PARKED LESS THAN 15 FT - FIRE HYDRANT',\n",
      "'PARKED MORE THAN 12\"FROM CURB',\n",
      "'PARKED MORE THAN 72 HRS. SAME SPOT',\n",
      "'PARKED ON SIDEWALK (ALL)',\n",
      "'PARKED OVER 18 FT FOR MORE THAN ONE',\n",
      "'PARKING IN WRONG DIRECTION (ALL)',\n",
      "'PARKING ON DIVIDED HWYS PROHIBITED',\n",
      "'PARKING PROHIBITED IN CONSTRUCTION SITES',\n",
      "'PARKING VIOLATION',\n",
      "'PARKING WITHOUT CONSENT (ALL)',\n",
      "'PERSISTEN VIOLATORS AND SCOFFLAWS',\n",
      "'SWITCHED PLATES (ALL)',\n",
      "'UNKNOWN VIOLATION',\n",
      "'VEHICLE BLOCKING HANDICAP CURB CUT',\n",
      "'VEHICLE PARKED ON UNPAVED PORTION OR',\n"
     ]
    }
   ],
   "source": [
    "for col in df_merged_parking_final:\n",
    "  print(\"'\" + col + \"'\" + ',')"
   ]
  },
  {
   "cell_type": "code",
   "execution_count": 0,
   "metadata": {
    "colab": {},
    "colab_type": "code",
    "collapsed": true,
    "id": "puakh7BiHbS2"
   },
   "outputs": [],
   "source": [
    "X=df_merged_parking[['ALTERNATE PARKING', 'BLOCKED DRIVEWAY (ALL)',\n",
    "       'BUS RT. NO PARKING 1:30 TO 7:00 AM 11/15-4/1', 'DOUBLE PARKING',\n",
    "       'EXPIRED INSPECTION STICKER (ALL)', 'EXPIRED REGISTRATION STICKER',\n",
    "       'LESS THAN 20 FT FROM CROSSWALK', 'LOADING ZONE', 'METER OVERTIME',\n",
    "       'METHOD OF PARKING(ALL)', 'NO INSPECTIONS STICKER (ALL)',\n",
    "       'NO PARK COMMERICAL TRCK ON RESIDENTIAL', 'NO PARKING',\n",
    "       'NO PARKING OF HOUSE TRAILERS (ALL)', 'NO REGISTRATION STICKER (ALL)',\n",
    "       'NO REPAIRS IN STREET EXCEPT EMERGENCY', 'NO STANDING',\n",
    "       'NO STOPPING (ALL)', 'NO VIOLATION', 'ONE LICENSE PLATE MISSING (ALL)',\n",
    "       'PARKED BEYOND POSTED TIME LIMIT', 'PARKED IN HANDICAPPED AREA',\n",
    "       'PARKED LESS THAN 15 FT - FIRE HYDRANT',\n",
    "       'PARKED MORE THAN 12\"FROM CURB', 'PARKED MORE THAN 72 HRS. SAME SPOT',\n",
    "       'PARKED ON SIDEWALK (ALL)', 'PARKED OVER 18 FT FOR MORE THAN ONE',\n",
    "       'PARKING IN WRONG DIRECTION (ALL)',\n",
    "       'PARKING ON DIVIDED HWYS PROHIBITED',\n",
    "       'PARKING PROHIBITED IN CONSTRUCTION SITES', 'PARKING VIOLATION',\n",
    "       'PARKING WITHOUT CONSENT (ALL)', 'PERSISTEN VIOLATORS AND SCOFFLAWS',\n",
    "       'SWITCHED PLATES (ALL)', 'UNKNOWN VIOLATION',\n",
    "       'VEHICLE BLOCKING HANDICAP CURB CUT',\n",
    "       'VEHICLE PARKED ON UNPAVED PORTION OR','RESOLUTION_IN COMPLIANCE','RESOLUTION_PROPERTY DEMOLISHED','RESOLUTION_REFERRED TO DEMOLITION','RESOLUTION_REFERRED TO DISTRICT','RESOLUTION_UNCONDITIONAL DISCHARGE','RESOLUTION_DEFENDANT JAILED PER JUDGE','RESOLUTION_DEFENDANT FINED','RESOLUTION_CONDITIONAL DISCHARGE','RESOLUTION_CITY OF BUFFALO FORECLOSURE','RESOLUTION_CITY OF BUFFALO OWNED','RESOLUTION_CLOSE FILE REWRITE']]"
   ]
  },
  {
   "cell_type": "code",
   "execution_count": 0,
   "metadata": {
    "colab": {},
    "colab_type": "code",
    "collapsed": true,
    "id": "79J12JygHc5g"
   },
   "outputs": [],
   "source": [
    "y=df_merged_parking['Rank']\n"
   ]
  },
  {
   "cell_type": "code",
   "execution_count": 0,
   "metadata": {
    "colab": {},
    "colab_type": "code",
    "collapsed": true,
    "id": "qzh-lLDQHehu"
   },
   "outputs": [],
   "source": [
    "from sklearn.model_selection import train_test_split\n",
    "X_train,X_test,y_train,y_test = train_test_split(X,y,test_size=0.3)"
   ]
  },
  {
   "cell_type": "code",
   "execution_count": 0,
   "metadata": {
    "colab": {},
    "colab_type": "code",
    "collapsed": true,
    "id": "2xBCDp3YHhDN"
   },
   "outputs": [],
   "source": [
    "from sklearn.ensemble import RandomForestRegressor"
   ]
  },
  {
   "cell_type": "code",
   "execution_count": 0,
   "metadata": {
    "colab": {},
    "colab_type": "code",
    "collapsed": true,
    "id": "z5C1R2v9HjKL"
   },
   "outputs": [],
   "source": [
    "rfc = RandomForestRegressor(n_estimators=600)"
   ]
  },
  {
   "cell_type": "code",
   "execution_count": 0,
   "metadata": {
    "colab": {
     "base_uri": "https://localhost:8080/",
     "height": 136
    },
    "colab_type": "code",
    "collapsed": false,
    "id": "loEDr3zKHkyP",
    "outputId": "c5593eab-6f71-440d-b916-cd80bd720aa9"
   },
   "outputs": [
    {
     "data": {
      "text/plain": [
       "RandomForestRegressor(bootstrap=True, ccp_alpha=0.0, criterion='mse',\n",
       "                      max_depth=None, max_features='auto', max_leaf_nodes=None,\n",
       "                      max_samples=None, min_impurity_decrease=0.0,\n",
       "                      min_impurity_split=None, min_samples_leaf=1,\n",
       "                      min_samples_split=2, min_weight_fraction_leaf=0.0,\n",
       "                      n_estimators=600, n_jobs=None, oob_score=False,\n",
       "                      random_state=None, verbose=0, warm_start=False)"
      ]
     },
     "execution_count": 244,
     "metadata": {
      "tags": []
     },
     "output_type": "execute_result"
    }
   ],
   "source": [
    "rfc.fit(X_train,y_train)"
   ]
  },
  {
   "cell_type": "code",
   "execution_count": 0,
   "metadata": {
    "colab": {},
    "colab_type": "code",
    "collapsed": true,
    "id": "VGYT3n6gHmnA"
   },
   "outputs": [],
   "source": [
    "y_pred = rfc.predict(X_test)"
   ]
  },
  {
   "cell_type": "code",
   "execution_count": 0,
   "metadata": {
    "colab": {
     "base_uri": "https://localhost:8080/",
     "height": 68
    },
    "colab_type": "code",
    "collapsed": false,
    "id": "jK9aYdCIIQEF",
    "outputId": "1a086646-57ab-4e48-ef7f-0d23fc58fb3b"
   },
   "outputs": [
    {
     "name": "stdout",
     "output_type": "stream",
     "text": [
      "Mean Absolute Error: 14.404602047615668\n",
      "Mean Squared Error: 327.02138588710824\n",
      "Root Mean Squared Error: 18.083732631487013\n"
     ]
    }
   ],
   "source": [
    "from sklearn import metrics\n",
    "print('Mean Absolute Error:', metrics.mean_absolute_error(y_test, y_pred))\n",
    "print('Mean Squared Error:', metrics.mean_squared_error(y_test, y_pred))\n",
    "print('Root Mean Squared Error:', np.sqrt(metrics.mean_squared_error(y_test, y_pred)))"
   ]
  },
  {
   "cell_type": "code",
   "execution_count": 0,
   "metadata": {
    "colab": {
     "base_uri": "https://localhost:8080/",
     "height": 359
    },
    "colab_type": "code",
    "collapsed": false,
    "id": "u8XfEp9CNEm9",
    "outputId": "1c22b2af-5445-4ab3-a04d-f51aa172c91d"
   },
   "outputs": [
    {
     "data": {
      "text/html": [
       "<div>\n",
       "<style scoped>\n",
       "    .dataframe tbody tr th:only-of-type {\n",
       "        vertical-align: middle;\n",
       "    }\n",
       "\n",
       "    .dataframe tbody tr th {\n",
       "        vertical-align: top;\n",
       "    }\n",
       "\n",
       "    .dataframe thead th {\n",
       "        text-align: right;\n",
       "    }\n",
       "</style>\n",
       "<table border=\"1\" class=\"dataframe\">\n",
       "  <thead>\n",
       "    <tr style=\"text-align: right;\">\n",
       "      <th></th>\n",
       "      <th>Actual</th>\n",
       "      <th>Predicted</th>\n",
       "    </tr>\n",
       "  </thead>\n",
       "  <tbody>\n",
       "    <tr>\n",
       "      <th>70852</th>\n",
       "      <td>20</td>\n",
       "      <td>30.848281</td>\n",
       "    </tr>\n",
       "    <tr>\n",
       "      <th>99070</th>\n",
       "      <td>21</td>\n",
       "      <td>37.053758</td>\n",
       "    </tr>\n",
       "    <tr>\n",
       "      <th>105853</th>\n",
       "      <td>50</td>\n",
       "      <td>30.848281</td>\n",
       "    </tr>\n",
       "    <tr>\n",
       "      <th>84656</th>\n",
       "      <td>5</td>\n",
       "      <td>30.848281</td>\n",
       "    </tr>\n",
       "    <tr>\n",
       "      <th>111174</th>\n",
       "      <td>44</td>\n",
       "      <td>30.848281</td>\n",
       "    </tr>\n",
       "    <tr>\n",
       "      <th>67118</th>\n",
       "      <td>20</td>\n",
       "      <td>30.848281</td>\n",
       "    </tr>\n",
       "    <tr>\n",
       "      <th>72823</th>\n",
       "      <td>20</td>\n",
       "      <td>30.848281</td>\n",
       "    </tr>\n",
       "    <tr>\n",
       "      <th>132390</th>\n",
       "      <td>34</td>\n",
       "      <td>30.848281</td>\n",
       "    </tr>\n",
       "    <tr>\n",
       "      <th>140425</th>\n",
       "      <td>14</td>\n",
       "      <td>37.053758</td>\n",
       "    </tr>\n",
       "    <tr>\n",
       "      <th>8378</th>\n",
       "      <td>7</td>\n",
       "      <td>15.960545</td>\n",
       "    </tr>\n",
       "  </tbody>\n",
       "</table>\n",
       "</div>"
      ],
      "text/plain": [
       "        Actual  Predicted\n",
       "70852       20  30.848281\n",
       "99070       21  37.053758\n",
       "105853      50  30.848281\n",
       "84656        5  30.848281\n",
       "111174      44  30.848281\n",
       "67118       20  30.848281\n",
       "72823       20  30.848281\n",
       "132390      34  30.848281\n",
       "140425      14  37.053758\n",
       "8378         7  15.960545"
      ]
     },
     "execution_count": 247,
     "metadata": {
      "tags": []
     },
     "output_type": "execute_result"
    }
   ],
   "source": [
    "df=pd.DataFrame({'Actual':y_test, 'Predicted':y_pred})\n",
    "df.head(10)"
   ]
  },
  {
   "cell_type": "code",
   "execution_count": 0,
   "metadata": {
    "colab": {
     "base_uri": "https://localhost:8080/",
     "height": 359
    },
    "colab_type": "code",
    "collapsed": false,
    "id": "7ToTGrIdb0GJ",
    "outputId": "a8b16c3a-9c21-4c20-fd56-b83d67dfa88f"
   },
   "outputs": [
    {
     "data": {
      "text/html": [
       "<div>\n",
       "<style scoped>\n",
       "    .dataframe tbody tr th:only-of-type {\n",
       "        vertical-align: middle;\n",
       "    }\n",
       "\n",
       "    .dataframe tbody tr th {\n",
       "        vertical-align: top;\n",
       "    }\n",
       "\n",
       "    .dataframe thead th {\n",
       "        text-align: right;\n",
       "    }\n",
       "</style>\n",
       "<table border=\"1\" class=\"dataframe\">\n",
       "  <thead>\n",
       "    <tr style=\"text-align: right;\">\n",
       "      <th></th>\n",
       "      <th>0</th>\n",
       "    </tr>\n",
       "  </thead>\n",
       "  <tbody>\n",
       "    <tr>\n",
       "      <th>METHOD OF PARKING(ALL)</th>\n",
       "      <td>0.004560</td>\n",
       "    </tr>\n",
       "    <tr>\n",
       "      <th>PARKED ON SIDEWALK (ALL)</th>\n",
       "      <td>0.007973</td>\n",
       "    </tr>\n",
       "    <tr>\n",
       "      <th>VEHICLE PARKED ON UNPAVED PORTION OR</th>\n",
       "      <td>0.008156</td>\n",
       "    </tr>\n",
       "    <tr>\n",
       "      <th>EXPIRED INSPECTION STICKER (ALL)</th>\n",
       "      <td>0.009448</td>\n",
       "    </tr>\n",
       "    <tr>\n",
       "      <th>NO PARKING</th>\n",
       "      <td>0.019527</td>\n",
       "    </tr>\n",
       "    <tr>\n",
       "      <th>NO STANDING</th>\n",
       "      <td>0.020077</td>\n",
       "    </tr>\n",
       "    <tr>\n",
       "      <th>RESOLUTION_CONDITIONAL DISCHARGE</th>\n",
       "      <td>0.047683</td>\n",
       "    </tr>\n",
       "    <tr>\n",
       "      <th>METER OVERTIME</th>\n",
       "      <td>0.069115</td>\n",
       "    </tr>\n",
       "    <tr>\n",
       "      <th>ALTERNATE PARKING</th>\n",
       "      <td>0.240371</td>\n",
       "    </tr>\n",
       "    <tr>\n",
       "      <th>RESOLUTION_DEFENDANT FINED</th>\n",
       "      <td>0.548468</td>\n",
       "    </tr>\n",
       "  </tbody>\n",
       "</table>\n",
       "</div>"
      ],
      "text/plain": [
       "                                             0\n",
       "METHOD OF PARKING(ALL)                0.004560\n",
       "PARKED ON SIDEWALK (ALL)              0.007973\n",
       "VEHICLE PARKED ON UNPAVED PORTION OR  0.008156\n",
       "EXPIRED INSPECTION STICKER (ALL)      0.009448\n",
       "NO PARKING                            0.019527\n",
       "NO STANDING                           0.020077\n",
       "RESOLUTION_CONDITIONAL DISCHARGE      0.047683\n",
       "METER OVERTIME                        0.069115\n",
       "ALTERNATE PARKING                     0.240371\n",
       "RESOLUTION_DEFENDANT FINED            0.548468"
      ]
     },
     "execution_count": 248,
     "metadata": {
      "tags": []
     },
     "output_type": "execute_result"
    }
   ],
   "source": [
    "pd.DataFrame(rfc.feature_importances_, X_train.columns).sort_values(by=0).tail(10)"
   ]
  },
  {
   "cell_type": "code",
   "execution_count": 0,
   "metadata": {
    "colab": {
     "base_uri": "https://localhost:8080/",
     "height": 71
    },
    "colab_type": "code",
    "collapsed": false,
    "id": "X-tbL66fNH_Q",
    "outputId": "bd5c1ac2-630e-4437-d2d6-dea11fa4df9c"
   },
   "outputs": [
    {
     "name": "stderr",
     "output_type": "stream",
     "text": [
      "/usr/local/lib/python3.6/dist-packages/IPython/core/interactiveshell.py:2718: DtypeWarning: Columns (21,23) have mixed types.Specify dtype option on import or set low_memory=False.\n",
      "  interactivity=interactivity, compiler=compiler, result=result)\n"
     ]
    }
   ],
   "source": [
    "df_codeviolations=pd.read_csv('/content/drive/My Drive/Gentrification/Code_Violations.csv')"
   ]
  },
  {
   "cell_type": "code",
   "execution_count": 0,
   "metadata": {
    "colab": {
     "base_uri": "https://localhost:8080/",
     "height": 34
    },
    "colab_type": "code",
    "collapsed": false,
    "id": "FMO7AquNZ0by",
    "outputId": "e13a6e85-1a7c-413b-bc91-1fa8d8fbc678"
   },
   "outputs": [
    {
     "data": {
      "text/plain": [
       "1045"
      ]
     },
     "execution_count": 294,
     "metadata": {
      "tags": []
     },
     "output_type": "execute_result"
    }
   ],
   "source": [
    "df_codeviolations['CENSUS TRACT'].isnull().sum()"
   ]
  },
  {
   "cell_type": "code",
   "execution_count": 0,
   "metadata": {
    "colab": {
     "base_uri": "https://localhost:8080/",
     "height": 238
    },
    "colab_type": "code",
    "collapsed": false,
    "id": "4li0iyVBRxeH",
    "outputId": "0caf0b70-d490-4b3d-a68e-c58732f4cbdb"
   },
   "outputs": [
    {
     "data": {
      "text/plain": [
       "CENSUS TRACT  CODE SECTION                    \n",
       "1.1           Automatic Fire Sprinkler Systems     1\n",
       "              Buffalo Ordinace                     3\n",
       "              Buffalo Ordinance                   55\n",
       "              Carbon Monoxide Detection            5\n",
       "              Component Serviceability             2\n",
       "                                                  ..\n",
       "9             Property Maintenance                45\n",
       "              Residential                          3\n",
       "              Rubbish and Garbage                 10\n",
       "              V7MIGRATION                          1\n",
       "UNKNOWN       Buffalo Ordinance                    1\n",
       "Name: CASE NUMBER, Length: 4305, dtype: int64"
      ]
     },
     "execution_count": 295,
     "metadata": {
      "tags": []
     },
     "output_type": "execute_result"
    }
   ],
   "source": [
    "df_codeviolations.groupby(['CENSUS TRACT','CODE SECTION'])['CASE NUMBER'].count()"
   ]
  },
  {
   "cell_type": "code",
   "execution_count": 0,
   "metadata": {
    "colab": {
     "base_uri": "https://localhost:8080/",
     "height": 221
    },
    "colab_type": "code",
    "collapsed": false,
    "id": "Z4IcE_XnqP87",
    "outputId": "70057632-a08f-4607-e952-89218b86f70a"
   },
   "outputs": [
    {
     "data": {
      "text/plain": [
       "Exterior Structure                 27582\n",
       "Property Maintenance               13828\n",
       "Buffalo Ordinance                  11655\n",
       "Exterior Property Areas            10023\n",
       "Rubbish and Garbage                 6519\n",
       "                                   ...  \n",
       "Temporary Uses                         1\n",
       "Unsafe Structures and Equioment        1\n",
       "Accessibility                          1\n",
       "Toilet, Bath and Shower Spaces         1\n",
       "Liquefied petroleum gases              1\n",
       "Name: CODE SECTION, Length: 132, dtype: int64"
      ]
     },
     "execution_count": 296,
     "metadata": {
      "tags": []
     },
     "output_type": "execute_result"
    }
   ],
   "source": [
    "df_codeviolations['CODE SECTION'].value_counts()"
   ]
  },
  {
   "cell_type": "code",
   "execution_count": 0,
   "metadata": {
    "colab": {},
    "colab_type": "code",
    "collapsed": true,
    "id": "T2keGiXKqUrP"
   },
   "outputs": [],
   "source": [
    "df_codeviolations_new = pd.get_dummies(df_codeviolations,columns=['CODE SECTION'])"
   ]
  },
  {
   "cell_type": "code",
   "execution_count": 0,
   "metadata": {
    "colab": {},
    "colab_type": "code",
    "collapsed": true,
    "id": "VC1LgxR3q0B3"
   },
   "outputs": [],
   "source": [
    "df_codeviolations_new.drop(df_codeviolations_new[df_codeviolations_new['CENSUS TRACT'].isnull()].index,inplace=True)"
   ]
  },
  {
   "cell_type": "code",
   "execution_count": 0,
   "metadata": {
    "colab": {},
    "colab_type": "code",
    "collapsed": true,
    "id": "gwi7CPzWrFYR"
   },
   "outputs": [],
   "source": [
    "df_codeviolations_new['DATE'] = df_codeviolations_new['DATE'].apply(lambda x: x.split(' A')[0])"
   ]
  },
  {
   "cell_type": "code",
   "execution_count": 0,
   "metadata": {
    "colab": {},
    "colab_type": "code",
    "collapsed": true,
    "id": "oVl-6k9FrOkI"
   },
   "outputs": [],
   "source": [
    "df_codeviolations_new['DATE'] = pd.to_datetime(df_codeviolations_new['DATE'])"
   ]
  },
  {
   "cell_type": "code",
   "execution_count": 0,
   "metadata": {
    "colab": {},
    "colab_type": "code",
    "collapsed": true,
    "id": "1cIkeh2DrXAs"
   },
   "outputs": [],
   "source": [
    "df_codeviolations_new = df_codeviolations_new[df_codeviolations_new['DATE'].dt.year == 2018]\n"
   ]
  },
  {
   "cell_type": "code",
   "execution_count": 0,
   "metadata": {
    "colab": {},
    "colab_type": "code",
    "collapsed": true,
    "id": "2r4VrZMj-LtH"
   },
   "outputs": [],
   "source": [
    "\n",
    "#df_codeviolations_new.iloc[:,23:]=df_codeviolations_new.iloc[:,23:].replace(0,np.NaN)"
   ]
  },
  {
   "cell_type": "code",
   "execution_count": 0,
   "metadata": {
    "colab": {},
    "colab_type": "code",
    "collapsed": true,
    "id": "6zWh4bvN-R5L"
   },
   "outputs": [],
   "source": [
    "#df_codeviolations_new.iloc[:,23:]"
   ]
  },
  {
   "cell_type": "code",
   "execution_count": 0,
   "metadata": {
    "colab": {},
    "colab_type": "code",
    "collapsed": true,
    "id": "2xZOhabtrexn"
   },
   "outputs": [],
   "source": [
    "df_count_codeviolations = df_codeviolations_new.groupby('CENSUS TRACT').count()"
   ]
  },
  {
   "cell_type": "code",
   "execution_count": 0,
   "metadata": {
    "colab": {},
    "colab_type": "code",
    "collapsed": true,
    "id": "dTCDfMh4rskY"
   },
   "outputs": [],
   "source": [
    "df_count_codeviolations['CENSUS TRACT']=df_count_codeviolations.index"
   ]
  },
  {
   "cell_type": "code",
   "execution_count": 0,
   "metadata": {
    "colab": {
     "base_uri": "https://localhost:8080/",
     "height": 1000
    },
    "colab_type": "code",
    "collapsed": false,
    "id": "0Ci4omFOuDbM",
    "outputId": "af2aa089-c0cf-418e-aa28-a5aab77a618f"
   },
   "outputs": [
    {
     "name": "stdout",
     "output_type": "stream",
     "text": [
      "'UNIQUEKEY',\n",
      "'DATE',\n",
      "'CASE NUMBER',\n",
      "'CASE TYPE',\n",
      "'STATUS',\n",
      "'PROPCLASS',\n",
      "'ADDRESS',\n",
      "'CITY',\n",
      "'STATE',\n",
      "'ZIP',\n",
      "'CODE',\n",
      "'DESCRIPTION',\n",
      "'COMMENTS',\n",
      "'VIOLATION LOCATION',\n",
      "'INSPECTOR',\n",
      "'LOCATION',\n",
      "'LATITUDE',\n",
      "'LONGITUDE',\n",
      "'COUNCIL DISTRICT',\n",
      "'POLICE DISTRICT',\n",
      "'CENSUS BLOCK GROUP',\n",
      "'CENSUS BLOCK',\n",
      "'NEIGHBORHOOD',\n",
      "'CODE SECTION_Access by occupant',\n",
      "'CODE SECTION_Access to Building Openings and Roofs',\n",
      "'CODE SECTION_Accessibility',\n",
      "'CODE SECTION_Accessory Uses',\n",
      "'CODE SECTION_Administration',\n",
      "'CODE SECTION_Applicability',\n",
      "'CODE SECTION_Art.3 Neighborhood Zones',\n",
      "'CODE SECTION_Art.6 Uses',\n",
      "'CODE SECTION_Art.7 Site Development',\n",
      "'CODE SECTION_Artical 6 Uses',\n",
      "'CODE SECTION_Artical 9 Signs',\n",
      "'CODE SECTION_Article 7 Site Development',\n",
      "'CODE SECTION_Article 7 site development',\n",
      "'CODE SECTION_Article 9 Signs',\n",
      "'CODE SECTION_Automatic Fire Sprinkler Systems',\n",
      "'CODE SECTION_BUFFALO',\n",
      "'CODE SECTION_Buffalo Ordinace',\n",
      "'CODE SECTION_Buffalo Ordinance',\n",
      "'CODE SECTION_Build Services & Systems',\n",
      "'CODE SECTION_Building Planning',\n",
      "'CODE SECTION_Buisness License',\n",
      "'CODE SECTION_Business License',\n",
      "'CODE SECTION_Carbon Monoxide Detection',\n",
      "'CODE SECTION_Carbon monoxide detection',\n",
      "'CODE SECTION_Certificate of occupancy',\n",
      "'CODE SECTION_Chimneys and Vents',\n",
      "'CODE SECTION_Combustible wast material',\n",
      "'CODE SECTION_Commercial & Recreational Vehicles',\n",
      "'CODE SECTION_Component Serviceability',\n",
      "'CODE SECTION_Curb Cuts and Driveways',\n",
      "'CODE SECTION_Design Criteria',\n",
      "'CODE SECTION_Detached House',\n",
      "'CODE SECTION_Drain Pipe Materials and Sizes',\n",
      "'CODE SECTION_Duct Systems',\n",
      "'CODE SECTION_Duties and Powers of the Code Official',\n",
      "'CODE SECTION_EQUIP / APPLIANCE LOCATION',\n",
      "'CODE SECTION_EXISTING BUILDING CODE',\n",
      "'CODE SECTION_EXISTING R OCCUPANCIES',\n",
      "'CODE SECTION_Electical Facilities',\n",
      "'CODE SECTION_Electrical Equipment',\n",
      "'CODE SECTION_Electrical Facilities',\n",
      "'CODE SECTION_Elevators, Escalators and Dumbwaiters',\n",
      "'CODE SECTION_Emergency Measures',\n",
      "'CODE SECTION_Emergency power for illumination',\n",
      "'CODE SECTION_Existing non-required equipment and systems',\n",
      "'CODE SECTION_Exterior Property Areas',\n",
      "'CODE SECTION_Exterior Structure',\n",
      "'CODE SECTION_FIRE CODE',\n",
      "'CODE SECTION_Fences and Walls',\n",
      "'CODE SECTION_Fire Code',\n",
      "'CODE SECTION_Fire Protection Systems',\n",
      "'CODE SECTION_Fire Protection and Safety',\n",
      "'CODE SECTION_Fire and Smoke Protection',\n",
      "'CODE SECTION_Fire-Resistance Ratings',\n",
      "'CODE SECTION_Fire-Resistant Construction',\n",
      "'CODE SECTION_Foundations',\n",
      "'CODE SECTION_GENERAL FIRE SAFETY REQ.',\n",
      "'CODE SECTION_Gen. Regs. (Condensate)',\n",
      "'CODE SECTION_Gen. Regs. (Equip/Appli. locations)',\n",
      "'CODE SECTION_Gen. Regs. (Repair)',\n",
      "'CODE SECTION_General',\n",
      "'CODE SECTION_General (Interior)',\n",
      "'CODE SECTION_General Regulations',\n",
      "'CODE SECTION_General Requirements',\n",
      "'CODE SECTION_General requirements',\n",
      "'CODE SECTION_Glazing',\n",
      "'CODE SECTION_Guards and Window Fall Protection',\n",
      "'CODE SECTION_Handrails',\n",
      "'CODE SECTION_Handrails and Guardrails',\n",
      "'CODE SECTION_Heating Facilities',\n",
      "'CODE SECTION_Interior Structure',\n",
      "'CODE SECTION_LANDSCAPE',\n",
      "'CODE SECTION_Light',\n",
      "'CODE SECTION_Light, Ventilation and Heating',\n",
      "'CODE SECTION_Liquefied Petroleum Gases',\n",
      "'CODE SECTION_Liquefied petroleum gases',\n",
      "'CODE SECTION_Means of Egress',\n",
      "'CODE SECTION_Means of Egress Illumination',\n",
      "'CODE SECTION_Means of egress',\n",
      "'CODE SECTION_Mechanical Equipment',\n",
      "'CODE SECTION_Occupancy Limitations',\n",
      "'CODE SECTION_Open Burning',\n",
      "'CODE SECTION_Open Flames',\n",
      "'CODE SECTION_PLUMBING CODE',\n",
      "'CODE SECTION_Parking Lots',\n",
      "'CODE SECTION_Pedestrain Walkways and tunnels',\n",
      "'CODE SECTION_Pest Elimination',\n",
      "'CODE SECTION_Plumbing Facilities and Fixture Requirements',\n",
      "'CODE SECTION_Plumbing Systems and Fixtures',\n",
      "'CODE SECTION_Projection of Pedestrians',\n",
      "'CODE SECTION_Property Maint Supplement',\n",
      "'CODE SECTION_Property Maintenance',\n",
      "'CODE SECTION_Real Property Actions & Proceedings',\n",
      "'CODE SECTION_Required Facilities',\n",
      "'CODE SECTION_Residential',\n",
      "'CODE SECTION_Roof Assemblies',\n",
      "'CODE SECTION_Roof recover',\n",
      "'CODE SECTION_Rubbish and Garbage',\n",
      "'CODE SECTION_Safeguards during const.',\n",
      "'CODE SECTION_Sanitary Drainage System',\n",
      "'CODE SECTION_Sanitation',\n",
      "'CODE SECTION_Scope and Application',\n",
      "'CODE SECTION_Shop-Front House',\n",
      "'CODE SECTION_Site Development',\n",
      "'CODE SECTION_Site Devlopment',\n",
      "'CODE SECTION_Site Impacts',\n",
      "'CODE SECTION_Site Landscape',\n",
      "'CODE SECTION_Smoke Partitions',\n",
      "'CODE SECTION_Stairways',\n",
      "'CODE SECTION_Storm Drainage',\n",
      "'CODE SECTION_Stpo Work Order',\n",
      "'CODE SECTION_Structural Design',\n",
      "'CODE SECTION_Supplement',\n",
      "'CODE SECTION_Supplement 2017',\n",
      "'CODE SECTION_Swimming Pools, Spas and Hot Tubs',\n",
      "'CODE SECTION_Swimming pools spas and hot tubs',\n",
      "'CODE SECTION_Swimming pools, spas and hot tubs',\n",
      "'CODE SECTION_Temporary Uses',\n",
      "'CODE SECTION_The Building Code',\n",
      "'CODE SECTION_Time and access',\n",
      "'CODE SECTION_Toilet Rooms',\n",
      "'CODE SECTION_Toilet, Bath and Shower Spaces',\n",
      "'CODE SECTION_Unsafe Structures and Equioment',\n",
      "'CODE SECTION_Unsafe Structures and Equipment',\n",
      "'CODE SECTION_Unsafe structures and equipment',\n",
      "'CODE SECTION_Unvented room heaters',\n",
      "'CODE SECTION_Uses',\n",
      "'CODE SECTION_V7MIGRATION',\n",
      "'CODE SECTION_Ventilation',\n",
      "'CODE SECTION_Venting of appliances',\n",
      "'CODE SECTION_Water Heaters',\n",
      "'CODE SECTION_Water Systems',\n",
      "'CENSUS TRACT',\n"
     ]
    }
   ],
   "source": [
    "for col in df_count_codeviolations:\n",
    "  print(\"'\" + col + \"'\" + ',')"
   ]
  },
  {
   "cell_type": "code",
   "execution_count": 0,
   "metadata": {
    "colab": {},
    "colab_type": "code",
    "collapsed": true,
    "id": "VLN2CBhVsp1p"
   },
   "outputs": [],
   "source": [
    "df_codeviolations =df_count_codeviolations[['CODE SECTION_Access by occupant',\n",
    "'CODE SECTION_Access to Building Openings and Roofs',\n",
    "'CODE SECTION_Accessibility',\n",
    "'CODE SECTION_Accessory Uses',\n",
    "'CODE SECTION_Administration',\n",
    "'CODE SECTION_Applicability',\n",
    "'CODE SECTION_Art.3 Neighborhood Zones',\n",
    "'CODE SECTION_Art.6 Uses',\n",
    "'CODE SECTION_Art.7 Site Development',\n",
    "'CODE SECTION_Artical 6 Uses',\n",
    "'CODE SECTION_Artical 9 Signs',\n",
    "'CODE SECTION_Article 7 Site Development',\n",
    "'CODE SECTION_Article 7 site development',\n",
    "'CODE SECTION_Article 9 Signs',\n",
    "'CODE SECTION_Automatic Fire Sprinkler Systems',\n",
    "'CODE SECTION_BUFFALO',\n",
    "'CODE SECTION_Buffalo Ordinace',\n",
    "'CODE SECTION_Buffalo Ordinance',\n",
    "'CODE SECTION_Build Services & Systems',\n",
    "'CODE SECTION_Building Planning',\n",
    "'CODE SECTION_Buisness License',\n",
    "'CODE SECTION_Business License',\n",
    "'CODE SECTION_Carbon Monoxide Detection',\n",
    "'CODE SECTION_Carbon monoxide detection',\n",
    "'CODE SECTION_Certificate of occupancy',\n",
    "'CODE SECTION_Chimneys and Vents',\n",
    "'CODE SECTION_Combustible wast material',\n",
    "'CODE SECTION_Commercial & Recreational Vehicles',\n",
    "'CODE SECTION_Component Serviceability',\n",
    "'CODE SECTION_Curb Cuts and Driveways',\n",
    "'CODE SECTION_Design Criteria',\n",
    "'CODE SECTION_Detached House',\n",
    "'CODE SECTION_Drain Pipe Materials and Sizes',\n",
    "'CODE SECTION_Duct Systems',\n",
    "'CODE SECTION_Duties and Powers of the Code Official',\n",
    "'CODE SECTION_EQUIP / APPLIANCE LOCATION',\n",
    "'CODE SECTION_EXISTING BUILDING CODE',\n",
    "'CODE SECTION_EXISTING R OCCUPANCIES',\n",
    "'CODE SECTION_Electical Facilities',\n",
    "'CODE SECTION_Electrical Equipment',\n",
    "'CODE SECTION_Electrical Facilities',\n",
    "'CODE SECTION_Elevators, Escalators and Dumbwaiters',\n",
    "'CODE SECTION_Emergency Measures',\n",
    "'CODE SECTION_Emergency power for illumination',\n",
    "'CODE SECTION_Existing non-required equipment and systems',\n",
    "'CODE SECTION_Exterior Property Areas',\n",
    "'CODE SECTION_Exterior Structure',\n",
    "'CODE SECTION_FIRE CODE',\n",
    "'CODE SECTION_Fences and Walls',\n",
    "'CODE SECTION_Fire Code',\n",
    "'CODE SECTION_Fire Protection Systems',\n",
    "'CODE SECTION_Fire Protection and Safety',\n",
    "'CODE SECTION_Fire and Smoke Protection',\n",
    "'CODE SECTION_Fire-Resistance Ratings',\n",
    "'CODE SECTION_Fire-Resistant Construction',\n",
    "'CODE SECTION_Foundations',\n",
    "'CODE SECTION_GENERAL FIRE SAFETY REQ.',\n",
    "'CODE SECTION_Gen. Regs. (Condensate)',\n",
    "'CODE SECTION_Gen. Regs. (Equip/Appli. locations)',\n",
    "'CODE SECTION_Gen. Regs. (Repair)',\n",
    "'CODE SECTION_General',\n",
    "'CODE SECTION_General (Interior)',\n",
    "'CODE SECTION_General Regulations',\n",
    "'CODE SECTION_General Requirements',\n",
    "'CODE SECTION_General requirements',\n",
    "'CODE SECTION_Glazing',\n",
    "'CODE SECTION_Guards and Window Fall Protection',\n",
    "'CODE SECTION_Handrails',\n",
    "'CODE SECTION_Handrails and Guardrails',\n",
    "'CODE SECTION_Heating Facilities',\n",
    "'CODE SECTION_Interior Structure',\n",
    "'CODE SECTION_LANDSCAPE',\n",
    "'CODE SECTION_Light',\n",
    "'CODE SECTION_Light, Ventilation and Heating',\n",
    "'CODE SECTION_Liquefied Petroleum Gases',\n",
    "'CODE SECTION_Liquefied petroleum gases',\n",
    "'CODE SECTION_Means of Egress',\n",
    "'CODE SECTION_Means of Egress Illumination',\n",
    "'CODE SECTION_Means of egress',\n",
    "'CODE SECTION_Mechanical Equipment',\n",
    "'CODE SECTION_Occupancy Limitations',\n",
    "'CODE SECTION_Open Burning',\n",
    "'CODE SECTION_Open Flames',\n",
    "'CODE SECTION_PLUMBING CODE',\n",
    "'CODE SECTION_Parking Lots',\n",
    "'CODE SECTION_Pedestrain Walkways and tunnels',\n",
    "'CODE SECTION_Pest Elimination',\n",
    "'CODE SECTION_Plumbing Facilities and Fixture Requirements',\n",
    "'CODE SECTION_Plumbing Systems and Fixtures',\n",
    "'CODE SECTION_Projection of Pedestrians',\n",
    "'CODE SECTION_Property Maint Supplement',\n",
    "'CODE SECTION_Property Maintenance',\n",
    "'CODE SECTION_Real Property Actions & Proceedings',\n",
    "'CODE SECTION_Required Facilities',\n",
    "'CODE SECTION_Residential',\n",
    "'CODE SECTION_Roof Assemblies',\n",
    "'CODE SECTION_Roof recover',\n",
    "'CODE SECTION_Rubbish and Garbage',\n",
    "'CODE SECTION_Safeguards during const.',\n",
    "'CODE SECTION_Sanitary Drainage System',\n",
    "'CODE SECTION_Sanitation',\n",
    "'CODE SECTION_Scope and Application',\n",
    "'CODE SECTION_Shop-Front House',\n",
    "'CODE SECTION_Site Development',\n",
    "'CODE SECTION_Site Devlopment',\n",
    "'CODE SECTION_Site Impacts',\n",
    "'CODE SECTION_Site Landscape',\n",
    "'CODE SECTION_Smoke Partitions',\n",
    "'CODE SECTION_Stairways',\n",
    "'CODE SECTION_Storm Drainage',\n",
    "'CODE SECTION_Stpo Work Order',\n",
    "'CODE SECTION_Structural Design',\n",
    "'CODE SECTION_Supplement',\n",
    "'CODE SECTION_Supplement 2017',\n",
    "'CODE SECTION_Swimming Pools, Spas and Hot Tubs',\n",
    "'CODE SECTION_Swimming pools spas and hot tubs',\n",
    "'CODE SECTION_Swimming pools, spas and hot tubs',\n",
    "'CODE SECTION_Temporary Uses',\n",
    "'CODE SECTION_The Building Code',\n",
    "'CODE SECTION_Time and access',\n",
    "'CODE SECTION_Toilet Rooms',\n",
    "'CODE SECTION_Toilet, Bath and Shower Spaces',\n",
    "'CODE SECTION_Unsafe Structures and Equioment',\n",
    "'CODE SECTION_Unsafe Structures and Equipment',\n",
    "'CODE SECTION_Unsafe structures and equipment',\n",
    "'CODE SECTION_Unvented room heaters',\n",
    "'CODE SECTION_Uses',\n",
    "'CODE SECTION_V7MIGRATION',\n",
    "'CODE SECTION_Ventilation',\n",
    "'CODE SECTION_Venting of appliances',\n",
    "'CODE SECTION_Water Heaters',\n",
    "'CODE SECTION_Water Systems',\n",
    "]]"
   ]
  },
  {
   "cell_type": "code",
   "execution_count": 0,
   "metadata": {
    "colab": {},
    "colab_type": "code",
    "collapsed": true,
    "id": "A0n9zTDSuQUz"
   },
   "outputs": [],
   "source": [
    "df_codeviolations.reset_index(level=0,inplace=True)"
   ]
  },
  {
   "cell_type": "code",
   "execution_count": 0,
   "metadata": {
    "colab": {},
    "colab_type": "code",
    "collapsed": true,
    "id": "GxstN-95w91O"
   },
   "outputs": [],
   "source": [
    "df_merged_parking_code = df_parking.merge(df_rank,left_on = 'CENSUS TRACT',right_on='CENSUS TRACT',how='inner')"
   ]
  },
  {
   "cell_type": "code",
   "execution_count": 0,
   "metadata": {
    "colab": {
     "base_uri": "https://localhost:8080/",
     "height": 119
    },
    "colab_type": "code",
    "collapsed": false,
    "id": "7UGO0kYP0SxO",
    "outputId": "e541e6fb-435d-4882-d39f-20231f5fbdc4"
   },
   "outputs": [
    {
     "name": "stderr",
     "output_type": "stream",
     "text": [
      "/usr/local/lib/python3.6/dist-packages/ipykernel_launcher.py:1: SettingWithCopyWarning: \n",
      "A value is trying to be set on a copy of a slice from a DataFrame.\n",
      "Try using .loc[row_indexer,col_indexer] = value instead\n",
      "\n",
      "See the caveats in the documentation: https://pandas.pydata.org/pandas-docs/stable/user_guide/indexing.html#returning-a-view-versus-a-copy\n",
      "  \"\"\"Entry point for launching an IPython kernel.\n"
     ]
    }
   ],
   "source": [
    "df_codeviolations['CENSUS TRACT']=df_codeviolations['CENSUS TRACT'].astype(str).astype(float)"
   ]
  },
  {
   "cell_type": "code",
   "execution_count": 0,
   "metadata": {
    "colab": {
     "base_uri": "https://localhost:8080/",
     "height": 34
    },
    "colab_type": "code",
    "collapsed": false,
    "id": "19n6CZZE0EUZ",
    "outputId": "6fdcd258-1013-4d4b-b273-598a508fe3a2"
   },
   "outputs": [
    {
     "data": {
      "text/plain": [
       "dtype('float64')"
      ]
     },
     "execution_count": 311,
     "metadata": {
      "tags": []
     },
     "output_type": "execute_result"
    }
   ],
   "source": [
    "df_merged_parking_code['CENSUS TRACT'].dtype"
   ]
  },
  {
   "cell_type": "code",
   "execution_count": 0,
   "metadata": {
    "colab": {
     "base_uri": "https://localhost:8080/",
     "height": 34
    },
    "colab_type": "code",
    "collapsed": false,
    "id": "883S6LrjzWy2",
    "outputId": "43de0a7b-98f1-4407-fb89-ee8a9b29293e"
   },
   "outputs": [
    {
     "data": {
      "text/plain": [
       "dtype('float64')"
      ]
     },
     "execution_count": 312,
     "metadata": {
      "tags": []
     },
     "output_type": "execute_result"
    }
   ],
   "source": [
    "df_codeviolations['CENSUS TRACT'].dtype"
   ]
  },
  {
   "cell_type": "code",
   "execution_count": 0,
   "metadata": {
    "colab": {},
    "colab_type": "code",
    "collapsed": true,
    "id": "x2tbtsu_yRhZ"
   },
   "outputs": [],
   "source": [
    "df_merged_parking_code = df_merged_parking.merge(df_codeviolations,left_on = 'CENSUS TRACT',right_on='CENSUS TRACT',how='inner')"
   ]
  },
  {
   "cell_type": "code",
   "execution_count": 0,
   "metadata": {
    "colab": {
     "base_uri": "https://localhost:8080/",
     "height": 221
    },
    "colab_type": "code",
    "collapsed": false,
    "id": "YFgXpsK8HC5I",
    "outputId": "2c2ad5d8-ed07-4303-ad13-bfd5a5f13567"
   },
   "outputs": [
    {
     "data": {
      "text/plain": [
       "Index(['SUMMONS NUMBER', 'SUMMONS DATE', 'VIOLATION TIME',\n",
       "       'VIOLATION DESCRIPTION', 'ORIGINAL FINE', 'VIOLATION ADDRESS NUMBER',\n",
       "       'VIOLATION STREET', 'VIOLATION FULL ADDRESS', 'CITY', 'STATE',\n",
       "       ...\n",
       "       'CODE SECTION_Unsafe Structures and Equioment',\n",
       "       'CODE SECTION_Unsafe Structures and Equipment',\n",
       "       'CODE SECTION_Unsafe structures and equipment',\n",
       "       'CODE SECTION_Unvented room heaters', 'CODE SECTION_Uses',\n",
       "       'CODE SECTION_V7MIGRATION', 'CODE SECTION_Ventilation',\n",
       "       'CODE SECTION_Venting of appliances', 'CODE SECTION_Water Heaters',\n",
       "       'CODE SECTION_Water Systems'],\n",
       "      dtype='object', length=201)"
      ]
     },
     "execution_count": 314,
     "metadata": {
      "tags": []
     },
     "output_type": "execute_result"
    }
   ],
   "source": [
    "df_merged_parking_code.columns"
   ]
  },
  {
   "cell_type": "code",
   "execution_count": 0,
   "metadata": {
    "colab": {
     "base_uri": "https://localhost:8080/",
     "height": 34
    },
    "colab_type": "code",
    "collapsed": false,
    "id": "Mp9PeaKCrJ3a",
    "outputId": "2893aedb-4b81-4b19-9ec6-c9ee3e95f3dc"
   },
   "outputs": [
    {
     "data": {
      "text/plain": [
       "355348"
      ]
     },
     "execution_count": 315,
     "metadata": {
      "tags": []
     },
     "output_type": "execute_result"
    }
   ],
   "source": [
    "len(df_merged_parking_code)"
   ]
  },
  {
   "cell_type": "code",
   "execution_count": 0,
   "metadata": {
    "colab": {
     "base_uri": "https://localhost:8080/",
     "height": 1000
    },
    "colab_type": "code",
    "collapsed": false,
    "id": "C_RClNF73dTD",
    "outputId": "19ce2924-9ccc-4dd3-dd32-53c85a72bbd2"
   },
   "outputs": [
    {
     "name": "stdout",
     "output_type": "stream",
     "text": [
      "'SUMMONS NUMBER',\n",
      "'SUMMONS DATE',\n",
      "'VIOLATION TIME',\n",
      "'VIOLATION DESCRIPTION',\n",
      "'ORIGINAL FINE',\n",
      "'VIOLATION ADDRESS NUMBER',\n",
      "'VIOLATION STREET',\n",
      "'VIOLATION FULL ADDRESS',\n",
      "'CITY',\n",
      "'STATE',\n",
      "'LATITUDE',\n",
      "'LONGITUDE',\n",
      "'LOCATION',\n",
      "'COUNCIL DISTRICT',\n",
      "'POLICE DISTRICT',\n",
      "'CENSUS TRACT',\n",
      "'CENSUS BLOCK GROUP',\n",
      "'CENSUS BLOCK',\n",
      "'Price/sqft',\n",
      "'Rank',\n",
      "'RESOLUTION_IN COMPLIANCE',\n",
      "'RESOLUTION_PROPERTY DEMOLISHED',\n",
      "'RESOLUTION_REFERRED TO DEMOLITION',\n",
      "'RESOLUTION_REFERRED TO DISTRICT',\n",
      "'RESOLUTION_UNCONDITIONAL DISCHARGE',\n",
      "'RESOLUTION_DISMISSED',\n",
      "'RESOLUTION_DEFENDANT JAILED PER JUDGE',\n",
      "'RESOLUTION_DEFENDANT FINED',\n",
      "'RESOLUTION_CONDITIONAL DISCHARGE',\n",
      "'RESOLUTION_CITY OF BUFFALO FORECLOSURE',\n",
      "'RESOLUTION_CITY OF BUFFALO OWNED',\n",
      "'RESOLUTION_CLOSE FILE REWRITE',\n",
      "'ALTERNATE PARKING',\n",
      "'BLOCKED DRIVEWAY (ALL)',\n",
      "'BUS RT. NO PARKING 1:30 TO 7:00 AM 11/15-4/1',\n",
      "'DOUBLE PARKING',\n",
      "'EXPIRED INSPECTION STICKER (ALL)',\n",
      "'EXPIRED REGISTRATION STICKER',\n",
      "'LESS THAN 20 FT FROM CROSSWALK',\n",
      "'LOADING ZONE',\n",
      "'METER OVERTIME',\n",
      "'METHOD OF PARKING(ALL)',\n",
      "'NO INSPECTIONS STICKER (ALL)',\n",
      "'NO PARK COMMERICAL TRCK ON RESIDENTIAL',\n",
      "'NO PARKING',\n",
      "'NO PARKING OF HOUSE TRAILERS (ALL)',\n",
      "'NO REGISTRATION STICKER (ALL)',\n",
      "'NO REPAIRS IN STREET EXCEPT EMERGENCY',\n",
      "'NO STANDING',\n",
      "'NO STOPPING (ALL)',\n",
      "'NO VIOLATION',\n",
      "'ONE LICENSE PLATE MISSING (ALL)',\n",
      "'PARKED BEYOND POSTED TIME LIMIT',\n",
      "'PARKED IN HANDICAPPED AREA',\n",
      "'PARKED LESS THAN 15 FT - FIRE HYDRANT',\n",
      "'PARKED MORE THAN 12\"FROM CURB',\n",
      "'PARKED MORE THAN 72 HRS. SAME SPOT',\n",
      "'PARKED ON SIDEWALK (ALL)',\n",
      "'PARKED OVER 18 FT FOR MORE THAN ONE',\n",
      "'PARKING IN WRONG DIRECTION (ALL)',\n",
      "'PARKING ON DIVIDED HWYS PROHIBITED',\n",
      "'PARKING PROHIBITED IN CONSTRUCTION SITES',\n",
      "'PARKING VIOLATION',\n",
      "'PARKING WITHOUT CONSENT (ALL)',\n",
      "'PERSISTEN VIOLATORS AND SCOFFLAWS',\n",
      "'SWITCHED PLATES (ALL)',\n",
      "'UNKNOWN VIOLATION',\n",
      "'VEHICLE BLOCKING HANDICAP CURB CUT',\n",
      "'VEHICLE PARKED ON UNPAVED PORTION OR',\n",
      "'CODE SECTION_Access by occupant',\n",
      "'CODE SECTION_Access to Building Openings and Roofs',\n",
      "'CODE SECTION_Accessibility',\n",
      "'CODE SECTION_Accessory Uses',\n",
      "'CODE SECTION_Administration',\n",
      "'CODE SECTION_Applicability',\n",
      "'CODE SECTION_Art.3 Neighborhood Zones',\n",
      "'CODE SECTION_Art.6 Uses',\n",
      "'CODE SECTION_Art.7 Site Development',\n",
      "'CODE SECTION_Artical 6 Uses',\n",
      "'CODE SECTION_Artical 9 Signs',\n",
      "'CODE SECTION_Article 7 Site Development',\n",
      "'CODE SECTION_Article 7 site development',\n",
      "'CODE SECTION_Article 9 Signs',\n",
      "'CODE SECTION_Automatic Fire Sprinkler Systems',\n",
      "'CODE SECTION_BUFFALO',\n",
      "'CODE SECTION_Buffalo Ordinace',\n",
      "'CODE SECTION_Buffalo Ordinance',\n",
      "'CODE SECTION_Build Services & Systems',\n",
      "'CODE SECTION_Building Planning',\n",
      "'CODE SECTION_Buisness License',\n",
      "'CODE SECTION_Business License',\n",
      "'CODE SECTION_Carbon Monoxide Detection',\n",
      "'CODE SECTION_Carbon monoxide detection',\n",
      "'CODE SECTION_Certificate of occupancy',\n",
      "'CODE SECTION_Chimneys and Vents',\n",
      "'CODE SECTION_Combustible wast material',\n",
      "'CODE SECTION_Commercial & Recreational Vehicles',\n",
      "'CODE SECTION_Component Serviceability',\n",
      "'CODE SECTION_Curb Cuts and Driveways',\n",
      "'CODE SECTION_Design Criteria',\n",
      "'CODE SECTION_Detached House',\n",
      "'CODE SECTION_Drain Pipe Materials and Sizes',\n",
      "'CODE SECTION_Duct Systems',\n",
      "'CODE SECTION_Duties and Powers of the Code Official',\n",
      "'CODE SECTION_EQUIP / APPLIANCE LOCATION',\n",
      "'CODE SECTION_EXISTING BUILDING CODE',\n",
      "'CODE SECTION_EXISTING R OCCUPANCIES',\n",
      "'CODE SECTION_Electical Facilities',\n",
      "'CODE SECTION_Electrical Equipment',\n",
      "'CODE SECTION_Electrical Facilities',\n",
      "'CODE SECTION_Elevators, Escalators and Dumbwaiters',\n",
      "'CODE SECTION_Emergency Measures',\n",
      "'CODE SECTION_Emergency power for illumination',\n",
      "'CODE SECTION_Existing non-required equipment and systems',\n",
      "'CODE SECTION_Exterior Property Areas',\n",
      "'CODE SECTION_Exterior Structure',\n",
      "'CODE SECTION_FIRE CODE',\n",
      "'CODE SECTION_Fences and Walls',\n",
      "'CODE SECTION_Fire Code',\n",
      "'CODE SECTION_Fire Protection Systems',\n",
      "'CODE SECTION_Fire Protection and Safety',\n",
      "'CODE SECTION_Fire and Smoke Protection',\n",
      "'CODE SECTION_Fire-Resistance Ratings',\n",
      "'CODE SECTION_Fire-Resistant Construction',\n",
      "'CODE SECTION_Foundations',\n",
      "'CODE SECTION_GENERAL FIRE SAFETY REQ.',\n",
      "'CODE SECTION_Gen. Regs. (Condensate)',\n",
      "'CODE SECTION_Gen. Regs. (Equip/Appli. locations)',\n",
      "'CODE SECTION_Gen. Regs. (Repair)',\n",
      "'CODE SECTION_General',\n",
      "'CODE SECTION_General (Interior)',\n",
      "'CODE SECTION_General Regulations',\n",
      "'CODE SECTION_General Requirements',\n",
      "'CODE SECTION_General requirements',\n",
      "'CODE SECTION_Glazing',\n",
      "'CODE SECTION_Guards and Window Fall Protection',\n",
      "'CODE SECTION_Handrails',\n",
      "'CODE SECTION_Handrails and Guardrails',\n",
      "'CODE SECTION_Heating Facilities',\n",
      "'CODE SECTION_Interior Structure',\n",
      "'CODE SECTION_LANDSCAPE',\n",
      "'CODE SECTION_Light',\n",
      "'CODE SECTION_Light, Ventilation and Heating',\n",
      "'CODE SECTION_Liquefied Petroleum Gases',\n",
      "'CODE SECTION_Liquefied petroleum gases',\n",
      "'CODE SECTION_Means of Egress',\n",
      "'CODE SECTION_Means of Egress Illumination',\n",
      "'CODE SECTION_Means of egress',\n",
      "'CODE SECTION_Mechanical Equipment',\n",
      "'CODE SECTION_Occupancy Limitations',\n",
      "'CODE SECTION_Open Burning',\n",
      "'CODE SECTION_Open Flames',\n",
      "'CODE SECTION_PLUMBING CODE',\n",
      "'CODE SECTION_Parking Lots',\n",
      "'CODE SECTION_Pedestrain Walkways and tunnels',\n",
      "'CODE SECTION_Pest Elimination',\n",
      "'CODE SECTION_Plumbing Facilities and Fixture Requirements',\n",
      "'CODE SECTION_Plumbing Systems and Fixtures',\n",
      "'CODE SECTION_Projection of Pedestrians',\n",
      "'CODE SECTION_Property Maint Supplement',\n",
      "'CODE SECTION_Property Maintenance',\n",
      "'CODE SECTION_Real Property Actions & Proceedings',\n",
      "'CODE SECTION_Required Facilities',\n",
      "'CODE SECTION_Residential',\n",
      "'CODE SECTION_Roof Assemblies',\n",
      "'CODE SECTION_Roof recover',\n",
      "'CODE SECTION_Rubbish and Garbage',\n",
      "'CODE SECTION_Safeguards during const.',\n",
      "'CODE SECTION_Sanitary Drainage System',\n",
      "'CODE SECTION_Sanitation',\n",
      "'CODE SECTION_Scope and Application',\n",
      "'CODE SECTION_Shop-Front House',\n",
      "'CODE SECTION_Site Development',\n",
      "'CODE SECTION_Site Devlopment',\n",
      "'CODE SECTION_Site Impacts',\n",
      "'CODE SECTION_Site Landscape',\n",
      "'CODE SECTION_Smoke Partitions',\n",
      "'CODE SECTION_Stairways',\n",
      "'CODE SECTION_Storm Drainage',\n",
      "'CODE SECTION_Stpo Work Order',\n",
      "'CODE SECTION_Structural Design',\n",
      "'CODE SECTION_Supplement',\n",
      "'CODE SECTION_Supplement 2017',\n",
      "'CODE SECTION_Swimming Pools, Spas and Hot Tubs',\n",
      "'CODE SECTION_Swimming pools spas and hot tubs',\n",
      "'CODE SECTION_Swimming pools, spas and hot tubs',\n",
      "'CODE SECTION_Temporary Uses',\n",
      "'CODE SECTION_The Building Code',\n",
      "'CODE SECTION_Time and access',\n",
      "'CODE SECTION_Toilet Rooms',\n",
      "'CODE SECTION_Toilet, Bath and Shower Spaces',\n",
      "'CODE SECTION_Unsafe Structures and Equioment',\n",
      "'CODE SECTION_Unsafe Structures and Equipment',\n",
      "'CODE SECTION_Unsafe structures and equipment',\n",
      "'CODE SECTION_Unvented room heaters',\n",
      "'CODE SECTION_Uses',\n",
      "'CODE SECTION_V7MIGRATION',\n",
      "'CODE SECTION_Ventilation',\n",
      "'CODE SECTION_Venting of appliances',\n",
      "'CODE SECTION_Water Heaters',\n",
      "'CODE SECTION_Water Systems',\n"
     ]
    }
   ],
   "source": [
    "for col in df_merged_parking_code:\n",
    "  print(\"'\" + col + \"'\" + ',')"
   ]
  },
  {
   "cell_type": "code",
   "execution_count": 0,
   "metadata": {
    "colab": {},
    "colab_type": "code",
    "collapsed": true,
    "id": "YQvgacBcHP54"
   },
   "outputs": [],
   "source": [
    "X1=df_merged_parking_code[['RESOLUTION_IN COMPLIANCE',\n",
    "'RESOLUTION_PROPERTY DEMOLISHED',\n",
    "'RESOLUTION_REFERRED TO DEMOLITION',\n",
    "'RESOLUTION_REFERRED TO DISTRICT',\n",
    "'RESOLUTION_UNCONDITIONAL DISCHARGE',\n",
    "\n",
    "'RESOLUTION_DEFENDANT JAILED PER JUDGE',\n",
    "'RESOLUTION_DEFENDANT FINED',\n",
    "'RESOLUTION_CONDITIONAL DISCHARGE',\n",
    "'RESOLUTION_CITY OF BUFFALO FORECLOSURE',\n",
    "'RESOLUTION_CITY OF BUFFALO OWNED',\n",
    "'RESOLUTION_CLOSE FILE REWRITE',\n",
    "'ALTERNATE PARKING',\n",
    "'BLOCKED DRIVEWAY (ALL)',\n",
    "'BUS RT. NO PARKING 1:30 TO 7:00 AM 11/15-4/1',\n",
    "'DOUBLE PARKING',\n",
    "'EXPIRED INSPECTION STICKER (ALL)',\n",
    "'EXPIRED REGISTRATION STICKER',\n",
    "'LESS THAN 20 FT FROM CROSSWALK',\n",
    "'LOADING ZONE',\n",
    "'METER OVERTIME',\n",
    "'METHOD OF PARKING(ALL)',\n",
    "'NO INSPECTIONS STICKER (ALL)',\n",
    "'NO PARK COMMERICAL TRCK ON RESIDENTIAL',\n",
    "'NO PARKING',\n",
    "'NO PARKING OF HOUSE TRAILERS (ALL)',\n",
    "'NO REGISTRATION STICKER (ALL)',\n",
    "'NO REPAIRS IN STREET EXCEPT EMERGENCY',\n",
    "'NO STANDING',\n",
    "'NO STOPPING (ALL)',\n",
    "'NO VIOLATION',\n",
    "'ONE LICENSE PLATE MISSING (ALL)',\n",
    "'PARKED BEYOND POSTED TIME LIMIT',\n",
    "'PARKED IN HANDICAPPED AREA',\n",
    "'PARKED LESS THAN 15 FT - FIRE HYDRANT',\n",
    "'PARKED MORE THAN 12\"FROM CURB',\n",
    "'PARKED MORE THAN 72 HRS. SAME SPOT',\n",
    "'PARKED ON SIDEWALK (ALL)',\n",
    "'PARKED OVER 18 FT FOR MORE THAN ONE',\n",
    "'PARKING IN WRONG DIRECTION (ALL)',\n",
    "'PARKING ON DIVIDED HWYS PROHIBITED',\n",
    "'PARKING PROHIBITED IN CONSTRUCTION SITES',\n",
    "'PARKING VIOLATION',\n",
    "'PARKING WITHOUT CONSENT (ALL)',\n",
    "'PERSISTEN VIOLATORS AND SCOFFLAWS',\n",
    "'SWITCHED PLATES (ALL)',\n",
    "'UNKNOWN VIOLATION',\n",
    "'VEHICLE BLOCKING HANDICAP CURB CUT',\n",
    "'VEHICLE PARKED ON UNPAVED PORTION OR',\n",
    "'CODE SECTION_Access by occupant',\n",
    "'CODE SECTION_Access to Building Openings and Roofs',\n",
    "'CODE SECTION_Accessibility',\n",
    "'CODE SECTION_Accessory Uses',\n",
    "'CODE SECTION_Administration',\n",
    "'CODE SECTION_Applicability',\n",
    "'CODE SECTION_Art.3 Neighborhood Zones',\n",
    "'CODE SECTION_Art.6 Uses',\n",
    "'CODE SECTION_Art.7 Site Development',\n",
    "'CODE SECTION_Artical 6 Uses',\n",
    "'CODE SECTION_Artical 9 Signs',\n",
    "'CODE SECTION_Article 7 Site Development',\n",
    "'CODE SECTION_Article 7 site development',\n",
    "'CODE SECTION_Article 9 Signs',\n",
    "'CODE SECTION_Automatic Fire Sprinkler Systems',\n",
    "'CODE SECTION_BUFFALO',\n",
    "'CODE SECTION_Buffalo Ordinace',\n",
    "'CODE SECTION_Buffalo Ordinance',\n",
    "'CODE SECTION_Build Services & Systems',\n",
    "'CODE SECTION_Building Planning',\n",
    "'CODE SECTION_Buisness License',\n",
    "'CODE SECTION_Business License',\n",
    "'CODE SECTION_Carbon Monoxide Detection',\n",
    "'CODE SECTION_Carbon monoxide detection',\n",
    "'CODE SECTION_Certificate of occupancy',\n",
    "'CODE SECTION_Chimneys and Vents',\n",
    "'CODE SECTION_Combustible wast material',\n",
    "'CODE SECTION_Commercial & Recreational Vehicles',\n",
    "'CODE SECTION_Component Serviceability',\n",
    "'CODE SECTION_Curb Cuts and Driveways',\n",
    "'CODE SECTION_Design Criteria',\n",
    "'CODE SECTION_Detached House',\n",
    "'CODE SECTION_Drain Pipe Materials and Sizes',\n",
    "'CODE SECTION_Duct Systems',\n",
    "'CODE SECTION_Duties and Powers of the Code Official',\n",
    "'CODE SECTION_EQUIP / APPLIANCE LOCATION',\n",
    "'CODE SECTION_EXISTING BUILDING CODE',\n",
    "'CODE SECTION_EXISTING R OCCUPANCIES',\n",
    "'CODE SECTION_Electical Facilities',\n",
    "'CODE SECTION_Electrical Equipment',\n",
    "'CODE SECTION_Electrical Facilities',\n",
    "'CODE SECTION_Elevators, Escalators and Dumbwaiters',\n",
    "'CODE SECTION_Emergency Measures',\n",
    "'CODE SECTION_Emergency power for illumination',\n",
    "'CODE SECTION_Existing non-required equipment and systems',\n",
    "'CODE SECTION_Exterior Property Areas',\n",
    "'CODE SECTION_Exterior Structure',\n",
    "'CODE SECTION_FIRE CODE',\n",
    "'CODE SECTION_Fences and Walls',\n",
    "'CODE SECTION_Fire Code',\n",
    "'CODE SECTION_Fire Protection Systems',\n",
    "'CODE SECTION_Fire Protection and Safety',\n",
    "'CODE SECTION_Fire and Smoke Protection',\n",
    "'CODE SECTION_Fire-Resistance Ratings',\n",
    "'CODE SECTION_Fire-Resistant Construction',\n",
    "'CODE SECTION_Foundations',\n",
    "'CODE SECTION_GENERAL FIRE SAFETY REQ.',\n",
    "'CODE SECTION_Gen. Regs. (Condensate)',\n",
    "'CODE SECTION_Gen. Regs. (Equip/Appli. locations)',\n",
    "'CODE SECTION_Gen. Regs. (Repair)',\n",
    "'CODE SECTION_General',\n",
    "'CODE SECTION_General (Interior)',\n",
    "'CODE SECTION_General Regulations',\n",
    "'CODE SECTION_General Requirements',\n",
    "'CODE SECTION_General requirements',\n",
    "'CODE SECTION_Glazing',\n",
    "'CODE SECTION_Guards and Window Fall Protection',\n",
    "'CODE SECTION_Handrails',\n",
    "'CODE SECTION_Handrails and Guardrails',\n",
    "'CODE SECTION_Heating Facilities',\n",
    "'CODE SECTION_Interior Structure',\n",
    "'CODE SECTION_LANDSCAPE',\n",
    "'CODE SECTION_Light',\n",
    "'CODE SECTION_Light, Ventilation and Heating',\n",
    "'CODE SECTION_Liquefied Petroleum Gases',\n",
    "'CODE SECTION_Liquefied petroleum gases',\n",
    "'CODE SECTION_Means of Egress',\n",
    "'CODE SECTION_Means of Egress Illumination',\n",
    "'CODE SECTION_Means of egress',\n",
    "'CODE SECTION_Mechanical Equipment',\n",
    "'CODE SECTION_Occupancy Limitations',\n",
    "'CODE SECTION_Open Burning',\n",
    "'CODE SECTION_Open Flames',\n",
    "'CODE SECTION_PLUMBING CODE',\n",
    "'CODE SECTION_Parking Lots',\n",
    "'CODE SECTION_Pedestrain Walkways and tunnels',\n",
    "'CODE SECTION_Pest Elimination',\n",
    "'CODE SECTION_Plumbing Facilities and Fixture Requirements',\n",
    "'CODE SECTION_Plumbing Systems and Fixtures',\n",
    "'CODE SECTION_Projection of Pedestrians',\n",
    "'CODE SECTION_Property Maint Supplement',\n",
    "'CODE SECTION_Property Maintenance',\n",
    "'CODE SECTION_Real Property Actions & Proceedings',\n",
    "'CODE SECTION_Required Facilities',\n",
    "'CODE SECTION_Residential',\n",
    "'CODE SECTION_Roof Assemblies',\n",
    "'CODE SECTION_Roof recover',\n",
    "'CODE SECTION_Rubbish and Garbage',\n",
    "'CODE SECTION_Safeguards during const.',\n",
    "'CODE SECTION_Sanitary Drainage System',\n",
    "'CODE SECTION_Sanitation',\n",
    "'CODE SECTION_Scope and Application',\n",
    "'CODE SECTION_Shop-Front House',\n",
    "'CODE SECTION_Site Development',\n",
    "'CODE SECTION_Site Devlopment',\n",
    "'CODE SECTION_Site Impacts',\n",
    "'CODE SECTION_Site Landscape',\n",
    "'CODE SECTION_Smoke Partitions',\n",
    "'CODE SECTION_Stairways',\n",
    "'CODE SECTION_Storm Drainage',\n",
    "'CODE SECTION_Stpo Work Order',\n",
    "'CODE SECTION_Structural Design',\n",
    "'CODE SECTION_Supplement',\n",
    "'CODE SECTION_Supplement 2017',\n",
    "'CODE SECTION_Swimming Pools, Spas and Hot Tubs',\n",
    "'CODE SECTION_Swimming pools spas and hot tubs',\n",
    "'CODE SECTION_Swimming pools, spas and hot tubs',\n",
    "'CODE SECTION_Temporary Uses',\n",
    "'CODE SECTION_The Building Code',\n",
    "'CODE SECTION_Time and access',\n",
    "'CODE SECTION_Toilet Rooms',\n",
    "'CODE SECTION_Toilet, Bath and Shower Spaces',\n",
    "'CODE SECTION_Unsafe Structures and Equioment',\n",
    "'CODE SECTION_Unsafe Structures and Equipment',\n",
    "'CODE SECTION_Unsafe structures and equipment',\n",
    "'CODE SECTION_Unvented room heaters',\n",
    "'CODE SECTION_Uses',\n",
    "'CODE SECTION_V7MIGRATION',\n",
    "'CODE SECTION_Ventilation',\n",
    "'CODE SECTION_Venting of appliances',\n",
    "'CODE SECTION_Water Heaters',\n",
    "'CODE SECTION_Water Systems']]"
   ]
  },
  {
   "cell_type": "code",
   "execution_count": 0,
   "metadata": {
    "colab": {},
    "colab_type": "code",
    "collapsed": true,
    "id": "Sor5SpZZH7V-"
   },
   "outputs": [],
   "source": [
    "y1=df_merged_parking_code['Rank']"
   ]
  },
  {
   "cell_type": "code",
   "execution_count": 0,
   "metadata": {
    "colab": {},
    "colab_type": "code",
    "collapsed": true,
    "id": "UQCsYEPEIOnJ"
   },
   "outputs": [],
   "source": [
    "from sklearn.model_selection import train_test_split\n",
    "X1_train,X1_test,y1_train,y1_test = train_test_split(X1,y1,test_size=0.3)"
   ]
  },
  {
   "cell_type": "code",
   "execution_count": 0,
   "metadata": {
    "colab": {
     "base_uri": "https://localhost:8080/",
     "height": 541
    },
    "colab_type": "code",
    "collapsed": false,
    "id": "CSVSYqzBebWg",
    "outputId": "751de7e9-f243-452b-89e3-6614eae07416"
   },
   "outputs": [
    {
     "data": {
      "text/html": [
       "<div>\n",
       "<style scoped>\n",
       "    .dataframe tbody tr th:only-of-type {\n",
       "        vertical-align: middle;\n",
       "    }\n",
       "\n",
       "    .dataframe tbody tr th {\n",
       "        vertical-align: top;\n",
       "    }\n",
       "\n",
       "    .dataframe thead th {\n",
       "        text-align: right;\n",
       "    }\n",
       "</style>\n",
       "<table border=\"1\" class=\"dataframe\">\n",
       "  <thead>\n",
       "    <tr style=\"text-align: right;\">\n",
       "      <th></th>\n",
       "      <th>RESOLUTION_IN COMPLIANCE</th>\n",
       "      <th>RESOLUTION_PROPERTY DEMOLISHED</th>\n",
       "      <th>RESOLUTION_REFERRED TO DEMOLITION</th>\n",
       "      <th>RESOLUTION_REFERRED TO DISTRICT</th>\n",
       "      <th>RESOLUTION_UNCONDITIONAL DISCHARGE</th>\n",
       "      <th>RESOLUTION_DEFENDANT JAILED PER JUDGE</th>\n",
       "      <th>RESOLUTION_DEFENDANT FINED</th>\n",
       "      <th>RESOLUTION_CONDITIONAL DISCHARGE</th>\n",
       "      <th>RESOLUTION_CITY OF BUFFALO FORECLOSURE</th>\n",
       "      <th>RESOLUTION_CITY OF BUFFALO OWNED</th>\n",
       "      <th>RESOLUTION_CLOSE FILE REWRITE</th>\n",
       "      <th>ALTERNATE PARKING</th>\n",
       "      <th>BLOCKED DRIVEWAY (ALL)</th>\n",
       "      <th>BUS RT. NO PARKING 1:30 TO 7:00 AM 11/15-4/1</th>\n",
       "      <th>DOUBLE PARKING</th>\n",
       "      <th>EXPIRED INSPECTION STICKER (ALL)</th>\n",
       "      <th>EXPIRED REGISTRATION STICKER</th>\n",
       "      <th>LESS THAN 20 FT FROM CROSSWALK</th>\n",
       "      <th>LOADING ZONE</th>\n",
       "      <th>METER OVERTIME</th>\n",
       "      <th>METHOD OF PARKING(ALL)</th>\n",
       "      <th>NO INSPECTIONS STICKER (ALL)</th>\n",
       "      <th>NO PARK COMMERICAL TRCK ON RESIDENTIAL</th>\n",
       "      <th>NO PARKING</th>\n",
       "      <th>NO PARKING OF HOUSE TRAILERS (ALL)</th>\n",
       "      <th>NO REGISTRATION STICKER (ALL)</th>\n",
       "      <th>NO REPAIRS IN STREET EXCEPT EMERGENCY</th>\n",
       "      <th>NO STANDING</th>\n",
       "      <th>NO STOPPING (ALL)</th>\n",
       "      <th>NO VIOLATION</th>\n",
       "      <th>ONE LICENSE PLATE MISSING (ALL)</th>\n",
       "      <th>PARKED BEYOND POSTED TIME LIMIT</th>\n",
       "      <th>PARKED IN HANDICAPPED AREA</th>\n",
       "      <th>PARKED LESS THAN 15 FT - FIRE HYDRANT</th>\n",
       "      <th>PARKED MORE THAN 12\"FROM CURB</th>\n",
       "      <th>PARKED MORE THAN 72 HRS. SAME SPOT</th>\n",
       "      <th>PARKED ON SIDEWALK (ALL)</th>\n",
       "      <th>PARKED OVER 18 FT FOR MORE THAN ONE</th>\n",
       "      <th>PARKING IN WRONG DIRECTION (ALL)</th>\n",
       "      <th>PARKING ON DIVIDED HWYS PROHIBITED</th>\n",
       "      <th>...</th>\n",
       "      <th>CODE SECTION_Real Property Actions &amp; Proceedings</th>\n",
       "      <th>CODE SECTION_Required Facilities</th>\n",
       "      <th>CODE SECTION_Residential</th>\n",
       "      <th>CODE SECTION_Roof Assemblies</th>\n",
       "      <th>CODE SECTION_Roof recover</th>\n",
       "      <th>CODE SECTION_Rubbish and Garbage</th>\n",
       "      <th>CODE SECTION_Safeguards during const.</th>\n",
       "      <th>CODE SECTION_Sanitary Drainage System</th>\n",
       "      <th>CODE SECTION_Sanitation</th>\n",
       "      <th>CODE SECTION_Scope and Application</th>\n",
       "      <th>CODE SECTION_Shop-Front House</th>\n",
       "      <th>CODE SECTION_Site Development</th>\n",
       "      <th>CODE SECTION_Site Devlopment</th>\n",
       "      <th>CODE SECTION_Site Impacts</th>\n",
       "      <th>CODE SECTION_Site Landscape</th>\n",
       "      <th>CODE SECTION_Smoke Partitions</th>\n",
       "      <th>CODE SECTION_Stairways</th>\n",
       "      <th>CODE SECTION_Storm Drainage</th>\n",
       "      <th>CODE SECTION_Stpo Work Order</th>\n",
       "      <th>CODE SECTION_Structural Design</th>\n",
       "      <th>CODE SECTION_Supplement</th>\n",
       "      <th>CODE SECTION_Supplement 2017</th>\n",
       "      <th>CODE SECTION_Swimming Pools, Spas and Hot Tubs</th>\n",
       "      <th>CODE SECTION_Swimming pools spas and hot tubs</th>\n",
       "      <th>CODE SECTION_Swimming pools, spas and hot tubs</th>\n",
       "      <th>CODE SECTION_Temporary Uses</th>\n",
       "      <th>CODE SECTION_The Building Code</th>\n",
       "      <th>CODE SECTION_Time and access</th>\n",
       "      <th>CODE SECTION_Toilet Rooms</th>\n",
       "      <th>CODE SECTION_Toilet, Bath and Shower Spaces</th>\n",
       "      <th>CODE SECTION_Unsafe Structures and Equioment</th>\n",
       "      <th>CODE SECTION_Unsafe Structures and Equipment</th>\n",
       "      <th>CODE SECTION_Unsafe structures and equipment</th>\n",
       "      <th>CODE SECTION_Unvented room heaters</th>\n",
       "      <th>CODE SECTION_Uses</th>\n",
       "      <th>CODE SECTION_V7MIGRATION</th>\n",
       "      <th>CODE SECTION_Ventilation</th>\n",
       "      <th>CODE SECTION_Venting of appliances</th>\n",
       "      <th>CODE SECTION_Water Heaters</th>\n",
       "      <th>CODE SECTION_Water Systems</th>\n",
       "    </tr>\n",
       "  </thead>\n",
       "  <tbody>\n",
       "    <tr>\n",
       "      <th>0</th>\n",
       "      <td>0</td>\n",
       "      <td>0</td>\n",
       "      <td>0</td>\n",
       "      <td>0</td>\n",
       "      <td>0</td>\n",
       "      <td>0</td>\n",
       "      <td>0</td>\n",
       "      <td>0</td>\n",
       "      <td>0</td>\n",
       "      <td>0</td>\n",
       "      <td>0</td>\n",
       "      <td>1</td>\n",
       "      <td>0</td>\n",
       "      <td>0</td>\n",
       "      <td>0</td>\n",
       "      <td>0</td>\n",
       "      <td>0</td>\n",
       "      <td>0</td>\n",
       "      <td>0</td>\n",
       "      <td>0</td>\n",
       "      <td>0</td>\n",
       "      <td>0</td>\n",
       "      <td>0</td>\n",
       "      <td>0</td>\n",
       "      <td>0</td>\n",
       "      <td>0</td>\n",
       "      <td>0</td>\n",
       "      <td>0</td>\n",
       "      <td>0</td>\n",
       "      <td>0</td>\n",
       "      <td>0</td>\n",
       "      <td>0</td>\n",
       "      <td>0</td>\n",
       "      <td>0</td>\n",
       "      <td>0</td>\n",
       "      <td>0</td>\n",
       "      <td>0</td>\n",
       "      <td>0</td>\n",
       "      <td>0</td>\n",
       "      <td>0</td>\n",
       "      <td>...</td>\n",
       "      <td>45</td>\n",
       "      <td>45</td>\n",
       "      <td>45</td>\n",
       "      <td>45</td>\n",
       "      <td>45</td>\n",
       "      <td>45</td>\n",
       "      <td>45</td>\n",
       "      <td>45</td>\n",
       "      <td>45</td>\n",
       "      <td>45</td>\n",
       "      <td>45</td>\n",
       "      <td>45</td>\n",
       "      <td>45</td>\n",
       "      <td>45</td>\n",
       "      <td>45</td>\n",
       "      <td>45</td>\n",
       "      <td>45</td>\n",
       "      <td>45</td>\n",
       "      <td>45</td>\n",
       "      <td>45</td>\n",
       "      <td>45</td>\n",
       "      <td>45</td>\n",
       "      <td>45</td>\n",
       "      <td>45</td>\n",
       "      <td>45</td>\n",
       "      <td>45</td>\n",
       "      <td>45</td>\n",
       "      <td>45</td>\n",
       "      <td>45</td>\n",
       "      <td>45</td>\n",
       "      <td>45</td>\n",
       "      <td>45</td>\n",
       "      <td>45</td>\n",
       "      <td>45</td>\n",
       "      <td>45</td>\n",
       "      <td>45</td>\n",
       "      <td>45</td>\n",
       "      <td>45</td>\n",
       "      <td>45</td>\n",
       "      <td>45</td>\n",
       "    </tr>\n",
       "    <tr>\n",
       "      <th>1</th>\n",
       "      <td>0</td>\n",
       "      <td>0</td>\n",
       "      <td>0</td>\n",
       "      <td>0</td>\n",
       "      <td>0</td>\n",
       "      <td>0</td>\n",
       "      <td>0</td>\n",
       "      <td>0</td>\n",
       "      <td>0</td>\n",
       "      <td>0</td>\n",
       "      <td>0</td>\n",
       "      <td>1</td>\n",
       "      <td>0</td>\n",
       "      <td>0</td>\n",
       "      <td>0</td>\n",
       "      <td>0</td>\n",
       "      <td>0</td>\n",
       "      <td>0</td>\n",
       "      <td>0</td>\n",
       "      <td>0</td>\n",
       "      <td>0</td>\n",
       "      <td>0</td>\n",
       "      <td>0</td>\n",
       "      <td>0</td>\n",
       "      <td>0</td>\n",
       "      <td>0</td>\n",
       "      <td>0</td>\n",
       "      <td>0</td>\n",
       "      <td>0</td>\n",
       "      <td>0</td>\n",
       "      <td>0</td>\n",
       "      <td>0</td>\n",
       "      <td>0</td>\n",
       "      <td>0</td>\n",
       "      <td>0</td>\n",
       "      <td>0</td>\n",
       "      <td>0</td>\n",
       "      <td>0</td>\n",
       "      <td>0</td>\n",
       "      <td>0</td>\n",
       "      <td>...</td>\n",
       "      <td>2</td>\n",
       "      <td>2</td>\n",
       "      <td>2</td>\n",
       "      <td>2</td>\n",
       "      <td>2</td>\n",
       "      <td>2</td>\n",
       "      <td>2</td>\n",
       "      <td>2</td>\n",
       "      <td>2</td>\n",
       "      <td>2</td>\n",
       "      <td>2</td>\n",
       "      <td>2</td>\n",
       "      <td>2</td>\n",
       "      <td>2</td>\n",
       "      <td>2</td>\n",
       "      <td>2</td>\n",
       "      <td>2</td>\n",
       "      <td>2</td>\n",
       "      <td>2</td>\n",
       "      <td>2</td>\n",
       "      <td>2</td>\n",
       "      <td>2</td>\n",
       "      <td>2</td>\n",
       "      <td>2</td>\n",
       "      <td>2</td>\n",
       "      <td>2</td>\n",
       "      <td>2</td>\n",
       "      <td>2</td>\n",
       "      <td>2</td>\n",
       "      <td>2</td>\n",
       "      <td>2</td>\n",
       "      <td>2</td>\n",
       "      <td>2</td>\n",
       "      <td>2</td>\n",
       "      <td>2</td>\n",
       "      <td>2</td>\n",
       "      <td>2</td>\n",
       "      <td>2</td>\n",
       "      <td>2</td>\n",
       "      <td>2</td>\n",
       "    </tr>\n",
       "    <tr>\n",
       "      <th>2</th>\n",
       "      <td>0</td>\n",
       "      <td>0</td>\n",
       "      <td>0</td>\n",
       "      <td>0</td>\n",
       "      <td>0</td>\n",
       "      <td>0</td>\n",
       "      <td>0</td>\n",
       "      <td>0</td>\n",
       "      <td>0</td>\n",
       "      <td>0</td>\n",
       "      <td>0</td>\n",
       "      <td>0</td>\n",
       "      <td>0</td>\n",
       "      <td>0</td>\n",
       "      <td>0</td>\n",
       "      <td>0</td>\n",
       "      <td>0</td>\n",
       "      <td>0</td>\n",
       "      <td>0</td>\n",
       "      <td>0</td>\n",
       "      <td>0</td>\n",
       "      <td>0</td>\n",
       "      <td>0</td>\n",
       "      <td>1</td>\n",
       "      <td>0</td>\n",
       "      <td>0</td>\n",
       "      <td>0</td>\n",
       "      <td>0</td>\n",
       "      <td>0</td>\n",
       "      <td>0</td>\n",
       "      <td>0</td>\n",
       "      <td>0</td>\n",
       "      <td>0</td>\n",
       "      <td>0</td>\n",
       "      <td>0</td>\n",
       "      <td>0</td>\n",
       "      <td>0</td>\n",
       "      <td>0</td>\n",
       "      <td>0</td>\n",
       "      <td>0</td>\n",
       "      <td>...</td>\n",
       "      <td>45</td>\n",
       "      <td>45</td>\n",
       "      <td>45</td>\n",
       "      <td>45</td>\n",
       "      <td>45</td>\n",
       "      <td>45</td>\n",
       "      <td>45</td>\n",
       "      <td>45</td>\n",
       "      <td>45</td>\n",
       "      <td>45</td>\n",
       "      <td>45</td>\n",
       "      <td>45</td>\n",
       "      <td>45</td>\n",
       "      <td>45</td>\n",
       "      <td>45</td>\n",
       "      <td>45</td>\n",
       "      <td>45</td>\n",
       "      <td>45</td>\n",
       "      <td>45</td>\n",
       "      <td>45</td>\n",
       "      <td>45</td>\n",
       "      <td>45</td>\n",
       "      <td>45</td>\n",
       "      <td>45</td>\n",
       "      <td>45</td>\n",
       "      <td>45</td>\n",
       "      <td>45</td>\n",
       "      <td>45</td>\n",
       "      <td>45</td>\n",
       "      <td>45</td>\n",
       "      <td>45</td>\n",
       "      <td>45</td>\n",
       "      <td>45</td>\n",
       "      <td>45</td>\n",
       "      <td>45</td>\n",
       "      <td>45</td>\n",
       "      <td>45</td>\n",
       "      <td>45</td>\n",
       "      <td>45</td>\n",
       "      <td>45</td>\n",
       "    </tr>\n",
       "    <tr>\n",
       "      <th>3</th>\n",
       "      <td>0</td>\n",
       "      <td>0</td>\n",
       "      <td>0</td>\n",
       "      <td>0</td>\n",
       "      <td>0</td>\n",
       "      <td>0</td>\n",
       "      <td>0</td>\n",
       "      <td>0</td>\n",
       "      <td>0</td>\n",
       "      <td>0</td>\n",
       "      <td>0</td>\n",
       "      <td>0</td>\n",
       "      <td>0</td>\n",
       "      <td>0</td>\n",
       "      <td>0</td>\n",
       "      <td>0</td>\n",
       "      <td>0</td>\n",
       "      <td>0</td>\n",
       "      <td>0</td>\n",
       "      <td>0</td>\n",
       "      <td>0</td>\n",
       "      <td>0</td>\n",
       "      <td>0</td>\n",
       "      <td>1</td>\n",
       "      <td>0</td>\n",
       "      <td>0</td>\n",
       "      <td>0</td>\n",
       "      <td>0</td>\n",
       "      <td>0</td>\n",
       "      <td>0</td>\n",
       "      <td>0</td>\n",
       "      <td>0</td>\n",
       "      <td>0</td>\n",
       "      <td>0</td>\n",
       "      <td>0</td>\n",
       "      <td>0</td>\n",
       "      <td>0</td>\n",
       "      <td>0</td>\n",
       "      <td>0</td>\n",
       "      <td>0</td>\n",
       "      <td>...</td>\n",
       "      <td>2</td>\n",
       "      <td>2</td>\n",
       "      <td>2</td>\n",
       "      <td>2</td>\n",
       "      <td>2</td>\n",
       "      <td>2</td>\n",
       "      <td>2</td>\n",
       "      <td>2</td>\n",
       "      <td>2</td>\n",
       "      <td>2</td>\n",
       "      <td>2</td>\n",
       "      <td>2</td>\n",
       "      <td>2</td>\n",
       "      <td>2</td>\n",
       "      <td>2</td>\n",
       "      <td>2</td>\n",
       "      <td>2</td>\n",
       "      <td>2</td>\n",
       "      <td>2</td>\n",
       "      <td>2</td>\n",
       "      <td>2</td>\n",
       "      <td>2</td>\n",
       "      <td>2</td>\n",
       "      <td>2</td>\n",
       "      <td>2</td>\n",
       "      <td>2</td>\n",
       "      <td>2</td>\n",
       "      <td>2</td>\n",
       "      <td>2</td>\n",
       "      <td>2</td>\n",
       "      <td>2</td>\n",
       "      <td>2</td>\n",
       "      <td>2</td>\n",
       "      <td>2</td>\n",
       "      <td>2</td>\n",
       "      <td>2</td>\n",
       "      <td>2</td>\n",
       "      <td>2</td>\n",
       "      <td>2</td>\n",
       "      <td>2</td>\n",
       "    </tr>\n",
       "    <tr>\n",
       "      <th>4</th>\n",
       "      <td>0</td>\n",
       "      <td>0</td>\n",
       "      <td>0</td>\n",
       "      <td>0</td>\n",
       "      <td>0</td>\n",
       "      <td>0</td>\n",
       "      <td>0</td>\n",
       "      <td>0</td>\n",
       "      <td>0</td>\n",
       "      <td>0</td>\n",
       "      <td>0</td>\n",
       "      <td>0</td>\n",
       "      <td>0</td>\n",
       "      <td>0</td>\n",
       "      <td>0</td>\n",
       "      <td>0</td>\n",
       "      <td>0</td>\n",
       "      <td>0</td>\n",
       "      <td>0</td>\n",
       "      <td>1</td>\n",
       "      <td>0</td>\n",
       "      <td>0</td>\n",
       "      <td>0</td>\n",
       "      <td>0</td>\n",
       "      <td>0</td>\n",
       "      <td>0</td>\n",
       "      <td>0</td>\n",
       "      <td>0</td>\n",
       "      <td>0</td>\n",
       "      <td>0</td>\n",
       "      <td>0</td>\n",
       "      <td>0</td>\n",
       "      <td>0</td>\n",
       "      <td>0</td>\n",
       "      <td>0</td>\n",
       "      <td>0</td>\n",
       "      <td>0</td>\n",
       "      <td>0</td>\n",
       "      <td>0</td>\n",
       "      <td>0</td>\n",
       "      <td>...</td>\n",
       "      <td>45</td>\n",
       "      <td>45</td>\n",
       "      <td>45</td>\n",
       "      <td>45</td>\n",
       "      <td>45</td>\n",
       "      <td>45</td>\n",
       "      <td>45</td>\n",
       "      <td>45</td>\n",
       "      <td>45</td>\n",
       "      <td>45</td>\n",
       "      <td>45</td>\n",
       "      <td>45</td>\n",
       "      <td>45</td>\n",
       "      <td>45</td>\n",
       "      <td>45</td>\n",
       "      <td>45</td>\n",
       "      <td>45</td>\n",
       "      <td>45</td>\n",
       "      <td>45</td>\n",
       "      <td>45</td>\n",
       "      <td>45</td>\n",
       "      <td>45</td>\n",
       "      <td>45</td>\n",
       "      <td>45</td>\n",
       "      <td>45</td>\n",
       "      <td>45</td>\n",
       "      <td>45</td>\n",
       "      <td>45</td>\n",
       "      <td>45</td>\n",
       "      <td>45</td>\n",
       "      <td>45</td>\n",
       "      <td>45</td>\n",
       "      <td>45</td>\n",
       "      <td>45</td>\n",
       "      <td>45</td>\n",
       "      <td>45</td>\n",
       "      <td>45</td>\n",
       "      <td>45</td>\n",
       "      <td>45</td>\n",
       "      <td>45</td>\n",
       "    </tr>\n",
       "    <tr>\n",
       "      <th>...</th>\n",
       "      <td>...</td>\n",
       "      <td>...</td>\n",
       "      <td>...</td>\n",
       "      <td>...</td>\n",
       "      <td>...</td>\n",
       "      <td>...</td>\n",
       "      <td>...</td>\n",
       "      <td>...</td>\n",
       "      <td>...</td>\n",
       "      <td>...</td>\n",
       "      <td>...</td>\n",
       "      <td>...</td>\n",
       "      <td>...</td>\n",
       "      <td>...</td>\n",
       "      <td>...</td>\n",
       "      <td>...</td>\n",
       "      <td>...</td>\n",
       "      <td>...</td>\n",
       "      <td>...</td>\n",
       "      <td>...</td>\n",
       "      <td>...</td>\n",
       "      <td>...</td>\n",
       "      <td>...</td>\n",
       "      <td>...</td>\n",
       "      <td>...</td>\n",
       "      <td>...</td>\n",
       "      <td>...</td>\n",
       "      <td>...</td>\n",
       "      <td>...</td>\n",
       "      <td>...</td>\n",
       "      <td>...</td>\n",
       "      <td>...</td>\n",
       "      <td>...</td>\n",
       "      <td>...</td>\n",
       "      <td>...</td>\n",
       "      <td>...</td>\n",
       "      <td>...</td>\n",
       "      <td>...</td>\n",
       "      <td>...</td>\n",
       "      <td>...</td>\n",
       "      <td>...</td>\n",
       "      <td>...</td>\n",
       "      <td>...</td>\n",
       "      <td>...</td>\n",
       "      <td>...</td>\n",
       "      <td>...</td>\n",
       "      <td>...</td>\n",
       "      <td>...</td>\n",
       "      <td>...</td>\n",
       "      <td>...</td>\n",
       "      <td>...</td>\n",
       "      <td>...</td>\n",
       "      <td>...</td>\n",
       "      <td>...</td>\n",
       "      <td>...</td>\n",
       "      <td>...</td>\n",
       "      <td>...</td>\n",
       "      <td>...</td>\n",
       "      <td>...</td>\n",
       "      <td>...</td>\n",
       "      <td>...</td>\n",
       "      <td>...</td>\n",
       "      <td>...</td>\n",
       "      <td>...</td>\n",
       "      <td>...</td>\n",
       "      <td>...</td>\n",
       "      <td>...</td>\n",
       "      <td>...</td>\n",
       "      <td>...</td>\n",
       "      <td>...</td>\n",
       "      <td>...</td>\n",
       "      <td>...</td>\n",
       "      <td>...</td>\n",
       "      <td>...</td>\n",
       "      <td>...</td>\n",
       "      <td>...</td>\n",
       "      <td>...</td>\n",
       "      <td>...</td>\n",
       "      <td>...</td>\n",
       "      <td>...</td>\n",
       "      <td>...</td>\n",
       "    </tr>\n",
       "    <tr>\n",
       "      <th>355343</th>\n",
       "      <td>0</td>\n",
       "      <td>0</td>\n",
       "      <td>0</td>\n",
       "      <td>0</td>\n",
       "      <td>0</td>\n",
       "      <td>0</td>\n",
       "      <td>0</td>\n",
       "      <td>0</td>\n",
       "      <td>0</td>\n",
       "      <td>0</td>\n",
       "      <td>0</td>\n",
       "      <td>1</td>\n",
       "      <td>0</td>\n",
       "      <td>0</td>\n",
       "      <td>0</td>\n",
       "      <td>0</td>\n",
       "      <td>0</td>\n",
       "      <td>0</td>\n",
       "      <td>0</td>\n",
       "      <td>0</td>\n",
       "      <td>0</td>\n",
       "      <td>0</td>\n",
       "      <td>0</td>\n",
       "      <td>0</td>\n",
       "      <td>0</td>\n",
       "      <td>0</td>\n",
       "      <td>0</td>\n",
       "      <td>0</td>\n",
       "      <td>0</td>\n",
       "      <td>0</td>\n",
       "      <td>0</td>\n",
       "      <td>0</td>\n",
       "      <td>0</td>\n",
       "      <td>0</td>\n",
       "      <td>0</td>\n",
       "      <td>0</td>\n",
       "      <td>0</td>\n",
       "      <td>0</td>\n",
       "      <td>0</td>\n",
       "      <td>0</td>\n",
       "      <td>...</td>\n",
       "      <td>64</td>\n",
       "      <td>64</td>\n",
       "      <td>64</td>\n",
       "      <td>64</td>\n",
       "      <td>64</td>\n",
       "      <td>64</td>\n",
       "      <td>64</td>\n",
       "      <td>64</td>\n",
       "      <td>64</td>\n",
       "      <td>64</td>\n",
       "      <td>64</td>\n",
       "      <td>64</td>\n",
       "      <td>64</td>\n",
       "      <td>64</td>\n",
       "      <td>64</td>\n",
       "      <td>64</td>\n",
       "      <td>64</td>\n",
       "      <td>64</td>\n",
       "      <td>64</td>\n",
       "      <td>64</td>\n",
       "      <td>64</td>\n",
       "      <td>64</td>\n",
       "      <td>64</td>\n",
       "      <td>64</td>\n",
       "      <td>64</td>\n",
       "      <td>64</td>\n",
       "      <td>64</td>\n",
       "      <td>64</td>\n",
       "      <td>64</td>\n",
       "      <td>64</td>\n",
       "      <td>64</td>\n",
       "      <td>64</td>\n",
       "      <td>64</td>\n",
       "      <td>64</td>\n",
       "      <td>64</td>\n",
       "      <td>64</td>\n",
       "      <td>64</td>\n",
       "      <td>64</td>\n",
       "      <td>64</td>\n",
       "      <td>64</td>\n",
       "    </tr>\n",
       "    <tr>\n",
       "      <th>355344</th>\n",
       "      <td>0</td>\n",
       "      <td>0</td>\n",
       "      <td>0</td>\n",
       "      <td>0</td>\n",
       "      <td>0</td>\n",
       "      <td>0</td>\n",
       "      <td>0</td>\n",
       "      <td>0</td>\n",
       "      <td>0</td>\n",
       "      <td>0</td>\n",
       "      <td>0</td>\n",
       "      <td>1</td>\n",
       "      <td>0</td>\n",
       "      <td>0</td>\n",
       "      <td>0</td>\n",
       "      <td>0</td>\n",
       "      <td>0</td>\n",
       "      <td>0</td>\n",
       "      <td>0</td>\n",
       "      <td>0</td>\n",
       "      <td>0</td>\n",
       "      <td>0</td>\n",
       "      <td>0</td>\n",
       "      <td>0</td>\n",
       "      <td>0</td>\n",
       "      <td>0</td>\n",
       "      <td>0</td>\n",
       "      <td>0</td>\n",
       "      <td>0</td>\n",
       "      <td>0</td>\n",
       "      <td>0</td>\n",
       "      <td>0</td>\n",
       "      <td>0</td>\n",
       "      <td>0</td>\n",
       "      <td>0</td>\n",
       "      <td>0</td>\n",
       "      <td>0</td>\n",
       "      <td>0</td>\n",
       "      <td>0</td>\n",
       "      <td>0</td>\n",
       "      <td>...</td>\n",
       "      <td>494</td>\n",
       "      <td>494</td>\n",
       "      <td>494</td>\n",
       "      <td>494</td>\n",
       "      <td>494</td>\n",
       "      <td>494</td>\n",
       "      <td>494</td>\n",
       "      <td>494</td>\n",
       "      <td>494</td>\n",
       "      <td>494</td>\n",
       "      <td>494</td>\n",
       "      <td>494</td>\n",
       "      <td>494</td>\n",
       "      <td>494</td>\n",
       "      <td>494</td>\n",
       "      <td>494</td>\n",
       "      <td>494</td>\n",
       "      <td>494</td>\n",
       "      <td>494</td>\n",
       "      <td>494</td>\n",
       "      <td>494</td>\n",
       "      <td>494</td>\n",
       "      <td>494</td>\n",
       "      <td>494</td>\n",
       "      <td>494</td>\n",
       "      <td>494</td>\n",
       "      <td>494</td>\n",
       "      <td>494</td>\n",
       "      <td>494</td>\n",
       "      <td>494</td>\n",
       "      <td>494</td>\n",
       "      <td>494</td>\n",
       "      <td>494</td>\n",
       "      <td>494</td>\n",
       "      <td>494</td>\n",
       "      <td>494</td>\n",
       "      <td>494</td>\n",
       "      <td>494</td>\n",
       "      <td>494</td>\n",
       "      <td>494</td>\n",
       "    </tr>\n",
       "    <tr>\n",
       "      <th>355345</th>\n",
       "      <td>0</td>\n",
       "      <td>0</td>\n",
       "      <td>0</td>\n",
       "      <td>0</td>\n",
       "      <td>0</td>\n",
       "      <td>0</td>\n",
       "      <td>0</td>\n",
       "      <td>0</td>\n",
       "      <td>0</td>\n",
       "      <td>0</td>\n",
       "      <td>0</td>\n",
       "      <td>1</td>\n",
       "      <td>0</td>\n",
       "      <td>0</td>\n",
       "      <td>0</td>\n",
       "      <td>0</td>\n",
       "      <td>0</td>\n",
       "      <td>0</td>\n",
       "      <td>0</td>\n",
       "      <td>0</td>\n",
       "      <td>0</td>\n",
       "      <td>0</td>\n",
       "      <td>0</td>\n",
       "      <td>0</td>\n",
       "      <td>0</td>\n",
       "      <td>0</td>\n",
       "      <td>0</td>\n",
       "      <td>0</td>\n",
       "      <td>0</td>\n",
       "      <td>0</td>\n",
       "      <td>0</td>\n",
       "      <td>0</td>\n",
       "      <td>0</td>\n",
       "      <td>0</td>\n",
       "      <td>0</td>\n",
       "      <td>0</td>\n",
       "      <td>0</td>\n",
       "      <td>0</td>\n",
       "      <td>0</td>\n",
       "      <td>0</td>\n",
       "      <td>...</td>\n",
       "      <td>64</td>\n",
       "      <td>64</td>\n",
       "      <td>64</td>\n",
       "      <td>64</td>\n",
       "      <td>64</td>\n",
       "      <td>64</td>\n",
       "      <td>64</td>\n",
       "      <td>64</td>\n",
       "      <td>64</td>\n",
       "      <td>64</td>\n",
       "      <td>64</td>\n",
       "      <td>64</td>\n",
       "      <td>64</td>\n",
       "      <td>64</td>\n",
       "      <td>64</td>\n",
       "      <td>64</td>\n",
       "      <td>64</td>\n",
       "      <td>64</td>\n",
       "      <td>64</td>\n",
       "      <td>64</td>\n",
       "      <td>64</td>\n",
       "      <td>64</td>\n",
       "      <td>64</td>\n",
       "      <td>64</td>\n",
       "      <td>64</td>\n",
       "      <td>64</td>\n",
       "      <td>64</td>\n",
       "      <td>64</td>\n",
       "      <td>64</td>\n",
       "      <td>64</td>\n",
       "      <td>64</td>\n",
       "      <td>64</td>\n",
       "      <td>64</td>\n",
       "      <td>64</td>\n",
       "      <td>64</td>\n",
       "      <td>64</td>\n",
       "      <td>64</td>\n",
       "      <td>64</td>\n",
       "      <td>64</td>\n",
       "      <td>64</td>\n",
       "    </tr>\n",
       "    <tr>\n",
       "      <th>355346</th>\n",
       "      <td>0</td>\n",
       "      <td>0</td>\n",
       "      <td>0</td>\n",
       "      <td>0</td>\n",
       "      <td>0</td>\n",
       "      <td>0</td>\n",
       "      <td>0</td>\n",
       "      <td>0</td>\n",
       "      <td>0</td>\n",
       "      <td>0</td>\n",
       "      <td>0</td>\n",
       "      <td>1</td>\n",
       "      <td>0</td>\n",
       "      <td>0</td>\n",
       "      <td>0</td>\n",
       "      <td>0</td>\n",
       "      <td>0</td>\n",
       "      <td>0</td>\n",
       "      <td>0</td>\n",
       "      <td>0</td>\n",
       "      <td>0</td>\n",
       "      <td>0</td>\n",
       "      <td>0</td>\n",
       "      <td>0</td>\n",
       "      <td>0</td>\n",
       "      <td>0</td>\n",
       "      <td>0</td>\n",
       "      <td>0</td>\n",
       "      <td>0</td>\n",
       "      <td>0</td>\n",
       "      <td>0</td>\n",
       "      <td>0</td>\n",
       "      <td>0</td>\n",
       "      <td>0</td>\n",
       "      <td>0</td>\n",
       "      <td>0</td>\n",
       "      <td>0</td>\n",
       "      <td>0</td>\n",
       "      <td>0</td>\n",
       "      <td>0</td>\n",
       "      <td>...</td>\n",
       "      <td>494</td>\n",
       "      <td>494</td>\n",
       "      <td>494</td>\n",
       "      <td>494</td>\n",
       "      <td>494</td>\n",
       "      <td>494</td>\n",
       "      <td>494</td>\n",
       "      <td>494</td>\n",
       "      <td>494</td>\n",
       "      <td>494</td>\n",
       "      <td>494</td>\n",
       "      <td>494</td>\n",
       "      <td>494</td>\n",
       "      <td>494</td>\n",
       "      <td>494</td>\n",
       "      <td>494</td>\n",
       "      <td>494</td>\n",
       "      <td>494</td>\n",
       "      <td>494</td>\n",
       "      <td>494</td>\n",
       "      <td>494</td>\n",
       "      <td>494</td>\n",
       "      <td>494</td>\n",
       "      <td>494</td>\n",
       "      <td>494</td>\n",
       "      <td>494</td>\n",
       "      <td>494</td>\n",
       "      <td>494</td>\n",
       "      <td>494</td>\n",
       "      <td>494</td>\n",
       "      <td>494</td>\n",
       "      <td>494</td>\n",
       "      <td>494</td>\n",
       "      <td>494</td>\n",
       "      <td>494</td>\n",
       "      <td>494</td>\n",
       "      <td>494</td>\n",
       "      <td>494</td>\n",
       "      <td>494</td>\n",
       "      <td>494</td>\n",
       "    </tr>\n",
       "    <tr>\n",
       "      <th>355347</th>\n",
       "      <td>0</td>\n",
       "      <td>0</td>\n",
       "      <td>0</td>\n",
       "      <td>0</td>\n",
       "      <td>0</td>\n",
       "      <td>0</td>\n",
       "      <td>0</td>\n",
       "      <td>0</td>\n",
       "      <td>0</td>\n",
       "      <td>0</td>\n",
       "      <td>0</td>\n",
       "      <td>1</td>\n",
       "      <td>0</td>\n",
       "      <td>0</td>\n",
       "      <td>0</td>\n",
       "      <td>0</td>\n",
       "      <td>0</td>\n",
       "      <td>0</td>\n",
       "      <td>0</td>\n",
       "      <td>0</td>\n",
       "      <td>0</td>\n",
       "      <td>0</td>\n",
       "      <td>0</td>\n",
       "      <td>0</td>\n",
       "      <td>0</td>\n",
       "      <td>0</td>\n",
       "      <td>0</td>\n",
       "      <td>0</td>\n",
       "      <td>0</td>\n",
       "      <td>0</td>\n",
       "      <td>0</td>\n",
       "      <td>0</td>\n",
       "      <td>0</td>\n",
       "      <td>0</td>\n",
       "      <td>0</td>\n",
       "      <td>0</td>\n",
       "      <td>0</td>\n",
       "      <td>0</td>\n",
       "      <td>0</td>\n",
       "      <td>0</td>\n",
       "      <td>...</td>\n",
       "      <td>64</td>\n",
       "      <td>64</td>\n",
       "      <td>64</td>\n",
       "      <td>64</td>\n",
       "      <td>64</td>\n",
       "      <td>64</td>\n",
       "      <td>64</td>\n",
       "      <td>64</td>\n",
       "      <td>64</td>\n",
       "      <td>64</td>\n",
       "      <td>64</td>\n",
       "      <td>64</td>\n",
       "      <td>64</td>\n",
       "      <td>64</td>\n",
       "      <td>64</td>\n",
       "      <td>64</td>\n",
       "      <td>64</td>\n",
       "      <td>64</td>\n",
       "      <td>64</td>\n",
       "      <td>64</td>\n",
       "      <td>64</td>\n",
       "      <td>64</td>\n",
       "      <td>64</td>\n",
       "      <td>64</td>\n",
       "      <td>64</td>\n",
       "      <td>64</td>\n",
       "      <td>64</td>\n",
       "      <td>64</td>\n",
       "      <td>64</td>\n",
       "      <td>64</td>\n",
       "      <td>64</td>\n",
       "      <td>64</td>\n",
       "      <td>64</td>\n",
       "      <td>64</td>\n",
       "      <td>64</td>\n",
       "      <td>64</td>\n",
       "      <td>64</td>\n",
       "      <td>64</td>\n",
       "      <td>64</td>\n",
       "      <td>64</td>\n",
       "    </tr>\n",
       "  </tbody>\n",
       "</table>\n",
       "<p>355348 rows × 180 columns</p>\n",
       "</div>"
      ],
      "text/plain": [
       "        RESOLUTION_IN COMPLIANCE  ...  CODE SECTION_Water Systems\n",
       "0                              0  ...                          45\n",
       "1                              0  ...                           2\n",
       "2                              0  ...                          45\n",
       "3                              0  ...                           2\n",
       "4                              0  ...                          45\n",
       "...                          ...  ...                         ...\n",
       "355343                         0  ...                          64\n",
       "355344                         0  ...                         494\n",
       "355345                         0  ...                          64\n",
       "355346                         0  ...                         494\n",
       "355347                         0  ...                          64\n",
       "\n",
       "[355348 rows x 180 columns]"
      ]
     },
     "execution_count": 320,
     "metadata": {
      "tags": []
     },
     "output_type": "execute_result"
    }
   ],
   "source": [
    "X1"
   ]
  },
  {
   "cell_type": "code",
   "execution_count": 0,
   "metadata": {
    "colab": {
     "base_uri": "https://localhost:8080/",
     "height": 136
    },
    "colab_type": "code",
    "collapsed": false,
    "id": "WxBw4gFUIXX0",
    "outputId": "2d89f478-a6e6-464a-c626-78715c92f632"
   },
   "outputs": [
    {
     "data": {
      "text/plain": [
       "RandomForestRegressor(bootstrap=True, ccp_alpha=0.0, criterion='mse',\n",
       "                      max_depth=None, max_features='auto', max_leaf_nodes=None,\n",
       "                      max_samples=None, min_impurity_decrease=0.0,\n",
       "                      min_impurity_split=None, min_samples_leaf=1,\n",
       "                      min_samples_split=2, min_weight_fraction_leaf=0.0,\n",
       "                      n_estimators=600, n_jobs=None, oob_score=False,\n",
       "                      random_state=None, verbose=0, warm_start=False)"
      ]
     },
     "execution_count": 321,
     "metadata": {
      "tags": []
     },
     "output_type": "execute_result"
    }
   ],
   "source": [
    "from sklearn.ensemble import RandomForestRegressor\n",
    "rfc = RandomForestRegressor(n_estimators=600)\n",
    "rfc.fit(X1_train,y1_train)"
   ]
  },
  {
   "cell_type": "code",
   "execution_count": 0,
   "metadata": {
    "colab": {},
    "colab_type": "code",
    "collapsed": true,
    "id": "kqHVaiNCJyrj"
   },
   "outputs": [],
   "source": [
    "y1_pred = rfc.predict(X1_test)"
   ]
  },
  {
   "cell_type": "code",
   "execution_count": 0,
   "metadata": {
    "colab": {
     "base_uri": "https://localhost:8080/",
     "height": 68
    },
    "colab_type": "code",
    "collapsed": false,
    "id": "XBfaBO_vKI1I",
    "outputId": "d16d1924-8d53-49d6-dc42-e69740507930"
   },
   "outputs": [
    {
     "name": "stdout",
     "output_type": "stream",
     "text": [
      "Mean Absolute Error: 1.61212336177712\n",
      "Mean Squared Error: 26.998025445093678\n",
      "Root Mean Squared Error: 5.195962417598272\n"
     ]
    }
   ],
   "source": [
    "from sklearn import metrics\n",
    "print('Mean Absolute Error:', metrics.mean_absolute_error(y1_test, y1_pred))\n",
    "print('Mean Squared Error:', metrics.mean_squared_error(y1_test, y1_pred))\n",
    "print('Root Mean Squared Error:', np.sqrt(metrics.mean_squared_error(y1_test, y1_pred)))"
   ]
  },
  {
   "cell_type": "code",
   "execution_count": 0,
   "metadata": {
    "colab": {
     "base_uri": "https://localhost:8080/",
     "height": 359
    },
    "colab_type": "code",
    "collapsed": false,
    "id": "WwT4bUZms3iT",
    "outputId": "db294c26-e707-4dcd-f5c0-5d7ffd29a35f"
   },
   "outputs": [
    {
     "data": {
      "text/html": [
       "<div>\n",
       "<style scoped>\n",
       "    .dataframe tbody tr th:only-of-type {\n",
       "        vertical-align: middle;\n",
       "    }\n",
       "\n",
       "    .dataframe tbody tr th {\n",
       "        vertical-align: top;\n",
       "    }\n",
       "\n",
       "    .dataframe thead th {\n",
       "        text-align: right;\n",
       "    }\n",
       "</style>\n",
       "<table border=\"1\" class=\"dataframe\">\n",
       "  <thead>\n",
       "    <tr style=\"text-align: right;\">\n",
       "      <th></th>\n",
       "      <th>0</th>\n",
       "    </tr>\n",
       "  </thead>\n",
       "  <tbody>\n",
       "    <tr>\n",
       "      <th>CODE SECTION_Means of Egress Illumination</th>\n",
       "      <td>0.006175</td>\n",
       "    </tr>\n",
       "    <tr>\n",
       "      <th>CODE SECTION_Drain Pipe Materials and Sizes</th>\n",
       "      <td>0.006306</td>\n",
       "    </tr>\n",
       "    <tr>\n",
       "      <th>CODE SECTION_Open Burning</th>\n",
       "      <td>0.006357</td>\n",
       "    </tr>\n",
       "    <tr>\n",
       "      <th>CODE SECTION_Plumbing Facilities and Fixture Requirements</th>\n",
       "      <td>0.006386</td>\n",
       "    </tr>\n",
       "    <tr>\n",
       "      <th>CODE SECTION_Liquefied Petroleum Gases</th>\n",
       "      <td>0.006395</td>\n",
       "    </tr>\n",
       "    <tr>\n",
       "      <th>CODE SECTION_Uses</th>\n",
       "      <td>0.006628</td>\n",
       "    </tr>\n",
       "    <tr>\n",
       "      <th>CODE SECTION_Buffalo Ordinance</th>\n",
       "      <td>0.007313</td>\n",
       "    </tr>\n",
       "    <tr>\n",
       "      <th>RESOLUTION_CONDITIONAL DISCHARGE</th>\n",
       "      <td>0.012581</td>\n",
       "    </tr>\n",
       "    <tr>\n",
       "      <th>ALTERNATE PARKING</th>\n",
       "      <td>0.062930</td>\n",
       "    </tr>\n",
       "    <tr>\n",
       "      <th>RESOLUTION_DEFENDANT FINED</th>\n",
       "      <td>0.219449</td>\n",
       "    </tr>\n",
       "  </tbody>\n",
       "</table>\n",
       "</div>"
      ],
      "text/plain": [
       "                                                           0\n",
       "CODE SECTION_Means of Egress Illumination           0.006175\n",
       "CODE SECTION_Drain Pipe Materials and Sizes         0.006306\n",
       "CODE SECTION_Open Burning                           0.006357\n",
       "CODE SECTION_Plumbing Facilities and Fixture Re...  0.006386\n",
       "CODE SECTION_Liquefied Petroleum Gases              0.006395\n",
       "CODE SECTION_Uses                                   0.006628\n",
       "CODE SECTION_Buffalo Ordinance                      0.007313\n",
       "RESOLUTION_CONDITIONAL DISCHARGE                    0.012581\n",
       "ALTERNATE PARKING                                   0.062930\n",
       "RESOLUTION_DEFENDANT FINED                          0.219449"
      ]
     },
     "execution_count": 324,
     "metadata": {
      "tags": []
     },
     "output_type": "execute_result"
    }
   ],
   "source": [
    "pd.DataFrame(rfc.feature_importances_, X1_train.columns).sort_values(by=0).tail(10)"
   ]
  },
  {
   "cell_type": "code",
   "execution_count": 0,
   "metadata": {
    "colab": {
     "base_uri": "https://localhost:8080/",
     "height": 359
    },
    "colab_type": "code",
    "collapsed": false,
    "id": "rodwU3yvKXrH",
    "outputId": "01a2aed5-032c-4e91-df2d-dac18790fcb9"
   },
   "outputs": [
    {
     "data": {
      "text/html": [
       "<div>\n",
       "<style scoped>\n",
       "    .dataframe tbody tr th:only-of-type {\n",
       "        vertical-align: middle;\n",
       "    }\n",
       "\n",
       "    .dataframe tbody tr th {\n",
       "        vertical-align: top;\n",
       "    }\n",
       "\n",
       "    .dataframe thead th {\n",
       "        text-align: right;\n",
       "    }\n",
       "</style>\n",
       "<table border=\"1\" class=\"dataframe\">\n",
       "  <thead>\n",
       "    <tr style=\"text-align: right;\">\n",
       "      <th></th>\n",
       "      <th>Actual</th>\n",
       "      <th>Predicted</th>\n",
       "    </tr>\n",
       "  </thead>\n",
       "  <tbody>\n",
       "    <tr>\n",
       "      <th>315851</th>\n",
       "      <td>57</td>\n",
       "      <td>57.000000</td>\n",
       "    </tr>\n",
       "    <tr>\n",
       "      <th>27906</th>\n",
       "      <td>26</td>\n",
       "      <td>26.000000</td>\n",
       "    </tr>\n",
       "    <tr>\n",
       "      <th>124140</th>\n",
       "      <td>18</td>\n",
       "      <td>18.000000</td>\n",
       "    </tr>\n",
       "    <tr>\n",
       "      <th>235243</th>\n",
       "      <td>32</td>\n",
       "      <td>23.246206</td>\n",
       "    </tr>\n",
       "    <tr>\n",
       "      <th>345938</th>\n",
       "      <td>12</td>\n",
       "      <td>12.000000</td>\n",
       "    </tr>\n",
       "    <tr>\n",
       "      <th>223956</th>\n",
       "      <td>44</td>\n",
       "      <td>44.000000</td>\n",
       "    </tr>\n",
       "    <tr>\n",
       "      <th>154293</th>\n",
       "      <td>22</td>\n",
       "      <td>24.091442</td>\n",
       "    </tr>\n",
       "    <tr>\n",
       "      <th>76389</th>\n",
       "      <td>2</td>\n",
       "      <td>4.670887</td>\n",
       "    </tr>\n",
       "    <tr>\n",
       "      <th>321230</th>\n",
       "      <td>55</td>\n",
       "      <td>55.000000</td>\n",
       "    </tr>\n",
       "    <tr>\n",
       "      <th>297501</th>\n",
       "      <td>53</td>\n",
       "      <td>38.798904</td>\n",
       "    </tr>\n",
       "  </tbody>\n",
       "</table>\n",
       "</div>"
      ],
      "text/plain": [
       "        Actual  Predicted\n",
       "315851      57  57.000000\n",
       "27906       26  26.000000\n",
       "124140      18  18.000000\n",
       "235243      32  23.246206\n",
       "345938      12  12.000000\n",
       "223956      44  44.000000\n",
       "154293      22  24.091442\n",
       "76389        2   4.670887\n",
       "321230      55  55.000000\n",
       "297501      53  38.798904"
      ]
     },
     "execution_count": 325,
     "metadata": {
      "tags": []
     },
     "output_type": "execute_result"
    }
   ],
   "source": [
    "df=pd.DataFrame({'Actual':y1_test, 'Predicted':y1_pred})\n",
    "df.head(10)"
   ]
  },
  {
   "cell_type": "code",
   "execution_count": 0,
   "metadata": {
    "colab": {},
    "colab_type": "code",
    "collapsed": true,
    "id": "w-_hEQJPoiYv"
   },
   "outputs": [],
   "source": []
  }
 ],
 "metadata": {
  "accelerator": "GPU",
  "colab": {
   "collapsed_sections": [],
   "machine_shape": "hm",
   "name": "Neighbourhood Project.ipynb",
   "provenance": []
  },
  "kernelspec": {
   "display_name": "Python 3",
   "language": "python",
   "name": "python3"
  },
  "language_info": {
   "codemirror_mode": {
    "name": "ipython",
    "version": 3
   },
   "file_extension": ".py",
   "mimetype": "text/x-python",
   "name": "python",
   "nbconvert_exporter": "python",
   "pygments_lexer": "ipython3",
   "version": "3.7.4"
  }
 },
 "nbformat": 4,
 "nbformat_minor": 1
}
